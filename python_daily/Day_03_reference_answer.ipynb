{
 "cells": [
  {
   "cell_type": "markdown",
   "metadata": {},
   "source": [
    "# Question 9\n",
    "\n",
    "### **Question**\n",
    "\n",
    "> **_Write a program that accepts a sequence of whitespace separated words as input and prints the words after removing all duplicate words and sorting them alphanumerically._**\n",
    "\n",
    "> **_Suppose the following input is supplied to the program:_**\n",
    "\n",
    "hello world and practice makes perfect and hello world again\n",
    "\n",
    "> **_Then, the output should be:_**\n",
    "\n",
    "again and hello makes perfect practice world\n",
    "\n",
    "---\n",
    "\n",
    "### Hints:\n",
    "\n",
    "> **_In case of input data being supplied to the question, it should be assumed to be a console input.We use set container to remove duplicated data automatically and then use sorted() to sort the data._**\n",
    "\n",
    "---\n",
    "\n",
    "**Solutions:**"
   ]
  },
  {
   "cell_type": "code",
   "execution_count": null,
   "metadata": {},
   "outputs": [],
   "source": [
    "word = input().split()\n",
    "\n",
    "for i in word:\n",
    "    if (\n",
    "        word.count(i) > 1\n",
    "    ):  # count function returns total repeatation of an element that is send as argument\n",
    "        word.remove(i)  # removes exactly one element per call\n",
    "\n",
    "word.sort()\n",
    "print(\" \".join(word))"
   ]
  },
  {
   "cell_type": "markdown",
   "metadata": {},
   "source": [
    "**OR**"
   ]
  },
  {
   "cell_type": "code",
   "execution_count": null,
   "metadata": {},
   "outputs": [],
   "source": [
    "word = input().split()\n",
    "[\n",
    "    word.remove(i) for i in word if word.count(i) > 1\n",
    "]  # removal operation with comprehension method\n",
    "word.sort()\n",
    "print(\" \".join(word))"
   ]
  },
  {
   "cell_type": "markdown",
   "metadata": {},
   "source": [
    "**OR**"
   ]
  },
  {
   "cell_type": "code",
   "execution_count": null,
   "metadata": {},
   "outputs": [],
   "source": [
    "word = sorted(\n",
    "    list(set(input().split()))\n",
    ")  #  input string splits -> converting into set() to store unique\n",
    "#  element -> converting into list to be able to apply sort\n",
    "print(\" \".join(word))"
   ]
  },
  {
   "cell_type": "markdown",
   "metadata": {},
   "source": [
    "---\n",
    "\n",
    "# Question 10\n",
    "\n",
    "### **Question**\n",
    "\n",
    "> **_Write a program which accepts a sequence of comma separated 4 digit binary numbers as its input and then check whether they are divisible by 5 or not. The numbers that are divisible by 5 are to be printed in a comma separated sequence._**\n",
    "\n",
    "> **_Example:_**\n",
    "\n",
    "0100,0011,1010,1001\n",
    "\n",
    "> **_Then the output should be:_**\n",
    "\n",
    "1010\n",
    "\n",
    "> **_Notes: Assume the data is input by console._**\n",
    "\n",
    "---\n",
    "\n",
    "### Hints:\n",
    "\n",
    "> **_In case of input data being supplied to the question, it should be assumed to be a console input._**\n",
    "\n",
    "---\n",
    "\n",
    "**Solutions:**"
   ]
  },
  {
   "cell_type": "code",
   "execution_count": null,
   "metadata": {},
   "outputs": [],
   "source": [
    "def check(x):  # converts binary to integer & returns zero if divisible by 5\n",
    "    total, pw = 0, 1\n",
    "    reversed(x)\n",
    "\n",
    "    for i in x:\n",
    "        total += pw * (ord(i) - 48)  # ord() function returns ASCII value\n",
    "        pw *= 2\n",
    "    return total % 5\n",
    "\n",
    "\n",
    "data = input().split(\",\")  # inputs taken here and splited in ',' position\n",
    "lst = []\n",
    "\n",
    "for i in data:\n",
    "    if check(i) == 0:  # if zero found it means divisible by zero and added to the list\n",
    "        lst.append(i)\n",
    "\n",
    "print(\",\".join(lst))"
   ]
  },
  {
   "cell_type": "markdown",
   "metadata": {},
   "source": [
    "**OR**"
   ]
  },
  {
   "cell_type": "code",
   "execution_count": null,
   "metadata": {},
   "outputs": [],
   "source": [
    "def check(x):  # check function returns true if divisible by 5\n",
    "    return int(x, 2) % 5 == 0  # int(x,b) takes x as string and b as base from which\n",
    "    # it will be converted to decimal\n",
    "\n",
    "\n",
    "data = input().split(\",\")\n",
    "\n",
    "data = list(\n",
    "    filter(check, data)\n",
    ")  # in filter(func,object) function, elements are picked from 'data' if found True by 'check' function\n",
    "print(\",\".join(data))"
   ]
  },
  {
   "cell_type": "markdown",
   "metadata": {},
   "source": [
    "**OR**"
   ]
  },
  {
   "cell_type": "code",
   "execution_count": null,
   "metadata": {},
   "outputs": [],
   "source": [
    "data = input().split(\",\")\n",
    "data = list(\n",
    "    filter(lambda i: int(i, 2) % 5 == 0, data)\n",
    ")  # lambda is an operator that helps to write function of one line\n",
    "print(\",\".join(data))"
   ]
  },
  {
   "cell_type": "markdown",
   "metadata": {},
   "source": [
    "---\n",
    "\n",
    "# Question 11\n",
    "\n",
    "### **Question:**\n",
    "\n",
    "> **_Write a program, which will find all such numbers between 1000 and 3000 (both included) such that each digit of the number is an even number.The numbers obtained should be printed in a comma-separated sequence on a single line._**\n",
    "\n",
    "---\n",
    "\n",
    "### Hints:\n",
    "\n",
    "> **_In case of input data being supplied to the question, it should be assumed to be a console input._**\n",
    "\n",
    "---\n",
    "\n",
    "**Solutions:**"
   ]
  },
  {
   "cell_type": "code",
   "execution_count": 1,
   "metadata": {
    "ExecuteTime": {
     "end_time": "2020-12-04T03:37:52.033995Z",
     "start_time": "2020-12-04T03:37:52.025046Z"
    }
   },
   "outputs": [
    {
     "name": "stdout",
     "output_type": "stream",
     "text": [
      "2000,2002,2004,2006,2008,2020,2022,2024,2026,2028,2040,2042,2044,2046,2048,2060,2062,2064,2066,2068,2080,2082,2084,2086,2088,2200,2202,2204,2206,2208,2220,2222,2224,2226,2228,2240,2242,2244,2246,2248,2260,2262,2264,2266,2268,2280,2282,2284,2286,2288,2400,2402,2404,2406,2408,2420,2422,2424,2426,2428,2440,2442,2444,2446,2448,2460,2462,2464,2466,2468,2480,2482,2484,2486,2488,2600,2602,2604,2606,2608,2620,2622,2624,2626,2628,2640,2642,2644,2646,2648,2660,2662,2664,2666,2668,2680,2682,2684,2686,2688,2800,2802,2804,2806,2808,2820,2822,2824,2826,2828,2840,2842,2844,2846,2848,2860,2862,2864,2866,2868,2880,2882,2884,2886,2888\n"
     ]
    }
   ],
   "source": [
    "lst = []\n",
    "\n",
    "for i in range(1000, 3001):\n",
    "    flag = 1\n",
    "    for j in str(i):  # every integer number i is converted into string\n",
    "        if ord(j) % 2 != 0:  # ord returns ASCII value and j is every digit of i\n",
    "            flag = 0  # flag becomes zero if any odd digit found\n",
    "    if flag == 1:\n",
    "        lst.append(str(i))  # i is stored in list as string\n",
    "\n",
    "print(\",\".join(lst))"
   ]
  },
  {
   "cell_type": "markdown",
   "metadata": {},
   "source": [
    "**OR**"
   ]
  },
  {
   "cell_type": "code",
   "execution_count": null,
   "metadata": {},
   "outputs": [],
   "source": [
    "def check(element):\n",
    "    return all(\n",
    "        ord(i) % 2 == 0 for i in element\n",
    "    )  # all returns True if all digits i is even in element\n",
    "\n",
    "\n",
    "lst = [\n",
    "    str(i) for i in range(1000, 3001)\n",
    "]  # creates list of all given numbers with string data type\n",
    "lst = list(\n",
    "    filter(check, lst)\n",
    ")  # filter removes element from list if check condition fails\n",
    "print(\",\".join(lst))"
   ]
  },
  {
   "cell_type": "markdown",
   "metadata": {},
   "source": [
    "**OR**"
   ]
  },
  {
   "cell_type": "code",
   "execution_count": null,
   "metadata": {},
   "outputs": [],
   "source": [
    "lst = [str(i) for i in range(1000, 3001)]\n",
    "lst = list(\n",
    "    filter(lambda i: all(ord(j) % 2 == 0 for j in i), lst)\n",
    ")  # using lambda to define function inside filter function\n",
    "print(\",\".join(lst))"
   ]
  },
  {
   "cell_type": "markdown",
   "metadata": {},
   "source": [
    "---\n",
    "\n",
    "# Question 12\n",
    "\n",
    "### **Question:**\n",
    "\n",
    "> **_Write a program that accepts a sentence and calculate the number of letters and digits._**\n",
    "\n",
    "> **_Suppose the following input is supplied to the program:_**\n",
    "\n",
    "hello world! 123\n",
    "\n",
    "> **_Then, the output should be:_**\n",
    "\n",
    "LETTERS 10\n",
    "\n",
    "DIGITS 3\n",
    "\n",
    "---\n",
    "\n",
    "### Hints:\n",
    "\n",
    "> **_In case of input data being supplied to the question, it should be assumed to be a console input._**\n",
    "\n",
    "---\n",
    "\n",
    "**Solutions:**"
   ]
  },
  {
   "cell_type": "code",
   "execution_count": null,
   "metadata": {},
   "outputs": [],
   "source": [
    "word = input()\n",
    "letter, digit = 0, 0\n",
    "\n",
    "for i in word:\n",
    "    if (\"a\" <= i and i <= \"z\") or (\"A\" <= i and i <= \"Z\"):\n",
    "        letter += 1\n",
    "    if \"0\" <= i and i <= \"9\":\n",
    "        digit += 1\n",
    "\n",
    "print(\"LETTERS {0}\\nDIGITS {1}\".format(letter, digit))"
   ]
  },
  {
   "cell_type": "markdown",
   "metadata": {},
   "source": [
    "**OR**"
   ]
  },
  {
   "cell_type": "code",
   "execution_count": null,
   "metadata": {},
   "outputs": [],
   "source": [
    "word = input()\n",
    "letter, digit = 0, 0\n",
    "\n",
    "for i in word:\n",
    "    if i.isalpha():  # returns True if alphabet\n",
    "        letter += 1\n",
    "    elif i.isnumeric():  # returns True if numeric\n",
    "        digit += 1\n",
    "print(\n",
    "    f\"LETTERS {letter}\\n{digits}\"\n",
    ")  # two different types of formating method is shown in both solution"
   ]
  },
  {
   "cell_type": "markdown",
   "metadata": {},
   "source": [
    "# Question 13\n",
    "\n",
    "### **Question:**\n",
    "\n",
    "> **_Write a program that accepts a sentence and calculate the number of upper case letters and lower case letters._**\n",
    "\n",
    "> **_Suppose the following input is supplied to the program:_**\n",
    "\n",
    "\n",
    "Hello world!\n",
    "\n",
    "\n",
    "> **_Then, the output should be:_**\n",
    "\n",
    "\n",
    "UPPER CASE 1\n",
    "\n",
    "LOWER CASE 9\n",
    "\n",
    "\n",
    "---\n",
    "\n",
    "### Hints:\n",
    "\n",
    "> **_In case of input data being supplied to the question, it should be assumed to be a console input._**\n",
    "\n",
    "---\n",
    "\n",
    "\n",
    "\n",
    "**Solutions:**"
   ]
  },
  {
   "cell_type": "code",
   "execution_count": null,
   "metadata": {},
   "outputs": [],
   "source": [
    "word = input()\n",
    "upper, lower = 0, 0\n",
    "\n",
    "for i in word:\n",
    "    if \"a\" <= i and i <= \"z\":\n",
    "        lower += 1\n",
    "    if \"A\" <= i and i <= \"Z\":\n",
    "        upper += 1\n",
    "\n",
    "print(\"UPPER CASE {0}\\nLOWER CASE {1}\".format(upper, lower))"
   ]
  },
  {
   "cell_type": "code",
   "execution_count": null,
   "metadata": {},
   "outputs": [],
   "source": [
    "word = input()\n",
    "upper, lower = 0, 0\n",
    "\n",
    "for i in word:\n",
    "    lower += i.islower()\n",
    "    upper += i.isupper()\n",
    "\n",
    "print(\"UPPER CASE {0}\\nLOWER CASE {1}\".format(upper, lower))"
   ]
  },
  {
   "cell_type": "code",
   "execution_count": null,
   "metadata": {},
   "outputs": [],
   "source": [
    "word = input()\n",
    "upper = sum(\n",
    "    1 for i in word if i.isupper()\n",
    ")  # sum function cumulatively sum up 1's if the condition is True\n",
    "lower = sum(1 for i in word if i.islower())\n",
    "\n",
    "print(\"UPPER CASE {0}\\nLOWER CASE {1}\".format(upper, lower))"
   ]
  },
  {
   "cell_type": "code",
   "execution_count": null,
   "metadata": {},
   "outputs": [],
   "source": [
    "# solution by Amitewu\n",
    "\n",
    "string = input(\"Enter the sentense\")\n",
    "upper = 0\n",
    "lower = 0\n",
    "for x in string:\n",
    "    if x.isupper() == True:\n",
    "        upper += 1\n",
    "    if x.islower() == True:\n",
    "        lower += 1\n",
    "\n",
    "print(\"UPPER CASE: \", upper)\n",
    "print(\"LOWER CASE: \", lower)"
   ]
  },
  {
   "cell_type": "markdown",
   "metadata": {},
   "source": [
    "---\n",
    "\n",
    "# Question 15\n",
    "\n",
    "### **Question:**\n",
    "\n",
    "> **_Write a program that computes the value of a+aa+aaa+aaaa with a given digit as the value of a._**\n",
    "\n",
    "> **_Suppose the following input is supplied to the program:_**\n",
    "\n",
    "\n",
    "9\n",
    "\n",
    "\n",
    "> **_Then, the output should be:_**\n",
    "\n",
    "\n",
    "11106\n",
    "\n",
    "\n",
    "---\n",
    "\n",
    "### Hints:\n",
    "\n",
    "> **_In case of input data being supplied to the question, it should be assumed to be a console input._**\n",
    "\n",
    "---\n",
    "\n",
    "\n",
    "\n",
    "**Solutions:**"
   ]
  },
  {
   "cell_type": "code",
   "execution_count": null,
   "metadata": {},
   "outputs": [],
   "source": [
    "a = input()\n",
    "total, tmp = 0, str()  # initialing an integer and empty string\n",
    "\n",
    "for i in range(4):\n",
    "    tmp += a  # concatenating 'a' to 'tmp'\n",
    "    total += int(tmp)  # converting string type to integer type\n",
    "\n",
    "print(total)"
   ]
  },
  {
   "cell_type": "code",
   "execution_count": null,
   "metadata": {},
   "outputs": [],
   "source": [
    "a = input()\n",
    "total = int(a) + int(2*a) + int(3*a) + int(4*a)  # N*a=Na, for example  a=\"23\", 2*a=\"2323\",3*a=\"232323\"\n",
    "print(total)"
   ]
  }
 ],
 "metadata": {
  "kernelspec": {
   "display_name": "Python 3",
   "language": "python",
   "name": "python3"
  },
  "language_info": {
   "codemirror_mode": {
    "name": "ipython",
    "version": 3
   },
   "file_extension": ".py",
   "mimetype": "text/x-python",
   "name": "python",
   "nbconvert_exporter": "python",
   "pygments_lexer": "ipython3",
   "version": "3.8.5"
  },
  "toc": {
   "base_numbering": 1,
   "nav_menu": {},
   "number_sections": true,
   "sideBar": true,
   "skip_h1_title": false,
   "title_cell": "Table of Contents",
   "title_sidebar": "Contents",
   "toc_cell": false,
   "toc_position": {},
   "toc_section_display": true,
   "toc_window_display": false
  },
  "varInspector": {
   "cols": {
    "lenName": 16,
    "lenType": 16,
    "lenVar": 40
   },
   "kernels_config": {
    "python": {
     "delete_cmd_postfix": "",
     "delete_cmd_prefix": "del ",
     "library": "var_list.py",
     "varRefreshCmd": "print(var_dic_list())"
    },
    "r": {
     "delete_cmd_postfix": ") ",
     "delete_cmd_prefix": "rm(",
     "library": "var_list.r",
     "varRefreshCmd": "cat(var_dic_list()) "
    }
   },
   "types_to_exclude": [
    "module",
    "function",
    "builtin_function_or_method",
    "instance",
    "_Feature"
   ],
   "window_display": false
  }
 },
 "nbformat": 4,
 "nbformat_minor": 4
}
