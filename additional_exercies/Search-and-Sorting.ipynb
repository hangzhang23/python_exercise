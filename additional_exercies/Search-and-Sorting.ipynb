{
 "cells": [
  {
   "cell_type": "markdown",
   "metadata": {},
   "source": [
    "---\n",
    "## Python Data Structures and Algorithms : Search and Sorting - Exercises, Practice, Solution\n",
    "---"
   ]
  },
  {
   "cell_type": "markdown",
   "metadata": {},
   "source": [
    "### Write a Python program for binary search. Go to the editor\n",
    "```\n",
    "Binary Search : In computer science, a binary search or half-interval search algorithm finds the position of a target value within a sorted array. The binary search algorithm can be classified as a dichotomies divide-and-conquer search algorithm and executes in logarithmic time.\n",
    "Test Data :\n",
    "binary_search([1,2,3,5,8], 6) -> False\n",
    "binary_search([1,2,3,5,8], 5) -> True\n",
    "```"
   ]
  },
  {
   "cell_type": "code",
   "execution_count": 1,
   "metadata": {
    "ExecuteTime": {
     "end_time": "2020-10-19T03:21:00.519655Z",
     "start_time": "2020-10-19T03:21:00.513351Z"
    }
   },
   "outputs": [
    {
     "name": "stdout",
     "output_type": "stream",
     "text": [
      "False\n",
      "True\n"
     ]
    }
   ],
   "source": [
    "def binary_search(item_list, item):\n",
    "    first = 0\n",
    "    last = len(item_list)-1\n",
    "    found = False\n",
    "    while(first <= last and not found):\n",
    "        mid = (first + last)//2\n",
    "        if item_list[mid] == item:\n",
    "            found = True\n",
    "        else:\n",
    "            if item < item_list[mid]:\n",
    "                last = mid - 1\n",
    "            else:\n",
    "                first = mid + 1\n",
    "    return found\n",
    "\n",
    "\n",
    "print(binary_search([1, 2, 3, 5, 8], 6))\n",
    "print(binary_search([1, 2, 3, 5, 8], 5))"
   ]
  },
  {
   "cell_type": "markdown",
   "metadata": {},
   "source": [
    "### Write a Python program for sequential search. Go to the editor\n",
    "```\n",
    "Sequential Search : In computer science, linear search or sequential search is a method for finding a particular value in a list that checks each element in sequence until the desired element is found or the list is exhausted. The list need not be ordered.\n",
    "Test Data :\n",
    "Sequential_Search([11,23,58,31,56,77,43,12,65,19],31) -> (True, 3)\n",
    "```"
   ]
  },
  {
   "cell_type": "code",
   "execution_count": 2,
   "metadata": {
    "ExecuteTime": {
     "end_time": "2020-10-19T03:22:49.462046Z",
     "start_time": "2020-10-19T03:22:49.456958Z"
    }
   },
   "outputs": [
    {
     "name": "stdout",
     "output_type": "stream",
     "text": [
      "(True, 3)\n"
     ]
    }
   ],
   "source": [
    "def Sequential_Search(dlist, item):\n",
    "\n",
    "    pos = 0\n",
    "    found = False\n",
    "\n",
    "    while pos < len(dlist) and not found:\n",
    "        if dlist[pos] == item:\n",
    "            found = True\n",
    "        else:\n",
    "            pos = pos + 1\n",
    "\n",
    "    return found, pos\n",
    "\n",
    "\n",
    "print(Sequential_Search([11, 23, 58, 31, 56, 77, 43, 12, 65, 19], 31))"
   ]
  },
  {
   "cell_type": "markdown",
   "metadata": {},
   "source": [
    "### Write a Python program for binary search for an ordered list. Go to the editor\n",
    "```\n",
    "Test Data :\n",
    "Ordered_binary_Search([0, 1, 3, 8, 14, 18, 19, 34, 52], 3) -> True\n",
    "Ordered_binary_Search([0, 1, 3, 8, 14, 18, 19, 34, 52], 17) -> False\n",
    "```"
   ]
  },
  {
   "cell_type": "code",
   "execution_count": 3,
   "metadata": {
    "ExecuteTime": {
     "end_time": "2020-10-19T03:25:08.422720Z",
     "start_time": "2020-10-19T03:25:08.414354Z"
    }
   },
   "outputs": [
    {
     "name": "stdout",
     "output_type": "stream",
     "text": [
      "True\n",
      "False\n"
     ]
    }
   ],
   "source": [
    "def Ordered_binary_Search(olist, item):\n",
    "\n",
    "    if len(olist) == 0:\n",
    "        return False\n",
    "    else:\n",
    "        midpoint = len(olist) // 2\n",
    "        if olist[midpoint] == item:\n",
    "            return True\n",
    "        else:\n",
    "            if item < olist[midpoint]:\n",
    "                return binarySearch(olist[:midpoint], item)\n",
    "            else:\n",
    "                return binarySearch(olist[midpoint+1:], item)\n",
    "\n",
    "\n",
    "def binarySearch(alist, item):\n",
    "\n",
    "    first = 0\n",
    "    last = len(alist) - 1\n",
    "    found = False\n",
    "\n",
    "    while first <= last and not found:\n",
    "        midpoint = (first + last) // 2\n",
    "        if alist[midpoint] == item:\n",
    "            found = True\n",
    "        else:\n",
    "            if item < alist[midpoint]:\n",
    "                last = midpoint - 1\n",
    "            else:\n",
    "                first = midpoint + 1\n",
    "\n",
    "    return found\n",
    "\n",
    "\n",
    "print(Ordered_binary_Search([0, 1, 3, 8, 14, 18, 19, 34, 52], 3))\n",
    "print(Ordered_binary_Search([0, 1, 3, 8, 14, 18, 19, 34, 52], 17))"
   ]
  },
  {
   "cell_type": "markdown",
   "metadata": {},
   "source": [
    "### Write a Python program to sort a list of elements using the bubble sort algorithm. Go to the editor\n",
    "```\n",
    "Note : According to Wikipedia \"Bubble sort, sometimes referred to as sinking sort, is a simple sorting algorithm that repeatedly steps through the list to be sorted, compares each pair of adjacent items and swaps them if they are in the wrong order. The pass through the list is repeated until no swaps are needed, which indicates that the list is sorted. The algorithm, which is a comparison sort, is named for the way smaller elements \"bubble\" to the top of the list. Although the algorithm is simple, it is too slow and impractical for most problems even when compared to insertion sort. It can be practical if the input is usually in sort order but may occasionally have some out-of-order elements nearly in position.\"\n",
    "Sample Data: [14,46,43,27,57,41,45,21,70]\n",
    "Expected Result: [14, 21, 27, 41, 43, 45, 46, 57, 70]\n",
    "```"
   ]
  },
  {
   "cell_type": "code",
   "execution_count": 4,
   "metadata": {
    "ExecuteTime": {
     "end_time": "2020-10-19T03:25:32.164589Z",
     "start_time": "2020-10-19T03:25:32.158703Z"
    }
   },
   "outputs": [
    {
     "name": "stdout",
     "output_type": "stream",
     "text": [
      "[14, 21, 27, 41, 43, 45, 46, 57, 70]\n"
     ]
    }
   ],
   "source": [
    "def bubbleSort(nlist):\n",
    "    for passnum in range(len(nlist)-1, 0, -1):\n",
    "        for i in range(passnum):\n",
    "            if nlist[i] > nlist[i+1]:\n",
    "                temp = nlist[i]\n",
    "                nlist[i] = nlist[i+1]\n",
    "                nlist[i+1] = temp\n",
    "\n",
    "\n",
    "nlist = [14, 46, 43, 27, 57, 41, 45, 21, 70]\n",
    "bubbleSort(nlist)\n",
    "print(nlist)"
   ]
  },
  {
   "cell_type": "markdown",
   "metadata": {},
   "source": [
    "### Write a Python program to sort a list of elements using the selection sort algorithm. Go to the editor\n",
    "```\n",
    "Note : The selection sort improves on the bubble sort by making only one exchange for every pass through the list. \n",
    "Sample Data: [14,46,43,27,57,41,45,21,70]\n",
    "Expected Result: [14, 21, 27, 41, 43, 45, 46, 57, 70]\n",
    "```"
   ]
  },
  {
   "cell_type": "code",
   "execution_count": 5,
   "metadata": {
    "ExecuteTime": {
     "end_time": "2020-10-19T03:26:00.787997Z",
     "start_time": "2020-10-19T03:26:00.782436Z"
    }
   },
   "outputs": [
    {
     "name": "stdout",
     "output_type": "stream",
     "text": [
      "[14, 21, 27, 41, 43, 45, 46, 57, 70]\n"
     ]
    }
   ],
   "source": [
    "def selectionSort(nlist):\n",
    "    for fillslot in range(len(nlist)-1, 0, -1):\n",
    "        maxpos = 0\n",
    "        for location in range(1, fillslot+1):\n",
    "            if nlist[location] > nlist[maxpos]:\n",
    "                maxpos = location\n",
    "\n",
    "        temp = nlist[fillslot]\n",
    "        nlist[fillslot] = nlist[maxpos]\n",
    "        nlist[maxpos] = temp\n",
    "\n",
    "\n",
    "nlist = [14, 46, 43, 27, 57, 41, 45, 21, 70]\n",
    "selectionSort(nlist)\n",
    "print(nlist)"
   ]
  },
  {
   "cell_type": "markdown",
   "metadata": {},
   "source": [
    "### Write a Python program to sort a list of elements using the insertion sort algorithm. Go to the editor\n",
    "```\n",
    "Note : According to Wikipedia \"Insertion sort is a simple sorting algorithm that builds the final sorted array (or list) one item at a time. It is much less efficient on large lists than more advanced algorithms such as quicksort, heapsort, or merge sort.\"\n",
    "Sample Data: [14,46,43,27,57,41,45,21,70]\n",
    "Expected Result : [14, 21, 27, 41, 43, 45, 46, 57, 70]\n",
    "```"
   ]
  },
  {
   "cell_type": "code",
   "execution_count": 6,
   "metadata": {
    "ExecuteTime": {
     "end_time": "2020-10-19T03:26:49.970690Z",
     "start_time": "2020-10-19T03:26:49.965533Z"
    }
   },
   "outputs": [
    {
     "name": "stdout",
     "output_type": "stream",
     "text": [
      "[14, 21, 27, 41, 43, 45, 46, 57, 70]\n"
     ]
    }
   ],
   "source": [
    "def insertionSort(nlist):\n",
    "    for index in range(1, len(nlist)):\n",
    "\n",
    "        currentvalue = nlist[index]\n",
    "        position = index\n",
    "\n",
    "        while position > 0 and nlist[position-1] > currentvalue:\n",
    "            nlist[position] = nlist[position-1]\n",
    "            position = position-1\n",
    "\n",
    "        nlist[position] = currentvalue\n",
    "\n",
    "\n",
    "nlist = [14, 46, 43, 27, 57, 41, 45, 21, 70]\n",
    "insertionSort(nlist)\n",
    "print(nlist)"
   ]
  },
  {
   "cell_type": "markdown",
   "metadata": {},
   "source": [
    "### Write a Python program to sort a list of elements using shell sort algorithm. Go to the editor\n",
    "```\n",
    "Note : According to Wikipedia \"Shell sort or Shell's method, is an in-place comparison sort. It can be seen as either a generalization of sorting by exchange (bubble sort) or sorting by insertion (insertion sort). The method starts by sorting pairs of elements far apart from each other, then progressively reducing the gap between elements to be compared. Starting with far apart elements can move some out-of-place elements into position faster than a simple nearest neighbor exchange.\"\n",
    "```"
   ]
  },
  {
   "cell_type": "code",
   "execution_count": 7,
   "metadata": {
    "ExecuteTime": {
     "end_time": "2020-10-19T03:27:05.979021Z",
     "start_time": "2020-10-19T03:27:05.971324Z"
    }
   },
   "outputs": [
    {
     "name": "stdout",
     "output_type": "stream",
     "text": [
      "After increments of size 4 The list is [14, 41, 43, 21, 57, 46, 45, 27, 70]\n",
      "After increments of size 2 The list is [14, 21, 43, 27, 45, 41, 57, 46, 70]\n",
      "After increments of size 1 The list is [14, 21, 27, 41, 43, 45, 46, 57, 70]\n",
      "[14, 21, 27, 41, 43, 45, 46, 57, 70]\n"
     ]
    }
   ],
   "source": [
    "def shellSort(alist):\n",
    "    sublistcount = len(alist)//2\n",
    "    while sublistcount > 0:\n",
    "        for start_position in range(sublistcount):\n",
    "            gap_InsertionSort(alist, start_position, sublistcount)\n",
    "\n",
    "        print(\"After increments of size\", sublistcount, \"The list is\", nlist)\n",
    "\n",
    "        sublistcount = sublistcount // 2\n",
    "\n",
    "\n",
    "def gap_InsertionSort(nlist, start, gap):\n",
    "    for i in range(start+gap, len(nlist), gap):\n",
    "\n",
    "        current_value = nlist[i]\n",
    "        position = i\n",
    "\n",
    "        while position >= gap and nlist[position-gap] > current_value:\n",
    "            nlist[position] = nlist[position-gap]\n",
    "            position = position-gap\n",
    "\n",
    "        nlist[position] = current_value\n",
    "\n",
    "\n",
    "nlist = [14, 46, 43, 27, 57, 41, 45, 21, 70]\n",
    "shellSort(nlist)\n",
    "print(nlist)"
   ]
  },
  {
   "cell_type": "markdown",
   "metadata": {},
   "source": [
    "### Write a Python program to sort a list of elements using the merge sort algorithm. Go to the editor\n",
    "```\n",
    "Note: According to Wikipedia \"Merge sort (also commonly spelled mergesort) is an O(n log n) comparison-based sorting algorithm. Most implementations produce a stable sort, which means that the implementation preserves the input order of equal elements in the sorted output.\"\n",
    "```"
   ]
  },
  {
   "cell_type": "code",
   "execution_count": 8,
   "metadata": {
    "ExecuteTime": {
     "end_time": "2020-10-19T03:27:33.496958Z",
     "start_time": "2020-10-19T03:27:33.486137Z"
    }
   },
   "outputs": [
    {
     "name": "stdout",
     "output_type": "stream",
     "text": [
      "Splitting  [14, 46, 43, 27, 57, 41, 45, 21, 70]\n",
      "Splitting  [14, 46, 43, 27]\n",
      "Splitting  [14, 46]\n",
      "Splitting  [14]\n",
      "Merging  [14]\n",
      "Splitting  [46]\n",
      "Merging  [46]\n",
      "Merging  [14, 46]\n",
      "Splitting  [43, 27]\n",
      "Splitting  [43]\n",
      "Merging  [43]\n",
      "Splitting  [27]\n",
      "Merging  [27]\n",
      "Merging  [27, 43]\n",
      "Merging  [14, 27, 43, 46]\n",
      "Splitting  [57, 41, 45, 21, 70]\n",
      "Splitting  [57, 41]\n",
      "Splitting  [57]\n",
      "Merging  [57]\n",
      "Splitting  [41]\n",
      "Merging  [41]\n",
      "Merging  [41, 57]\n",
      "Splitting  [45, 21, 70]\n",
      "Splitting  [45]\n",
      "Merging  [45]\n",
      "Splitting  [21, 70]\n",
      "Splitting  [21]\n",
      "Merging  [21]\n",
      "Splitting  [70]\n",
      "Merging  [70]\n",
      "Merging  [21, 70]\n",
      "Merging  [21, 45, 70]\n",
      "Merging  [21, 41, 45, 57, 70]\n",
      "Merging  [14, 21, 27, 41, 43, 45, 46, 57, 70]\n",
      "[14, 21, 27, 41, 43, 45, 46, 57, 70]\n"
     ]
    }
   ],
   "source": [
    "def mergeSort(nlist):\n",
    "    print(\"Splitting \", nlist)\n",
    "    if len(nlist) > 1:\n",
    "        mid = len(nlist)//2\n",
    "        lefthalf = nlist[:mid]\n",
    "        righthalf = nlist[mid:]\n",
    "\n",
    "        mergeSort(lefthalf)\n",
    "        mergeSort(righthalf)\n",
    "        i = j = k = 0\n",
    "        while i < len(lefthalf) and j < len(righthalf):\n",
    "            if lefthalf[i] < righthalf[j]:\n",
    "                nlist[k] = lefthalf[i]\n",
    "                i = i+1\n",
    "            else:\n",
    "                nlist[k] = righthalf[j]\n",
    "                j = j+1\n",
    "            k = k+1\n",
    "\n",
    "        while i < len(lefthalf):\n",
    "            nlist[k] = lefthalf[i]\n",
    "            i = i+1\n",
    "            k = k+1\n",
    "\n",
    "        while j < len(righthalf):\n",
    "            nlist[k] = righthalf[j]\n",
    "            j = j+1\n",
    "            k = k+1\n",
    "    print(\"Merging \", nlist)\n",
    "\n",
    "\n",
    "nlist = [14, 46, 43, 27, 57, 41, 45, 21, 70]\n",
    "mergeSort(nlist)\n",
    "print(nlist)"
   ]
  },
  {
   "cell_type": "markdown",
   "metadata": {},
   "source": [
    "### Write a Python program to sort a list of elements using the quick sort algorithm. Go to the editor\n",
    "```\n",
    "Note: According to Wikipedia \"Quicksort is a comparison sort, meaning that it can sort items of any type for which a \"less-than\" relation (formally, a total order) is defined. Inefficient implementations it is not a stable sort, meaning that the relative order of equal sort items is not preserved. Quicksort can operate in-place on an array, requiring small additional amounts of memory to perform the sorting.\"\n",
    "```"
   ]
  },
  {
   "cell_type": "code",
   "execution_count": 9,
   "metadata": {
    "ExecuteTime": {
     "end_time": "2020-10-19T03:27:50.885171Z",
     "start_time": "2020-10-19T03:27:50.876339Z"
    }
   },
   "outputs": [
    {
     "name": "stdout",
     "output_type": "stream",
     "text": [
      "[17, 20, 26, 31, 44, 54, 55, 77, 93]\n"
     ]
    }
   ],
   "source": [
    "def quickSort(data_list):\n",
    "    quickSortHlp(data_list, 0, len(data_list)-1)\n",
    "\n",
    "\n",
    "def quickSortHlp(data_list, first, last):\n",
    "    if first < last:\n",
    "\n",
    "        splitpoint = partition(data_list, first, last)\n",
    "\n",
    "        quickSortHlp(data_list, first, splitpoint-1)\n",
    "        quickSortHlp(data_list, splitpoint+1, last)\n",
    "\n",
    "\n",
    "def partition(data_list, first, last):\n",
    "    pivotvalue = data_list[first]\n",
    "\n",
    "    leftmark = first+1\n",
    "    rightmark = last\n",
    "\n",
    "    done = False\n",
    "    while not done:\n",
    "\n",
    "        while leftmark <= rightmark and data_list[leftmark] <= pivotvalue:\n",
    "            leftmark = leftmark + 1\n",
    "\n",
    "        while data_list[rightmark] >= pivotvalue and rightmark >= leftmark:\n",
    "            rightmark = rightmark - 1\n",
    "\n",
    "        if rightmark < leftmark:\n",
    "            done = True\n",
    "        else:\n",
    "            temp = data_list[leftmark]\n",
    "            data_list[leftmark] = data_list[rightmark]\n",
    "            data_list[rightmark] = temp\n",
    "\n",
    "    temp = data_list[first]\n",
    "    data_list[first] = data_list[rightmark]\n",
    "    data_list[rightmark] = temp\n",
    "\n",
    "    return rightmark\n",
    "\n",
    "\n",
    "data_list = [54, 26, 93, 17, 77, 31, 44, 55, 20]\n",
    "quickSort(data_list)\n",
    "print(data_list)"
   ]
  },
  {
   "cell_type": "markdown",
   "metadata": {},
   "source": [
    "### Write a Python program for counting sort. Go to the editor\n",
    "```\n",
    "According to Wikipedia \"In computer science, counting sort is an algorithm for sorting a collection of objects according to keys that are small integers; that is, it is an integer sorting algorithm. It operates by counting the number of objects that have each distinct key value, and using arithmetic on those counts to determine the positions of each key value in the output sequence. Its running time is linear in the number of items and the difference between the maximum and minimum key values, so it is only suitable for direct use in situations where the variation in keys is not significantly greater than the number of items. However, it is often used as a subroutine in another sorting algorithm, radix sort, that can handle larger keys more efficiently\".\n",
    "```"
   ]
  },
  {
   "cell_type": "code",
   "execution_count": 10,
   "metadata": {
    "ExecuteTime": {
     "end_time": "2020-10-19T03:28:07.631618Z",
     "start_time": "2020-10-19T03:28:07.626411Z"
    }
   },
   "outputs": [
    {
     "name": "stdout",
     "output_type": "stream",
     "text": [
      "[1, 1, 1, 2, 2, 2, 2, 3, 3, 4, 7]\n"
     ]
    }
   ],
   "source": [
    "def counting_sort(array1, max_val):\n",
    "    m = max_val + 1\n",
    "    count = [0] * m\n",
    "\n",
    "    for a in array1:\n",
    "        # count occurences\n",
    "        count[a] += 1\n",
    "    i = 0\n",
    "    for a in range(m):\n",
    "        for c in range(count[a]):\n",
    "            array1[i] = a\n",
    "            i += 1\n",
    "    return array1\n",
    "\n",
    "\n",
    "print(counting_sort([1, 2, 7, 3, 2, 1, 4, 2, 3, 2, 1], 7))"
   ]
  },
  {
   "cell_type": "markdown",
   "metadata": {},
   "source": [
    "### Write a Python code to create a program for Bitonic Sort. Go to the editor\n",
    "```\n",
    "Bitonic Sort: According to rutgers.edu - Bitonic sort is a comparison-based sorting algorithm that can be run in parallel. It focuses on converting a random sequence of numbers into a bitonic sequence, one that monotonically increases, then decreases. Rotations of a bitonic sequence are also bitonic. More specifically, bitonic sort can be modelled as a type of sorting network. The initial unsorted sequence enters through input pipes, where a series of comparators switch two entries to be in either increasing or decreasing order. The algorithm, created by Ken Batcher in 1968, consists of two parts. First, the unsorted sequence is built into a bitonic sequence; then, the series is split multiple times into smaller sequences until the input is in sorted order.\n",
    "```"
   ]
  },
  {
   "cell_type": "code",
   "execution_count": 12,
   "metadata": {
    "ExecuteTime": {
     "end_time": "2020-10-19T03:29:01.130211Z",
     "start_time": "2020-10-19T03:28:55.240333Z"
    }
   },
   "outputs": [
    {
     "name": "stdout",
     "output_type": "stream",
     "text": [
      "How many numbers u want to enter?\n",
      "4\n",
      "Input the numbers:\n",
      "2\n",
      "5\n",
      "3\n",
      "1\n",
      "\n",
      "\n",
      "Sorted array is:\n",
      "1\n",
      "2\n",
      "3\n",
      "5\n"
     ]
    }
   ],
   "source": [
    "# Python program for Bitonic Sort. Note that this program\n",
    "# works only when size of input is a power of 2.\n",
    "# The parameter dir indicates the sorting direction, ASCENDING\n",
    "# or DESCENDING; if (a[i] > a[j]) agrees with the direction,\n",
    "# then a[i] and a[j] are interchanged.*/\n",
    "\n",
    "\n",
    "def compAndSwap(a, i, j, dire):\n",
    "    if (dire == 1 and a[i] > a[j]) or (dire == 0 and a[i] < a[j]):\n",
    "        a[i], a[j] = a[j], a[i]\n",
    "        # It recursively sorts a bitonic sequence in ascending order,\n",
    "# if dir = 1, and in descending order otherwise (means dir=0).\n",
    "# The sequence to be sorted starts at index position low,\n",
    "# the parameter cnt is the number of elements to be sorted.\n",
    "\n",
    "\n",
    "def bitonicMerge(a, low, cnt, dire):\n",
    "    if cnt > 1:\n",
    "        k = int(cnt / 2)\n",
    "        for i in range(low, low + k):\n",
    "            compAndSwap(a, i, i + k, dire)\n",
    "        bitonicMerge(a, low, k, dire)\n",
    "        bitonicMerge(a, low + k, k, dire)\n",
    "\n",
    "        # This funcion first produces a bitonic sequence by recursively\n",
    "\n",
    "\n",
    "# sorting its two halves in opposite sorting orders, and then\n",
    "# calls bitonicMerge to make them in the same order\n",
    "def bitonicSort(a, low, cnt, dire):\n",
    "    if cnt > 1:\n",
    "        k = int(cnt / 2)\n",
    "        bitonicSort(a, low, k, 1)\n",
    "        bitonicSort(a, low + k, k, 0)\n",
    "        bitonicMerge(a, low, cnt, dire)\n",
    "\n",
    "        # Caller of bitonicSort for sorting the entire array of length N\n",
    "\n",
    "\n",
    "# in ASCENDING order\n",
    "def sort(a, N, up):\n",
    "    bitonicSort(a, 0, N, up)\n",
    "\n",
    "\n",
    "# Driver code to test above\n",
    "a = []\n",
    "print(\"How many numbers u want to enter?\")\n",
    "n = int(input())\n",
    "print(\"Input the numbers:\")\n",
    "for i in range(n):\n",
    "    a.append(int(input()))\n",
    "up = 1\n",
    "\n",
    "sort(a, n, up)\n",
    "print(\"\\n\\nSorted array is:\")\n",
    "for i in range(n):\n",
    "    print(\"%d\" % a[i])"
   ]
  },
  {
   "cell_type": "markdown",
   "metadata": {},
   "source": [
    "### Write a Python program to sort a list of elements using Bogosort sort. Go to the editor\n",
    "```\n",
    "In computer science, Bogosort is a particularly ineffective sorting algorithm based on the generation and test paradigm. The algorithm successively generates permutations of its input until it finds one that is sorted. It is not useful for sorting, but may be used for educational purposes, to contrast it with other more realistic algorithms. Two versions of the algorithm exist: a deterministic version that enumerates all permutations until it hits a sorted one, and a randomized version that randomly permutes its input. An analogy for the working of the latter version is to sort a deck of cards by throwing the deck into the air, picking the cards up at random, and repeating the process until the deck is sorted. Its name comes from the word bogus.\n",
    "```"
   ]
  },
  {
   "cell_type": "code",
   "execution_count": 13,
   "metadata": {
    "ExecuteTime": {
     "end_time": "2020-10-19T03:29:49.768036Z",
     "start_time": "2020-10-19T03:29:41.195041Z"
    }
   },
   "outputs": [
    {
     "name": "stdout",
     "output_type": "stream",
     "text": [
      "Input  comma separated numbers:\n",
      "23\n",
      "[23]\n"
     ]
    }
   ],
   "source": [
    "import random\n",
    "\n",
    "\n",
    "def bogosort(nums):\n",
    "    def isSorted(nums):\n",
    "        if len(nums) < 2:\n",
    "            return True\n",
    "        for i in range(len(nums) - 1):\n",
    "            if nums[i] > nums[i + 1]:\n",
    "                return False\n",
    "        return True\n",
    "\n",
    "    while not isSorted(nums):\n",
    "        random.shuffle(nums)\n",
    "    return nums\n",
    "\n",
    "\n",
    "num1 = input('Input  comma separated numbers:\\n').strip()\n",
    "nums = [int(item) for item in num1.split(',')]\n",
    "print(bogosort(nums))"
   ]
  },
  {
   "cell_type": "markdown",
   "metadata": {},
   "source": [
    "### Write a Python program to sort a list of elements using Gnome sort. Go to the editor\n",
    "```\n",
    "Gnome sort is a sorting algorithm originally proposed by Dr. Hamid Sarbazi-Azad (Professor of Computer Engineering at Sharif University of Technology) in 2000 and called \"stupid sort\" (not to be confused with bogosort), and then later on described by Dick Grune and named \"gnome sort\". The algorithm always finds the first place where two adjacent elements are in the wrong order, and swaps them. It takes advantage of the fact that performing a swap can introduce a new out-of-order adjacent pair only next to the two swapped elements.\n",
    "```"
   ]
  },
  {
   "cell_type": "code",
   "execution_count": 15,
   "metadata": {
    "ExecuteTime": {
     "end_time": "2020-10-19T03:30:47.144175Z",
     "start_time": "2020-10-19T03:30:35.367270Z"
    }
   },
   "outputs": [
    {
     "name": "stdout",
     "output_type": "stream",
     "text": [
      "Input numbers separated by a comma:\n",
      "5,23,232,2,54\n",
      "[2, 5, 23, 54, 232]\n"
     ]
    }
   ],
   "source": [
    "def gnome_sort(nums):\n",
    "    if len(nums) <= 1:\n",
    "        return nums\n",
    "\n",
    "    i = 1\n",
    "\n",
    "    while i < len(nums):\n",
    "        if nums[i-1] <= nums[i]:\n",
    "            i += 1\n",
    "        else:\n",
    "            nums[i-1], nums[i] = nums[i], nums[i-1]\n",
    "            i -= 1\n",
    "            if (i == 0):\n",
    "                i = 1\n",
    "\n",
    "\n",
    "user_input = input(\"Input numbers separated by a comma:\\n\").strip()\n",
    "nums = [int(item) for item in user_input.split(',')]\n",
    "gnome_sort(nums)\n",
    "print(nums)"
   ]
  },
  {
   "cell_type": "markdown",
   "metadata": {},
   "source": [
    "### Write a Python program to sort a list of elements using Cocktail shaker sort. Go to the editor\n",
    "```\n",
    "From Wikipedia, Cocktail shaker sort,[1] also known as bidirectional bubble sort,[2] cocktail sort, shaker sort (which can also refer to a variant of selection sort), ripple sort, shuffle sort,[3] or shuttle sort, is a variation of bubble sort that is both a stable sorting algorithm and a comparison sort. The algorithm differs from a bubble sort in that it sorts in both directions on each pass through the list. This sorting algorithm is only marginally more difficult to implement than a bubble sort, and solves the problem of turtles in bubble sorts. It provides only marginal performance improvements, and does not improve asymptotic performance; like the bubble sort, it is not of practical interest (insertion sort is preferred for simple sorts), though it finds some use in education.\n",
    "```"
   ]
  },
  {
   "cell_type": "code",
   "execution_count": 16,
   "metadata": {
    "ExecuteTime": {
     "end_time": "2020-10-19T03:31:23.035565Z",
     "start_time": "2020-10-19T03:31:11.242391Z"
    }
   },
   "outputs": [
    {
     "name": "stdout",
     "output_type": "stream",
     "text": [
      "Input comma separated numbers:\n",
      "12,42,53,22\n",
      "[12, 22, 42, 53]\n"
     ]
    }
   ],
   "source": [
    "def cocktail_shaker_sort(nums):\n",
    "    for i in range(len(nums)-1, 0, -1):\n",
    "        is_swapped = False\n",
    "\n",
    "        for j in range(i, 0, -1):\n",
    "            if nums[j] < nums[j-1]:\n",
    "                nums[j], nums[j-1] = nums[j-1], nums[j]\n",
    "                is_swapped = True\n",
    "\n",
    "        for j in range(i):\n",
    "            if nums[j] > nums[j+1]:\n",
    "                nums[j], nums[j+1] = nums[j+1], nums[j]\n",
    "                is_swapped = True\n",
    "\n",
    "        if not is_swapped:\n",
    "            return nums\n",
    "\n",
    "\n",
    "num1 = input('Input comma separated numbers:\\n').strip()\n",
    "nums = [int(item) for item in num1.split(',')]\n",
    "print(cocktail_shaker_sort(nums))"
   ]
  },
  {
   "cell_type": "markdown",
   "metadata": {},
   "source": [
    "### Write a Python program to sort a list of elements using Comb sort. Go to the editor\n",
    "```\n",
    "The Comb Sort is a variant of the Bubble Sort. Like the Shell sort, the Comb Sort increases the gap used in comparisons and exchanges. Some implementations use the insertion sort once the gap is less than a certain amount. The basic idea is to eliminate turtles, or small values near the end of the list, since in a bubble sort these slow the sorting down tremendously. Rabbits, large values around the beginning of the list do not pose a problem in bubble sort. In bubble sort, when any two elements are compared, they always have a gap of 1. The basic idea of comb sort is that the gap can be much more than 1.\n",
    "```"
   ]
  },
  {
   "cell_type": "code",
   "execution_count": 17,
   "metadata": {
    "ExecuteTime": {
     "end_time": "2020-10-19T03:31:51.230888Z",
     "start_time": "2020-10-19T03:31:45.366001Z"
    }
   },
   "outputs": [
    {
     "name": "stdout",
     "output_type": "stream",
     "text": [
      "Input comma separated numbers:\n",
      "1,22,3,23\n",
      "[1, 3, 22, 23]\n"
     ]
    }
   ],
   "source": [
    "def comb_sort(nums):\n",
    "    shrink_fact = 1.3\n",
    "    gaps = len(nums)\n",
    "    swapped = True\n",
    "    i = 0\n",
    "\n",
    "    while gaps > 1 or swapped:\n",
    "        gaps = int(float(gaps) / shrink_fact)\n",
    "\n",
    "        swapped = False\n",
    "        i = 0\n",
    "\n",
    "        while gaps + i < len(nums):\n",
    "            if nums[i] > nums[i+gaps]:\n",
    "                nums[i], nums[i+gaps] = nums[i+gaps], nums[i]\n",
    "                swapped = True\n",
    "            i += 1\n",
    "    return nums\n",
    "\n",
    "\n",
    "num1 = input('Input comma separated numbers:\\n').strip()\n",
    "nums = [int(item) for item in num1.split(',')]\n",
    "print(comb_sort(nums))"
   ]
  },
  {
   "cell_type": "markdown",
   "metadata": {},
   "source": [
    "### Write a Python program to sort a list of elements using Cycle sort. Go to the editor\n",
    "```\n",
    "Cycle sort is an in-place, unstable sorting algorithm, a comparison sort that is theoretically optimal in terms of the total number of writes to the original array, unlike any other in-place sorting algorithm. It is based on the idea that the permutation to be sorted can be factored into cycles, which can individually be rotated to give a sorted result.\n",
    "```"
   ]
  },
  {
   "cell_type": "code",
   "execution_count": 18,
   "metadata": {
    "ExecuteTime": {
     "end_time": "2020-10-19T03:32:13.226168Z",
     "start_time": "2020-10-19T03:32:13.217141Z"
    }
   },
   "outputs": [
    {
     "name": "stdout",
     "output_type": "stream",
     "text": [
      "[0, 1, 2, 2, 2, 2, 1, 9, 3.5, 5, 8, 4, 7, 0, 6]\n",
      "Is correctly sorted using cycleSort to\n",
      "[0, 0, 1, 1, 2, 2, 2, 2, 3.5, 4, 5, 6, 7, 8, 9]\n",
      "Using 10 writes.\n"
     ]
    }
   ],
   "source": [
    "def cycleSort(vector):\n",
    "    \"Sort a vector in place and return the number of writes.\"\n",
    "    writes = 0\n",
    "\n",
    "    # Loop through the vector to find cycles to rotate.\n",
    "    for cycleStart, item in enumerate(vector):\n",
    "\n",
    "        # Find where to put the item.\n",
    "        pos = cycleStart\n",
    "        for item2 in vector[cycleStart + 1:]:\n",
    "            if item2 < item:\n",
    "                pos += 1\n",
    "\n",
    "        # If the item is already there, this is not a cycle.\n",
    "        if pos == cycleStart:\n",
    "            continue\n",
    "\n",
    "        # Otherwise, put the item there or right after any duplicates.\n",
    "        while item == vector[pos]:\n",
    "            pos += 1\n",
    "        vector[pos], item = item, vector[pos]\n",
    "        writes += 1\n",
    "\n",
    "        # Rotate the rest of the cycle.\n",
    "        while pos != cycleStart:\n",
    "\n",
    "            # Find where to put the item.\n",
    "            pos = cycleStart\n",
    "            for item2 in vector[cycleStart + 1:]:\n",
    "                if item2 < item:\n",
    "                    pos += 1\n",
    "\n",
    "            # Put the item there or right after any duplicates.\n",
    "            while item == vector[pos]:\n",
    "                pos += 1\n",
    "            vector[pos], item = item, vector[pos]\n",
    "            writes += 1\n",
    "\n",
    "    return writes\n",
    "\n",
    "\n",
    "if __name__ == '__main__':\n",
    "    x = [0, 1, 2, 2, 2, 2, 1, 9, 3.5, 5, 8, 4, 7, 0, 6]\n",
    "    xcopy = x[::]\n",
    "    writes = cycleSort(xcopy)\n",
    "    if xcopy != sorted(x):\n",
    "        print('Wrong order!')\n",
    "    else:\n",
    "        print('%r\\nIs correctly sorted using cycleSort to'\n",
    "              '\\n%r\\nUsing %i writes.' % (x, xcopy, writes))"
   ]
  },
  {
   "cell_type": "markdown",
   "metadata": {},
   "source": [
    "### Write a Python program to sort a list of elements using Heap sort. Go to the editor\n",
    "```\n",
    "In computer science, heapsort (invented by J. W. J. Williams in 1964) is a comparison-based sorting algorithm. Heapsort can be thought of as an improved selection sort: like that algorithm, it divides its input into a sorted and an unsorted region, and it interactively shrinks the unsorted region by extracting the largest element and moving that to the sorted region. The improvement consists of the use of a heap data structure rather than a linear-time search to find the maximum. Although somewhat slower in practice on most machines than a well-implemented quicksort, it has the advantage of a more favorable worst-case O(n log n) runtime. Heapsort is an in-place algorithm, but it is not a stable sort. A run of the heapsort algorithm sorting an array of randomly permuted values. In the first stage of the algorithm the array elements are reordered to satisfy the heap property. Before the actual sorting takes place, the heap tree structure is shown briefly for illustration.\n",
    "```"
   ]
  },
  {
   "cell_type": "code",
   "execution_count": 19,
   "metadata": {
    "ExecuteTime": {
     "end_time": "2020-10-19T03:32:39.943142Z",
     "start_time": "2020-10-19T03:32:34.698753Z"
    }
   },
   "outputs": [
    {
     "name": "stdout",
     "output_type": "stream",
     "text": [
      "Input numbers separated by a comma:\n",
      "1,22,3,45\n",
      "[1, 3, 22, 45]\n"
     ]
    }
   ],
   "source": [
    "def heap_data(nums, index, heap_size):\n",
    "    largest_num = index\n",
    "    left_index = 2 * index + 1\n",
    "    right_index = 2 * index + 2\n",
    "    if left_index < heap_size and nums[left_index] > nums[largest_num]:\n",
    "        largest_num = left_index\n",
    "\n",
    "    if right_index < heap_size and nums[right_index] > nums[largest_num]:\n",
    "        largest_num = right_index\n",
    "    if largest_num != index:\n",
    "        nums[largest_num], nums[index] = nums[index], nums[largest_num]\n",
    "        heap_data(nums, largest_num, heap_size)\n",
    "\n",
    "\n",
    "def heap_sort(nums):\n",
    "    n = len(nums)\n",
    "    for i in range(n // 2 - 1, -1, -1):\n",
    "        heap_data(nums, i, n)\n",
    "    for i in range(n - 1, 0, -1):\n",
    "        nums[0], nums[i] = nums[i], nums[0]\n",
    "        heap_data(nums, 0, i)\n",
    "    return nums\n",
    "\n",
    "\n",
    "user_input = input(\"Input numbers separated by a comma:\\n\").strip()\n",
    "nums = [int(item) for item in user_input.split(',')]\n",
    "heap_sort(nums)\n",
    "print(nums)"
   ]
  },
  {
   "cell_type": "markdown",
   "metadata": {},
   "source": [
    "### Write a Python program to sort a list of elements using Pancake sort. Go to the editor\n",
    "```\n",
    "Pancake sorting is the colloquial term for the mathematical problem of sorting a disordered stack of pancakes in order of size when a spatula can be inserted at any point in the stack and used to flip all pancakes above it. A pancake number is the minimum number of flips required for a given number of pancakes. The problem was first discussed by American geometer Jacob E. Goodman. It is a variation of the sorting problem in which the only allowed operation is to reverse the elements of some prefix of the sequence.\n",
    "```"
   ]
  },
  {
   "cell_type": "code",
   "execution_count": 20,
   "metadata": {
    "ExecuteTime": {
     "end_time": "2020-10-19T03:33:02.999087Z",
     "start_time": "2020-10-19T03:32:56.805875Z"
    }
   },
   "outputs": [
    {
     "name": "stdout",
     "output_type": "stream",
     "text": [
      "Input numbers separated by a comma:\n",
      "2,34,23,1\n",
      "[1, 2, 23, 34]\n"
     ]
    }
   ],
   "source": [
    "def pancake_sort(nums):\n",
    "    arr_len = len(nums)\n",
    "    while arr_len > 1:\n",
    "        mi = nums.index(max(nums[0:arr_len]))\n",
    "        nums = nums[mi::-1] + nums[mi+1:len(nums)]\n",
    "        nums = nums[arr_len-1::-1] + nums[arr_len:len(nums)]\n",
    "        arr_len -= 1\n",
    "    return nums\n",
    "\n",
    "\n",
    "user_input = input(\"Input numbers separated by a comma:\\n\").strip()\n",
    "nums = [int(item) for item in user_input.split(',')]\n",
    "print(pancake_sort(nums))"
   ]
  },
  {
   "cell_type": "markdown",
   "metadata": {},
   "source": [
    "### Write a Python program to sort a list of elements using Radix sort. Go to the editor\n",
    "```\n",
    "According to Wikipedia \"In computer science, radix sort is a non-comparative integer sorting algorithm that sorts data with integer keys by grouping keys by the individual digits which share the same significant position and value\".\n",
    "```"
   ]
  },
  {
   "cell_type": "code",
   "execution_count": 21,
   "metadata": {
    "ExecuteTime": {
     "end_time": "2020-10-19T03:33:29.287990Z",
     "start_time": "2020-10-19T03:33:23.754252Z"
    }
   },
   "outputs": [
    {
     "name": "stdout",
     "output_type": "stream",
     "text": [
      "Input numbers separated by a comma:\n",
      "1,22,3,25\n",
      "[1, 3, 22, 25]\n"
     ]
    }
   ],
   "source": [
    "def radix_sort(nums):\n",
    "    RADIX = 10\n",
    "    placement = 1\n",
    "    max_digit = max(nums)\n",
    "\n",
    "    while placement < max_digit:\n",
    "        buckets = [list() for _ in range(RADIX)]\n",
    "        for i in nums:\n",
    "            tmp = int((i / placement) % RADIX)\n",
    "            buckets[tmp].append(i)\n",
    "        a = 0\n",
    "        for b in range(RADIX):\n",
    "            buck = buckets[b]\n",
    "            for i in buck:\n",
    "                nums[a] = i\n",
    "                a += 1\n",
    "        placement *= RADIX\n",
    "    return nums\n",
    "\n",
    "\n",
    "user_input = input(\"Input numbers separated by a comma:\\n\").strip()\n",
    "nums = [int(item) for item in user_input.split(',')]\n",
    "print(radix_sort(nums))"
   ]
  },
  {
   "cell_type": "markdown",
   "metadata": {},
   "source": [
    "### Write a Python program to sort a list of elements using Selection sort. Go to the editor\n",
    "```\n",
    "According to Wikipedia \"In computer science, selection sort is a sorting algorithm, specifically an in-place comparison sort. It has O(n2) time complexity, making it inefficient on large lists, and generally performs worse than the similar insertion sort\".\n",
    "```"
   ]
  },
  {
   "cell_type": "code",
   "execution_count": 25,
   "metadata": {
    "ExecuteTime": {
     "end_time": "2020-10-19T03:35:05.747376Z",
     "start_time": "2020-10-19T03:35:01.160042Z"
    }
   },
   "outputs": [
    {
     "name": "stdout",
     "output_type": "stream",
     "text": [
      "Input numbers separated by a comma:\n",
      "1,22,3,43\n",
      "[1, 3, 22, 43]\n"
     ]
    }
   ],
   "source": [
    "def selection_sort(nums):\n",
    "    for i, n in enumerate(nums):\n",
    "        mn = min(range(i, len(nums)), key=nums.__getitem__)\n",
    "        nums[i], nums[mn] = nums[mn], n\n",
    "    return nums\n",
    "\n",
    "\n",
    "user_input = input(\"Input numbers separated by a comma:\\n\").strip()\n",
    "nums = [int(item) for item in user_input.split(',')]\n",
    "print(selection_sort(nums))"
   ]
  },
  {
   "cell_type": "markdown",
   "metadata": {},
   "source": [
    "### Write a Python program to sort a list of elements using Time sort. Go to the editor"
   ]
  },
  {
   "cell_type": "code",
   "execution_count": 22,
   "metadata": {
    "ExecuteTime": {
     "end_time": "2020-10-19T03:34:00.886244Z",
     "start_time": "2020-10-19T03:33:53.025712Z"
    }
   },
   "outputs": [
    {
     "name": "stdout",
     "output_type": "stream",
     "text": [
      "Input numbers separated by a comma:\n",
      "1,2,44,33,23\n",
      "[1, 2, 23, 44]\n"
     ]
    }
   ],
   "source": [
    "def binary_search(lst, item, start, end):\n",
    "    if start == end:\n",
    "        if lst[start] > item:\n",
    "            return start\n",
    "        else:\n",
    "            return start + 1\n",
    "    if start > end:\n",
    "        return start\n",
    "\n",
    "    mid = (start + end) // 2\n",
    "    if lst[mid] < item:\n",
    "        return binary_search(lst, item, mid + 1, end)\n",
    "    elif lst[mid] > item:\n",
    "        return binary_search(lst, item, start, mid - 1)\n",
    "    else:\n",
    "        return mid\n",
    "\n",
    "\n",
    "def insertion_sort(lst):\n",
    "    length = len(lst)\n",
    "\n",
    "    for index in range(1, length):\n",
    "        value = lst[index]\n",
    "        pos = binary_search(lst, value, 0, index - 1)\n",
    "        lst = lst[:pos] + [value] + lst[pos:index] + lst[index+1:]\n",
    "    return lst\n",
    "\n",
    "\n",
    "def merge(left, right):\n",
    "    if not left:\n",
    "        return right\n",
    "\n",
    "    if not right:\n",
    "        return left\n",
    "\n",
    "    if left[0] < right[0]:\n",
    "        return [left[0]] + merge(left[1:], right)\n",
    "\n",
    "    return [right[0]] + merge(left, right[1:])\n",
    "\n",
    "\n",
    "def time_sort(lst):\n",
    "    runs, sorted_runs = [], []\n",
    "    length = len(lst)\n",
    "    new_run = [lst[0]]\n",
    "    sorted_array = []\n",
    "\n",
    "    for i in range(1, length):\n",
    "        if i == length - 1:\n",
    "            new_run.append(lst[i])\n",
    "            runs.append(new_run)\n",
    "            break\n",
    "\n",
    "        if lst[i] < lst[i - 1]:\n",
    "            if not new_run:\n",
    "                runs.append([lst[i - 1]])\n",
    "                new_run.append(lst[i])\n",
    "            else:\n",
    "                runs.append(new_run)\n",
    "                new_run = []\n",
    "        else:\n",
    "            new_run.append(lst[i])\n",
    "\n",
    "    for run in runs:\n",
    "        sorted_runs.append(insertion_sort(run))\n",
    "\n",
    "    for run in sorted_runs:\n",
    "        sorted_array = merge(sorted_array, run)\n",
    "\n",
    "    return sorted_array\n",
    "\n",
    "\n",
    "user_input = input(\"Input numbers separated by a comma:\\n\").strip()\n",
    "nums = [int(item) for item in user_input.split(',')]\n",
    "print(time_sort(nums))"
   ]
  },
  {
   "cell_type": "markdown",
   "metadata": {},
   "source": [
    "### Write a Python program to sort a list of elements using Topological sort. Go to the editor"
   ]
  },
  {
   "cell_type": "code",
   "execution_count": 23,
   "metadata": {
    "ExecuteTime": {
     "end_time": "2020-10-19T03:34:16.826725Z",
     "start_time": "2020-10-19T03:34:16.819354Z"
    }
   },
   "outputs": [
    {
     "name": "stdout",
     "output_type": "stream",
     "text": [
      "['c', 'd', 'e', 'b', 'a']\n"
     ]
    }
   ],
   "source": [
    "#     a\n",
    "#    / \\\n",
    "#   b  c\n",
    "#  / \\\n",
    "# d  e\n",
    "edges = {'a': ['c', 'b'], 'b': ['d', 'e'], 'c': [], 'd': [], 'e': []}\n",
    "vertices = ['a', 'b', 'c', 'd', 'e']\n",
    "\n",
    "\n",
    "def topological_sort(start, visited, sort):\n",
    "    \"\"\"Perform topolical sort on a directed acyclic graph.\"\"\"\n",
    "    current = start\n",
    "    # add current to visited\n",
    "    visited.append(current)\n",
    "    neighbors = edges[current]\n",
    "    for neighbor in neighbors:\n",
    "        # if neighbor not in visited, visit\n",
    "        if neighbor not in visited:\n",
    "            sort = topological_sort(neighbor, visited, sort)\n",
    "    # if all neighbors visited add current to sort\n",
    "    sort.append(current)\n",
    "    # if all vertices haven't been visited select a new one to visit\n",
    "    if len(visited) != len(vertices):\n",
    "        for vertice in vertices:\n",
    "            if vertice not in visited:\n",
    "                sort = topological_sort(vertice, visited, sort)\n",
    "    # return sort\n",
    "    return sort\n",
    "\n",
    "\n",
    "sort = topological_sort('a', [], [])\n",
    "print(sort)"
   ]
  },
  {
   "cell_type": "markdown",
   "metadata": {},
   "source": [
    "###  Write a Python program to sort a list of elements using Tree sort. Go to the editor"
   ]
  },
  {
   "cell_type": "code",
   "execution_count": 24,
   "metadata": {
    "ExecuteTime": {
     "end_time": "2020-10-19T03:34:42.338254Z",
     "start_time": "2020-10-19T03:34:42.329293Z"
    }
   },
   "outputs": [
    {
     "name": "stdout",
     "output_type": "stream",
     "text": [
      "[1, 2, 5, 7, 14, 17, 19]\n"
     ]
    }
   ],
   "source": [
    "# Tree_sort algorithm\n",
    "# Build a BST and in order traverse.\n",
    "\n",
    "\n",
    "class node():\n",
    "    # BST data structure\n",
    "    def __init__(self, val):\n",
    "        self.val = val\n",
    "        self.left = None\n",
    "        self.right = None\n",
    "\n",
    "    def insert(self, val):\n",
    "        if self.val:\n",
    "            if val < self.val:\n",
    "                if self.left is None:\n",
    "                    self.left = node(val)\n",
    "                else:\n",
    "                    self.left.insert(val)\n",
    "            elif val > self.val:\n",
    "                if self.right is None:\n",
    "                    self.right = node(val)\n",
    "                else:\n",
    "                    self.right.insert(val)\n",
    "        else:\n",
    "            self.val = val\n",
    "\n",
    "\n",
    "def inorder(root, res):\n",
    "    # Recursive travesal\n",
    "    if root:\n",
    "        inorder(root.left, res)\n",
    "        res.append(root.val)\n",
    "        inorder(root.right, res)\n",
    "\n",
    "\n",
    "def treesort(arr):\n",
    "    # Build BST\n",
    "    if len(arr) == 0:\n",
    "        return arr\n",
    "    root = node(arr[0])\n",
    "    for i in range(1, len(arr)):\n",
    "        root.insert(arr[i])\n",
    "    # Traverse BST in order.\n",
    "    res = []\n",
    "    inorder(root, res)\n",
    "    return res\n",
    "\n",
    "\n",
    "print(treesort([7, 1, 5, 2, 19, 14, 17]))"
   ]
  },
  {
   "cell_type": "code",
   "execution_count": null,
   "metadata": {},
   "outputs": [],
   "source": []
  }
 ],
 "metadata": {
  "kernelspec": {
   "display_name": "Python 3",
   "language": "python",
   "name": "python3"
  },
  "language_info": {
   "codemirror_mode": {
    "name": "ipython",
    "version": 3
   },
   "file_extension": ".py",
   "mimetype": "text/x-python",
   "name": "python",
   "nbconvert_exporter": "python",
   "pygments_lexer": "ipython3",
   "version": "3.7.4"
  },
  "toc": {
   "base_numbering": 1,
   "nav_menu": {},
   "number_sections": true,
   "sideBar": true,
   "skip_h1_title": false,
   "title_cell": "Table of Contents",
   "title_sidebar": "Contents",
   "toc_cell": false,
   "toc_position": {},
   "toc_section_display": true,
   "toc_window_display": false
  },
  "varInspector": {
   "cols": {
    "lenName": 16,
    "lenType": 16,
    "lenVar": 40
   },
   "kernels_config": {
    "python": {
     "delete_cmd_postfix": "",
     "delete_cmd_prefix": "del ",
     "library": "var_list.py",
     "varRefreshCmd": "print(var_dic_list())"
    },
    "r": {
     "delete_cmd_postfix": ") ",
     "delete_cmd_prefix": "rm(",
     "library": "var_list.r",
     "varRefreshCmd": "cat(var_dic_list()) "
    }
   },
   "types_to_exclude": [
    "module",
    "function",
    "builtin_function_or_method",
    "instance",
    "_Feature"
   ],
   "window_display": false
  }
 },
 "nbformat": 4,
 "nbformat_minor": 2
}
