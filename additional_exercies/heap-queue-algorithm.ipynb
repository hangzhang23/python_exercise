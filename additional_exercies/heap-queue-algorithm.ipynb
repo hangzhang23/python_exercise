{
 "cells": [
  {
   "cell_type": "markdown",
   "metadata": {},
   "source": [
    "---\n",
    "## Python: heap queue algorithm - Exercises, Practice, Solution\n",
    "\n",
    "---"
   ]
  },
  {
   "cell_type": "markdown",
   "metadata": {},
   "source": [
    "### Write a Python program to find the three largest integers from a given list of numbers using Heap queue algorithm. Go to the editor"
   ]
  },
  {
   "cell_type": "code",
   "execution_count": 1,
   "metadata": {
    "ExecuteTime": {
     "end_time": "2020-10-15T07:46:57.218575Z",
     "start_time": "2020-10-15T07:46:57.214276Z"
    }
   },
   "outputs": [
    {
     "name": "stdout",
     "output_type": "stream",
     "text": [
      "Original list:\n",
      "[25, 35, 22, 85, 14, 65, 75, 22, 58]\n",
      "\n",
      "Three largest numbers are: [85, 75, 65]\n"
     ]
    }
   ],
   "source": [
    "import heapq as hq\n",
    "nums_list = [25, 35, 22, 85, 14, 65, 75, 22, 58]\n",
    "print(\"Original list:\")\n",
    "print(nums_list)\n",
    "# Find three largest values\n",
    "largest_nums = hq.nlargest(3, nums_list)\n",
    "print(\"\\nThree largest numbers are:\", largest_nums)\n"
   ]
  },
  {
   "cell_type": "markdown",
   "metadata": {},
   "source": [
    "### Write a Python program to find the three smallest integers from a given list of numbers using Heap queue algorithm. Go to the editor\n"
   ]
  },
  {
   "cell_type": "code",
   "execution_count": 2,
   "metadata": {
    "ExecuteTime": {
     "end_time": "2020-10-15T07:47:09.228129Z",
     "start_time": "2020-10-15T07:47:09.223781Z"
    }
   },
   "outputs": [
    {
     "name": "stdout",
     "output_type": "stream",
     "text": [
      "Original list:\n",
      "[25, 35, 22, 85, 14, 65, 75, 22, 58]\n",
      "\n",
      "Three smallest numbers are: [14, 22, 22]\n"
     ]
    }
   ],
   "source": [
    "import heapq as hq\n",
    "nums_list = [25, 35, 22, 85, 14, 65, 75, 22, 58]\n",
    "print(\"Original list:\")\n",
    "print(nums_list)\n",
    "# Find three smallest values\n",
    "largest_nums = hq.nsmallest(3, nums_list)\n",
    "print(\"\\nThree smallest numbers are:\", largest_nums)\n"
   ]
  },
  {
   "cell_type": "markdown",
   "metadata": {},
   "source": [
    "### Write a Python program to implement a heapsort by pushing all values onto a heap and then popping off the smallest values one at a time. Go to the editor\n"
   ]
  },
  {
   "cell_type": "code",
   "execution_count": 3,
   "metadata": {
    "ExecuteTime": {
     "end_time": "2020-10-15T07:47:23.290383Z",
     "start_time": "2020-10-15T07:47:23.285134Z"
    }
   },
   "outputs": [
    {
     "name": "stdout",
     "output_type": "stream",
     "text": [
      "[0, 1, 2, 3, 4, 5, 6, 7, 8, 9]\n"
     ]
    }
   ],
   "source": [
    "import heapq as hq\n",
    "def heapsort(iterable):\n",
    "    h = []\n",
    "    for value in iterable:\n",
    "        hq.heappush(h, value)\n",
    "    return [hq.heappop(h) for i in range(len(h))]\n",
    "print(heapsort([1, 3, 5, 7, 9, 2, 4, 6, 8, 0]))\n"
   ]
  },
  {
   "cell_type": "markdown",
   "metadata": {},
   "source": [
    "### Write a Python function which accepts an arbitrary list and converts it to a heap using Heap queue algorithm. Go to the editor"
   ]
  },
  {
   "cell_type": "code",
   "execution_count": 4,
   "metadata": {
    "ExecuteTime": {
     "end_time": "2020-10-15T07:47:36.134741Z",
     "start_time": "2020-10-15T07:47:36.130235Z"
    }
   },
   "outputs": [
    {
     "name": "stdout",
     "output_type": "stream",
     "text": [
      "Raw Heap:  [25, 44, 68, 21, 39, 23, 89]\n",
      "\n",
      "Heapify(heap):  [21, 25, 23, 44, 39, 68, 89]\n"
     ]
    }
   ],
   "source": [
    "import heapq as hq\n",
    "raw_heap = [25, 44, 68, 21, 39, 23, 89]\n",
    "print(\"Raw Heap: \", raw_heap)\n",
    "hq.heapify(raw_heap)\n",
    "print(\"\\nHeapify(heap): \", raw_heap)\n"
   ]
  },
  {
   "cell_type": "markdown",
   "metadata": {},
   "source": [
    "### Write a Python program to delete the smallest element from the given Heap and then inserts a new item. Go to the editor"
   ]
  },
  {
   "cell_type": "code",
   "execution_count": 5,
   "metadata": {
    "ExecuteTime": {
     "end_time": "2020-10-15T07:48:06.116916Z",
     "start_time": "2020-10-15T07:48:06.110838Z"
    }
   },
   "outputs": [
    {
     "name": "stdout",
     "output_type": "stream",
     "text": [
      "heap:  [21, 25, 23, 44, 39, 68, 89]\n",
      "heapreplace(heap, 21):  [21, 25, 23, 44, 39, 68, 89]\n",
      "heapreplace(heap, 110):  [23, 25, 68, 44, 39, 110, 89]\n"
     ]
    }
   ],
   "source": [
    "import heapq as hq\n",
    "\n",
    "heap = [25, 44, 68, 21, 39, 23, 89]\n",
    "hq.heapify(heap)\n",
    "print(\"heap: \", heap)\n",
    "hq.heapreplace(heap, 21)\n",
    "print(\"heapreplace(heap, 21): \", heap)\n",
    "hq.heapreplace(heap, 110)\n",
    "print(\"heapreplace(heap, 110): \", heap)\n"
   ]
  },
  {
   "cell_type": "markdown",
   "metadata": {},
   "source": [
    "### Write a Python program to sort a given list of elements in ascending order using Heap queue algorithm. Go to the editor\n"
   ]
  },
  {
   "cell_type": "code",
   "execution_count": 6,
   "metadata": {
    "ExecuteTime": {
     "end_time": "2020-10-15T07:48:17.870502Z",
     "start_time": "2020-10-15T07:48:17.865445Z"
    }
   },
   "outputs": [
    {
     "name": "stdout",
     "output_type": "stream",
     "text": [
      "Original list:\n",
      "[18, 14, 10, 9, 8, 7, 9, 3, 2, 4, 1]\n",
      "\n",
      "Sorted list:\n",
      "[1, 2, 3, 4, 7, 8, 9, 9, 10, 14, 18]\n"
     ]
    }
   ],
   "source": [
    "import heapq as hq\n",
    "nums_list = [18, 14, 10, 9, 8, 7, 9, 3, 2, 4, 1]\n",
    "print(\"Original list:\")\n",
    "print(nums_list)\n",
    "hq.heapify(nums_list)\n",
    "s_result = [hq.heappop(nums_list) for i in range(len(nums_list))]\n",
    "print(\"\\nSorted list:\")\n",
    "print(s_result)\n"
   ]
  },
  {
   "cell_type": "markdown",
   "metadata": {},
   "source": [
    "### Write a Python program to find the kth (1 <= k <= array's length) largest element in an unsorted array using Heap queue algorithm. Go to the editor"
   ]
  },
  {
   "cell_type": "code",
   "execution_count": 7,
   "metadata": {
    "ExecuteTime": {
     "end_time": "2020-10-15T07:48:28.111050Z",
     "start_time": "2020-10-15T07:48:28.103989Z"
    }
   },
   "outputs": [
    {
     "name": "stdout",
     "output_type": "stream",
     "text": [
      "Third largest element: 41\n",
      "\n",
      "Second largest element: 50\n",
      "\n",
      "Fifth largest element: 12\n"
     ]
    }
   ],
   "source": [
    "import heapq\n",
    "\n",
    "class Solution(object):\n",
    "    def find_Kth_Largest(self, nums, k):\n",
    "        \"\"\"\n",
    "        :type nums: List[int]\n",
    "        :type of k: int\n",
    "        :return value type: int\n",
    "        \"\"\"\n",
    "        h = []\n",
    "        for e in nums:\n",
    "            heapq.heappush(h, (-e, e))\n",
    "        for i in range(k):\n",
    "            w, e = heapq.heappop(h)\n",
    "            if i == k - 1:\n",
    "                return e\n",
    "\n",
    "arr_nums = [12, 14, 9, 50, 61, 41]\n",
    "s = Solution()\n",
    "result = s.find_Kth_Largest(arr_nums, 3)\n",
    "print(\"Third largest element:\",result)\n",
    "result = s.find_Kth_Largest(arr_nums, 2)\n",
    "print(\"\\nSecond largest element:\",result)\n",
    "result = s.find_Kth_Largest(arr_nums, 5)\n",
    "print(\"\\nFifth largest element:\",result)\n"
   ]
  },
  {
   "cell_type": "markdown",
   "metadata": {},
   "source": [
    "### Write a Python program to compute maximum product of three numbers of a given array of integers using Heap queue algorithm. Go to the editor"
   ]
  },
  {
   "cell_type": "code",
   "execution_count": 8,
   "metadata": {
    "ExecuteTime": {
     "end_time": "2020-10-15T07:48:45.022160Z",
     "start_time": "2020-10-15T07:48:45.016446Z"
    }
   },
   "outputs": [
    {
     "name": "stdout",
     "output_type": "stream",
     "text": [
      "Original array elements:\n",
      "[12, 74, 9, 50, 61, 41]\n",
      "Maximum product of three numbers of the said array:\n",
      "225700\n"
     ]
    }
   ],
   "source": [
    "def maximumProduct(nums):\n",
    "    import heapq\n",
    "    a, b = heapq.nlargest(3, nums), heapq.nsmallest(2, nums)\n",
    "    return max(a[0] * a[1] * a[2], a[0] * b[0] * b[1])\n",
    "arr_nums = [12, 74, 9, 50, 61, 41]\n",
    "print(\"Original array elements:\")\n",
    "print(arr_nums)\n",
    "print(\"Maximum product of three numbers of the said array:\")\n",
    "print(maximumProduct(arr_nums))\n"
   ]
  },
  {
   "cell_type": "markdown",
   "metadata": {},
   "source": [
    "### Write a Python program to find the top k integers that occur the most frequently from a given lists of sorted and distinct integers using Heap queue algorithm. Go to the editor"
   ]
  },
  {
   "cell_type": "code",
   "execution_count": 9,
   "metadata": {
    "ExecuteTime": {
     "end_time": "2020-10-15T07:48:54.804518Z",
     "start_time": "2020-10-15T07:48:54.794821Z"
    }
   },
   "outputs": [
    {
     "name": "stdout",
     "output_type": "stream",
     "text": [
      "Original lists:\n",
      "[[1, 2, 6], [1, 3, 4, 5, 7, 8], [1, 3, 5, 6, 8, 9], [2, 5, 7, 11], [1, 4, 7, 8, 12]]\n",
      "\n",
      "Top 3 integers that occur the most frequently in the said lists:\n",
      "[5, 7, 1]\n"
     ]
    }
   ],
   "source": [
    "def func(nums, k):\n",
    "    import collections\n",
    "    d = collections.defaultdict(int)\n",
    "    for row in nums:\n",
    "        for i in row:\n",
    "            d[i] += 1\n",
    "    temp = []\n",
    "    import heapq\n",
    "    for key, v in d.items():\n",
    "        if len(temp) < k:\n",
    "            temp.append((v, key))\n",
    "            if len(temp) == k:\n",
    "                heapq.heapify(temp)\n",
    "        else:\n",
    "            if v > temp[0][0]:\n",
    "                heapq.heappop(temp)\n",
    "                heapq.heappush(temp, (v, key))\n",
    "    result = []\n",
    "    while temp:\n",
    "        v, key = heapq.heappop(temp)\n",
    "        result.append(key)\n",
    "    return result\n",
    "nums = [\n",
    "      [1, 2, 6],\n",
    "      [1, 3, 4, 5, 7, 8],\n",
    "      [1, 3, 5, 6, 8, 9],\n",
    "      [2, 5, 7, 11],\n",
    "      [1, 4, 7, 8, 12]\n",
    "    ]  \n",
    "k = 3\n",
    "print(\"Original lists:\")\n",
    "print(nums)\n",
    "print(\"\\nTop 3 integers that occur the most frequently in the said lists:\")\n",
    "print(func(nums, k))\n"
   ]
  },
  {
   "cell_type": "markdown",
   "metadata": {},
   "source": [
    "### Write a Python program to get the n expensive and cheap price items from a given dataset using Heap queue algorithm. Go to the editor\n"
   ]
  },
  {
   "cell_type": "code",
   "execution_count": 10,
   "metadata": {
    "ExecuteTime": {
     "end_time": "2020-10-15T07:49:09.907010Z",
     "start_time": "2020-10-15T07:49:09.899850Z"
    }
   },
   "outputs": [
    {
     "name": "stdout",
     "output_type": "stream",
     "text": [
      "Original datasets:\n",
      "[{'name': 'Item-1', 'price': 101.1},\n",
      " {'name': 'Item-2', 'price': 555.22},\n",
      " {'name': 'Item-3', 'price': 45.09},\n",
      " {'name': 'Item-4', 'price': 22.75},\n",
      " {'name': 'Item-5', 'price': 16.3},\n",
      " {'name': 'Item-6', 'price': 110.65}]\n",
      "\n",
      "First 3 expensive items:\n",
      "[{'name': 'Item-2', 'price': 555.22},\n",
      " {'name': 'Item-6', 'price': 110.65},\n",
      " {'name': 'Item-1', 'price': 101.1}]\n",
      "\n",
      "First 3 cheap items:\n",
      "[{'name': 'Item-5', 'price': 16.3},\n",
      " {'name': 'Item-4', 'price': 22.75},\n",
      " {'name': 'Item-3', 'price': 45.09}]\n"
     ]
    }
   ],
   "source": [
    "import heapq\n",
    "from pprint import pprint\n",
    "items = [\n",
    "    {'name': 'Item-1', 'price': 101.1},\n",
    "    {'name': 'Item-2', 'price': 555.22},\n",
    "    {'name': 'Item-3', 'price': 45.09},\n",
    "    {'name': 'Item-4', 'price': 22.75},\n",
    "    {'name': 'Item-5', 'price': 16.30},\n",
    "    {'name': 'Item-6', 'price': 110.65}\n",
    "]\n",
    "\n",
    "cheap = heapq.nsmallest(3, items, key=lambda s: s['price'])\n",
    "expensive = heapq.nlargest(3, items, key=lambda s: s['price'])\n",
    "print(\"Original datasets:\")\n",
    "pprint(items)\n",
    "print(\"\\nFirst 3 expensive items:\")\n",
    "pprint(expensive)\n",
    "print(\"\\nFirst 3 cheap items:\")\n",
    "pprint(cheap)\n"
   ]
  },
  {
   "cell_type": "markdown",
   "metadata": {},
   "source": [
    "### Write a Python program to merge multiple sorted inputs into a single sorted iterator (over the sorted values) using Heap queue algorithm. Go to the editor"
   ]
  },
  {
   "cell_type": "code",
   "execution_count": 11,
   "metadata": {
    "ExecuteTime": {
     "end_time": "2020-10-15T07:49:25.774840Z",
     "start_time": "2020-10-15T07:49:25.769931Z"
    }
   },
   "outputs": [
    {
     "name": "stdout",
     "output_type": "stream",
     "text": [
      "[4, 5, 11, 15, 19, 20, 24, 24, 25, 25, 26, 29, 48, 54, 56, 110, 154, 233]\n"
     ]
    }
   ],
   "source": [
    "import heapq\n",
    "num1 = [25, 24, 15, 4, 5, 29, 110]\n",
    "num2 = [19, 20, 11, 56, 25, 233, 154]\n",
    "num3 = [24, 26, 54, 48]\n",
    "num1 = sorted(num1)\n",
    "num2 = sorted(num2)\n",
    "num3 = sorted(num3)\n",
    "result = heapq.merge(num1, num2, num3)\n",
    "print(list(result))\n"
   ]
  },
  {
   "cell_type": "markdown",
   "metadata": {},
   "source": [
    "### Given a n x n matrix where each of the rows and columns are sorted in ascending order, write a Python program to find the kth smallest element in the matrix. Go to the editor\n"
   ]
  },
  {
   "cell_type": "code",
   "execution_count": 12,
   "metadata": {
    "ExecuteTime": {
     "end_time": "2020-10-15T07:49:38.972821Z",
     "start_time": "2020-10-15T07:49:38.960004Z"
    }
   },
   "outputs": [
    {
     "name": "stdout",
     "output_type": "stream",
     "text": [
      "First smallest element: 0\n",
      "\n",
      "Second smallest element: 5\n",
      "\n",
      "Third smallest element: 9\n"
     ]
    }
   ],
   "source": [
    "import heapq\n",
    "class Solution(object):\n",
    "    def find_Kth_Smallest(self, matrix, k):\n",
    "        \"\"\"\n",
    "        :type matrix: List[List[int]]\n",
    "        :type k: int\n",
    "        :rtype: int\n",
    "        \"\"\"\n",
    "        m, n = len(matrix), len(matrix[0])\n",
    "        temp = [[False] * n for _ in range(m)]\n",
    "        q = [(matrix[0][0], 0, 0)]\n",
    "        ans = None\n",
    "        temp[0][0] = True\n",
    "        for _ in range(k):\n",
    "            ans, i, j = heapq.heappop(q)\n",
    "            if i + 1 < m and not temp[i + 1][j]:\n",
    "                temp[i + 1][j] = True\n",
    "                heapq.heappush(q, (matrix[i + 1][j], i + 1, j))\n",
    "            if j + 1 < n and not temp[i][j + 1]:\n",
    "                temp[i][j + 1] = True\n",
    "                heapq.heappush(q, (matrix[i][j + 1], i, j + 1))\n",
    "        return ans\n",
    "\n",
    "matrix = [\n",
    "   [0, 5, 9],\n",
    "   [11, 12, 13],\n",
    "   [15, 17, 19]   \n",
    "]\n",
    "k = 1\n",
    "s = Solution()\n",
    "result = s.find_Kth_Smallest(matrix, k)\n",
    "print(\"First smallest element:\",result)\n",
    "k = 2\n",
    "s = Solution()\n",
    "result = s.find_Kth_Smallest(matrix, k)\n",
    "print(\"\\nSecond smallest element:\",result)\n",
    "k = 3\n",
    "s = Solution()\n",
    "result = s.find_Kth_Smallest(matrix, k)\n",
    "print(\"\\nThird smallest element:\",result)\n"
   ]
  },
  {
   "cell_type": "markdown",
   "metadata": {},
   "source": [
    "### Write a Python program to find the nth super ugly number from a given prime list of size k using Heap queue algorithm. Go to the editor\n"
   ]
  },
  {
   "cell_type": "code",
   "execution_count": 13,
   "metadata": {
    "ExecuteTime": {
     "end_time": "2020-10-15T07:49:54.798632Z",
     "start_time": "2020-10-15T07:49:54.791913Z"
    }
   },
   "outputs": [
    {
     "name": "stdout",
     "output_type": "stream",
     "text": [
      "32\n"
     ]
    }
   ],
   "source": [
    "import heapq\n",
    "def nth_Super_Ugly_Number(n, primes):\n",
    "    uglies = [1]\n",
    "\n",
    "    def gen(prime):\n",
    "        for ugly in uglies:\n",
    "            yield ugly * prime\n",
    "\n",
    "    merged = heapq.merge(*map(gen, primes))\n",
    "    while len(uglies) < n:\n",
    "        ugly = next(merged)\n",
    "        if ugly != uglies[-1]:\n",
    "            uglies.append(ugly)\n",
    "    return uglies[-1]\n",
    "n = 12\n",
    "primes = [2,7,13,19]\n",
    "print(nth_Super_Ugly_Number(n, primes))\n"
   ]
  },
  {
   "cell_type": "markdown",
   "metadata": {},
   "source": [
    "### Write a Python program to get the k most frequent elements from a given non-empty list of words using Heap queue algorithm. Go to the editor\n",
    "```\n",
    "Write a Python program to get the k most frequent elements from a given non-empty list of words using Heap queue algorithm.\n",
    "\n",
    "Note:\n",
    "Range of k, 1 ≤ k ≤ number of unique elements and input words contain only lowercase letters.\n",
    "```"
   ]
  },
  {
   "cell_type": "code",
   "execution_count": 14,
   "metadata": {
    "ExecuteTime": {
     "end_time": "2020-10-15T07:50:08.996416Z",
     "start_time": "2020-10-15T07:50:08.989201Z"
    }
   },
   "outputs": [
    {
     "name": "stdout",
     "output_type": "stream",
     "text": [
      "3 most frequent elements:\n",
      "['a', 'abc', 'abcd']\n"
     ]
    }
   ],
   "source": [
    "import heapq\n",
    "from collections import Counter\n",
    "class Solution:\n",
    "    def top_K_Frequent(self, words, k):\n",
    "        \"\"\"\n",
    "        :type words: List[str]\n",
    "        :type k: int\n",
    "        :return type: List[str]\n",
    "        \"\"\"\n",
    "        ctr = Counter(words)\n",
    "        heap = [(-ctr[word], word) for word in ctr]\n",
    "        heapq.heapify(heap)\n",
    "        return [heapq.heappop(heap)[1] for _ in range(k)]\n",
    "\n",
    "if __name__ == '__main__':\n",
    "    words = [\"a\", \"abc\", \"abcdef\", \"a\", \"abcd\", \"abcd\", \"abc\", \"abcdefg\"]\n",
    "    k = 3\n",
    "    s = Solution()\n",
    "    print(\"3 most frequent elements:\")\n",
    "    print(s.top_K_Frequent(words, k))\n"
   ]
  },
  {
   "cell_type": "markdown",
   "metadata": {},
   "source": [
    "### Write a Python program to check if the letters of a given string can be rearranged so that two characters that are adjacent to each other are different using Heap queue algorithm. Go to the editor\n",
    "```\n",
    "Note:\n",
    "If there is no output return the empty string.\n",
    "```"
   ]
  },
  {
   "cell_type": "code",
   "execution_count": 15,
   "metadata": {
    "ExecuteTime": {
     "end_time": "2020-10-15T07:51:13.812622Z",
     "start_time": "2020-10-15T07:51:13.803409Z"
    }
   },
   "outputs": [
    {
     "name": "stdout",
     "output_type": "stream",
     "text": [
      "aba\n",
      "abc\n",
      "abab\n",
      "cdabcd\n"
     ]
    }
   ],
   "source": [
    "import heapq\n",
    "from collections import Counter\n",
    "def reorganizeString(S):\n",
    "    ctr = Counter(S)\n",
    "    heap = [(-value, key) for key, value in ctr.items()]\n",
    "    heapq.heapify(heap)\n",
    "    if (-heap[0][0]) * 2 > len(S) + 1: \n",
    "        return \"\"\n",
    "    ans = []\n",
    "    while len(heap) >= 2:\n",
    "        nct1, char1 = heapq.heappop(heap)\n",
    "        nct2, char2 = heapq.heappop(heap)\n",
    "        ans.extend([char1, char2])\n",
    "        if nct1 + 1: heapq.heappush(heap, (nct1 + 1, char1))\n",
    "        if nct2 + 1: heapq.heappush(heap, (nct2 + 1, char2))\n",
    "    return \"\".join(ans) + (heap[0][1] if heap else \"\")\n",
    "\n",
    "print(reorganizeString(\"aab\"))\n",
    "print(reorganizeString(\"abc\"))\n",
    "print(reorganizeString(\"aabb\"))\n",
    "print(reorganizeString(\"abccdd\"))\n"
   ]
  },
  {
   "cell_type": "markdown",
   "metadata": {},
   "source": [
    "### Write a Python program which add integer numbers from the data stream to a heapq and compute the median of all elements. Use Heap queue algorithm. Go to the editor\n",
    "```\n",
    "From Wikipedia \"In statistics and probability theory, the median is the value separating the higher half from the lower half of a data sample, a population or a probability distribution. For a data set, it may be thought of as the \"middle\" value. For example, in the data set [1, 3, 3, 6, 7, 8, 9], the median is 6, the fourth largest, and also the fourth smallest, number in the sample. For a continuous probability distribution, the median is the value such that a number is equally likely to fall above or below it.\"\n",
    "```"
   ]
  },
  {
   "cell_type": "code",
   "execution_count": 16,
   "metadata": {
    "ExecuteTime": {
     "end_time": "2020-10-15T07:52:04.158143Z",
     "start_time": "2020-10-15T07:52:04.143196Z"
    }
   },
   "outputs": [
    {
     "name": "stdout",
     "output_type": "stream",
     "text": [
      "1.5\n",
      "2\n",
      "3\n"
     ]
    }
   ],
   "source": [
    "import heapq\n",
    "class Median_Finder:\n",
    "    \n",
    "    def __init__(self):\n",
    "        #initialize data structure\n",
    "        self.max_heap = []\n",
    "        self.min_heap = []\n",
    "        \n",
    "\n",
    "    def add_Number(self, num):\n",
    "        #type num: int, rtype: void\n",
    "        if not self.max_heap and not self.min_heap:\n",
    "            heapq.heappush(self.min_heap, num)\n",
    "            return \n",
    "        if not self.max_heap:\n",
    "            if num > self.min_heap[0]:\n",
    "                heapq.heappush(self.max_heap, -heapq.heappop(self.min_heap))\n",
    "                heapq.heappush(self.min_heap, num)\n",
    "            else:\n",
    "                heapq.heappush(self.max_heap, -num)\n",
    "            return\n",
    "        if len(self.max_heap) == len(self.min_heap):\n",
    "            if num < -self.max_heap[0]:\n",
    "                heapq.heappush(self.max_heap, -num)\n",
    "            else:\n",
    "                heapq.heappush(self.min_heap, num)\n",
    "        elif len(self.max_heap) > len(self.min_heap):\n",
    "            if num < -self.max_heap[0]:\n",
    "                heapq.heappush(self.min_heap, -heapq.heappop(self.max_heap))\n",
    "                heapq.heappush(self.max_heap, -num)\n",
    "            else:\n",
    "                heapq.heappush(self.min_heap, num)\n",
    "        else:\n",
    "            if num > self.min_heap[0]:\n",
    "                heapq.heappush(self.max_heap, -heapq.heappop(self.min_heap))\n",
    "                heapq.heappush(self.min_heap, num)\n",
    "            else:\n",
    "                heapq.heappush(self.max_heap, -num)\n",
    "        \n",
    "\n",
    "    def find_Median(self):\n",
    "        #rtype: float\n",
    "        if len(self.max_heap) == len(self.min_heap):\n",
    "            return (-self.max_heap[0] + self.min_heap[0]) / 2\n",
    "        elif len(self.max_heap) > len(self.min_heap):\n",
    "            return -self.max_heap[0]\n",
    "        else:\n",
    "            return self.min_heap[0] \n",
    "S = Median_Finder()\n",
    "S.add_Number(1)\n",
    "S.add_Number(2)\n",
    "result = S.find_Median()\n",
    "print(result)\n",
    "S.add_Number(3)\n",
    "result = S.find_Median()\n",
    "print(result)\n",
    "S.add_Number(4)\n",
    "S.add_Number(5)\n",
    "result = S.find_Median()\n",
    "print(result)\n"
   ]
  },
  {
   "cell_type": "markdown",
   "metadata": {},
   "source": [
    "### You are given two integer arrays sorted in ascending order and an integer k. Write a Python program to find k number of pairs (u, v) which consists of one element from the first array and one element from the second array using Heap queue algorithm. Go to the editor"
   ]
  },
  {
   "cell_type": "code",
   "execution_count": 17,
   "metadata": {
    "ExecuteTime": {
     "end_time": "2020-10-15T07:53:14.923561Z",
     "start_time": "2020-10-15T07:53:14.916219Z"
    }
   },
   "outputs": [
    {
     "name": "stdout",
     "output_type": "stream",
     "text": [
      "[[1, 2], [1, 4]]\n"
     ]
    }
   ],
   "source": [
    "import heapq\n",
    "\n",
    "\n",
    "def k_Smallest_Pairs(nums1, nums2, k):\n",
    "    queue = []\n",
    "\n",
    "    def push(i, j):\n",
    "        if i < len(nums1) and j < len(nums2):\n",
    "            heapq.heappush(queue, [nums1[i] + nums2[j], i, j])\n",
    "    push(0, 0)\n",
    "    pairs = []\n",
    "    while queue and len(pairs) < k:\n",
    "        _, i, j = heapq.heappop(queue)\n",
    "        pairs.append([nums1[i], nums2[j]])\n",
    "        push(i, j + 1)\n",
    "        if j == 0:\n",
    "            push(i + 1, 0)\n",
    "    return pairs\n",
    "\n",
    "\n",
    "nums1 = [1, 3, 7]\n",
    "nums2 = [2, 4, 6]\n",
    "k = 2\n",
    "result = k_Smallest_Pairs(nums1, nums2, k)\n",
    "print(result)"
   ]
  },
  {
   "cell_type": "markdown",
   "metadata": {},
   "source": [
    "### Write a Python program to find the nth ugly number using Heap queue algorithm. Go to the editor\n"
   ]
  },
  {
   "cell_type": "markdown",
   "metadata": {},
   "source": [
    "```\n",
    "Ugly numbers are positive numbers whose only prime factors are 2, 3 or 5. The sequence 1, 2, 3, 4, 5, 6, 8, 9, 10, 12, ... shows the first 10 ugly numbers.\n",
    "Note: 1 is typically treated as an ugly number.\n",
    "```"
   ]
  },
  {
   "cell_type": "code",
   "execution_count": 18,
   "metadata": {
    "ExecuteTime": {
     "end_time": "2020-10-15T07:53:37.520132Z",
     "start_time": "2020-10-15T07:53:37.510559Z"
    }
   },
   "outputs": [
    {
     "name": "stdout",
     "output_type": "stream",
     "text": [
      "7th Ugly number:\n",
      "1\n",
      "\n",
      "10th Ugly number:\n",
      "1\n"
     ]
    }
   ],
   "source": [
    "import heapq\n",
    "\n",
    "\n",
    "class Solution(object):\n",
    "    #:type n: integer\n",
    "    #:return type: integer\n",
    "    def nth_Ugly_Number(self, n):\n",
    "        ugly_num = 0\n",
    "        heap = []\n",
    "        heapq.heappush(heap, 1)\n",
    "        for _ in range(n):\n",
    "            ugly_num = heapq.heappop(heap)\n",
    "            if ugly_num % 2 == 0:\n",
    "                heapq.heappush(heap, ugly_num * 2)\n",
    "            elif ugly_num % 3 == 0:\n",
    "                heapq.heappush(heap, ugly_num * 2)\n",
    "                heapq.heappush(heap, ugly_num * 3)\n",
    "            else:\n",
    "                heapq.heappush(heap, ugly_num * 2)\n",
    "                heapq.heappush(heap, ugly_num * 3)\n",
    "                heapq.heappush(heap, ugly_num * 5)\n",
    "                return ugly_num\n",
    "\n",
    "\n",
    "n = 7\n",
    "S = Solution()\n",
    "result = S.nth_Ugly_Number(n)\n",
    "print(\"7th Ugly number:\")\n",
    "print(result)\n",
    "n = 10\n",
    "result = S.nth_Ugly_Number(n)\n",
    "print(\"\\n10th Ugly number:\")\n",
    "print(result)"
   ]
  },
  {
   "cell_type": "markdown",
   "metadata": {},
   "source": [
    "### Write a Python program to print a heap as a tree-like data structure. Go to the editor\n"
   ]
  },
  {
   "cell_type": "code",
   "execution_count": 19,
   "metadata": {
    "ExecuteTime": {
     "end_time": "2020-10-15T07:54:23.742294Z",
     "start_time": "2020-10-15T07:54:23.733074Z"
    }
   },
   "outputs": [
    {
     "name": "stdout",
     "output_type": "stream",
     "text": [
      "\n",
      "                             1                              \n",
      "              2                             3               \n",
      "       4              7              9              10      \n",
      "   8      16     14  \n",
      "------------------------------------------------------------\n"
     ]
    }
   ],
   "source": [
    "import math\n",
    "from io import StringIO\n",
    "def show_tree(tree, total_width=60, fill=' '):\n",
    "    \"\"\"Pretty-print a tree.\n",
    "    total_width depends on your input size\"\"\"\n",
    "    output = StringIO()\n",
    "    last_row = -1\n",
    "    for i, n in enumerate(tree):\n",
    "        if i:\n",
    "            row = int(math.floor(math.log(i+1, 2)))\n",
    "        else:\n",
    "            row = 0\n",
    "        if row != last_row:\n",
    "            output.write('\\n')\n",
    "        columns = 2**row\n",
    "        col_width = int(math.floor((total_width * 1.0) / columns))\n",
    "        output.write(str(n).center(col_width, fill))\n",
    "        last_row = row\n",
    "    print (output.getvalue())\n",
    "    print ('-' * total_width)\n",
    "    return\n",
    "\n",
    "#test\n",
    "import heapq\n",
    "heap = []\n",
    "heapq.heappush(heap, 1)\n",
    "heapq.heappush(heap, 2)\n",
    "heapq.heappush(heap, 3)\n",
    "heapq.heappush(heap, 4)\n",
    "heapq.heappush(heap, 7)\n",
    "heapq.heappush(heap, 9)\n",
    "heapq.heappush(heap, 10)\n",
    "heapq.heappush(heap, 8)\n",
    "heapq.heappush(heap, 16)\n",
    "heapq.heappush(heap, 14)\n",
    "show_tree(heap)\n"
   ]
  },
  {
   "cell_type": "code",
   "execution_count": null,
   "metadata": {},
   "outputs": [],
   "source": []
  }
 ],
 "metadata": {
  "kernelspec": {
   "display_name": "Python 3",
   "language": "python",
   "name": "python3"
  },
  "language_info": {
   "codemirror_mode": {
    "name": "ipython",
    "version": 3
   },
   "file_extension": ".py",
   "mimetype": "text/x-python",
   "name": "python",
   "nbconvert_exporter": "python",
   "pygments_lexer": "ipython3",
   "version": "3.7.4"
  },
  "toc": {
   "base_numbering": 1,
   "nav_menu": {},
   "number_sections": true,
   "sideBar": true,
   "skip_h1_title": false,
   "title_cell": "Table of Contents",
   "title_sidebar": "Contents",
   "toc_cell": false,
   "toc_position": {},
   "toc_section_display": true,
   "toc_window_display": false
  },
  "varInspector": {
   "cols": {
    "lenName": 16,
    "lenType": 16,
    "lenVar": 40
   },
   "kernels_config": {
    "python": {
     "delete_cmd_postfix": "",
     "delete_cmd_prefix": "del ",
     "library": "var_list.py",
     "varRefreshCmd": "print(var_dic_list())"
    },
    "r": {
     "delete_cmd_postfix": ") ",
     "delete_cmd_prefix": "rm(",
     "library": "var_list.r",
     "varRefreshCmd": "cat(var_dic_list()) "
    }
   },
   "types_to_exclude": [
    "module",
    "function",
    "builtin_function_or_method",
    "instance",
    "_Feature"
   ],
   "window_display": false
  }
 },
 "nbformat": 4,
 "nbformat_minor": 2
}
