{
 "cells": [
  {
   "cell_type": "markdown",
   "metadata": {},
   "source": [
    "# Collections - Exercises, Practice, Solution"
   ]
  },
  {
   "cell_type": "markdown",
   "metadata": {},
   "source": [
    "## Write a Python program that iterate over elements repeating each as many times as its count.\n",
    "##### Note: Elements are returned in arbitrary order."
   ]
  },
  {
   "cell_type": "code",
   "execution_count": 1,
   "metadata": {
    "ExecuteTime": {
     "end_time": "2020-09-26T02:05:17.008907Z",
     "start_time": "2020-09-26T02:05:17.005351Z"
    }
   },
   "outputs": [
    {
     "name": "stdout",
     "output_type": "stream",
     "text": [
      "['p', 'p', 'p', 'p', 'q', 'q']\n"
     ]
    }
   ],
   "source": [
    "from collections import Counter\n",
    "c = Counter(p=4, q=2, r=0, s=-2)\n",
    "print(list(c.elements()))"
   ]
  },
  {
   "cell_type": "markdown",
   "metadata": {},
   "source": [
    "## Write a Python program to find the most common elements and their counts of a specified text."
   ]
  },
  {
   "cell_type": "code",
   "execution_count": 2,
   "metadata": {
    "ExecuteTime": {
     "end_time": "2020-09-26T02:05:37.196575Z",
     "start_time": "2020-09-26T02:05:37.192926Z"
    }
   },
   "outputs": [
    {
     "name": "stdout",
     "output_type": "stream",
     "text": [
      "Original string: lkseropewdssafsdfafkpwe\n",
      "Most common three characters of the said string:\n",
      "[('s', 4), ('e', 3), ('f', 3)]\n"
     ]
    }
   ],
   "source": [
    "from collections import Counter\n",
    "s = 'lkseropewdssafsdfafkpwe'\n",
    "print(\"Original string: \"+s)\n",
    "print(\"Most common three characters of the said string:\")\n",
    "print(Counter(s).most_common(3))"
   ]
  },
  {
   "cell_type": "markdown",
   "metadata": {},
   "source": [
    "## Write a Python program to create a new deque with three items and iterate over the deque's elements."
   ]
  },
  {
   "cell_type": "code",
   "execution_count": 3,
   "metadata": {
    "ExecuteTime": {
     "end_time": "2020-09-26T02:07:38.926321Z",
     "start_time": "2020-09-26T02:07:38.923104Z"
    }
   },
   "outputs": [
    {
     "name": "stdout",
     "output_type": "stream",
     "text": [
      "a\n",
      "e\n",
      "i\n",
      "o\n",
      "u\n"
     ]
    }
   ],
   "source": [
    "from collections import deque\n",
    "dq = deque('aeiou')\n",
    "for element in dq:\n",
    "    print(element)"
   ]
  },
  {
   "cell_type": "markdown",
   "metadata": {},
   "source": [
    "## Write a Python program to find the occurrences of 10 most common words in a given text.\n",
    "\n",
    "```\n",
    "text = \"\"\"The Python Software Foundation (PSF) is a 501(c)(3) non-profit \n",
    "corporation that holds the intellectual property rights behind\n",
    "the Python programming language. We manage the open source licensing \n",
    "for Python version 2.1 and later and own and protect the trademarks \n",
    "associated with Python. We also run the North American PyCon conference \n",
    "annually, support other Python conferences around the world, and \n",
    "fund Python related development with our grants program and by funding \n",
    "special projects.\"\"\"\n",
    "```"
   ]
  },
  {
   "cell_type": "code",
   "execution_count": 5,
   "metadata": {
    "ExecuteTime": {
     "end_time": "2020-09-26T02:08:45.648581Z",
     "start_time": "2020-09-26T02:08:45.644290Z"
    }
   },
   "outputs": [
    {
     "name": "stdout",
     "output_type": "stream",
     "text": [
      "[('Python', 6), ('the', 6), ('and', 5), ('We', 2), ('with', 2), ('The', 1), ('Software', 1), ('Foundation', 1), ('PSF', 1), ('is', 1)]\n"
     ]
    }
   ],
   "source": [
    "from collections import Counter\n",
    "import re\n",
    "text = \"\"\"The Python Software Foundation (PSF) is a 501(c)(3) non-profit \n",
    "corporation that holds the intellectual property rights behind\n",
    "the Python programming language. We manage the open source licensing \n",
    "for Python version 2.1 and later and own and protect the trademarks \n",
    "associated with Python. We also run the North American PyCon conference \n",
    "annually, support other Python conferences around the world, and \n",
    "fund Python related development with our grants program and by funding \n",
    "special projects.\"\"\"\n",
    "words = re.findall('\\w+',text)\n",
    "print(Counter(words).most_common(10))\n"
   ]
  },
  {
   "cell_type": "markdown",
   "metadata": {},
   "source": [
    "## Write a Python program that accept some words and count the number of distinct words. Print the number of distinct words and number of occurrences for each distinct word according to their appearance. "
   ]
  },
  {
   "cell_type": "code",
   "execution_count": 17,
   "metadata": {
    "ExecuteTime": {
     "end_time": "2020-09-26T02:16:57.715026Z",
     "start_time": "2020-09-26T02:16:34.344695Z"
    }
   },
   "outputs": [
    {
     "name": "stdout",
     "output_type": "stream",
     "text": [
      "Input number of words: 5\n",
      "Input the words: \n",
      "red\n",
      "green\n",
      "blue\n",
      "black\n",
      "white\n",
      "5\n",
      "1 1 1 1 1 "
     ]
    }
   ],
   "source": [
    "from collections import Counter, OrderedDict\n",
    "\n",
    "\n",
    "class OrderedCounter(Counter, OrderedDict):\n",
    "    pass\n",
    "\n",
    "\n",
    "word_array = []\n",
    "n = int(input(\"Input number of words: \"))\n",
    "print(\"Input the words: \")\n",
    "for i in range(n):\n",
    "    word_array.append(input().strip())\n",
    "word_ctr = OrderedCounter(word_array)\n",
    "print(len(word_ctr))\n",
    "for word in word_ctr:\n",
    "    print(word_ctr[word], end=' ')"
   ]
  },
  {
   "cell_type": "markdown",
   "metadata": {},
   "source": [
    "## Write a Python program that accept name of given subject and marks. Input number of subjects in first line and subject name,marks separated by a space in next line. Print subject name and marks in order of its first occurrence. "
   ]
  },
  {
   "cell_type": "code",
   "execution_count": 6,
   "metadata": {
    "ExecuteTime": {
     "end_time": "2020-09-26T02:12:01.265521Z",
     "start_time": "2020-09-26T02:11:17.002598Z"
    }
   },
   "outputs": [
    {
     "name": "stdout",
     "output_type": "stream",
     "text": [
      "Number of subjects: 3\n",
      "Input Subject name and marks: Bengali 58\n",
      "Input Subject name and marks: English 62\n",
      "Input Subject name and marks: Math 68\n",
      "Bengali 58\n",
      "English 62\n",
      "Math 68\n"
     ]
    }
   ],
   "source": [
    "import collections\n",
    "import re\n",
    "n = int(input(\"Number of subjects: \"))\n",
    "item_order = collections.OrderedDict()\n",
    "for i in range(n):\n",
    "    sub_marks_list = re.split(\n",
    "        r'(\\d+)$', input(\"Input Subject name and marks: \").strip())\n",
    "    subject_name = sub_marks_list[0]\n",
    "    item_price = int(sub_marks_list[1])\n",
    "    if subject_name not in item_order:\n",
    "        item_order[subject_name] = item_price\n",
    "    else:\n",
    "        item_order[subject_name] = item_order[subject_name]+item_price\n",
    "\n",
    "for i in item_order:\n",
    "    print(i+str(item_order[i]))"
   ]
  },
  {
   "cell_type": "markdown",
   "metadata": {},
   "source": [
    "## Write a Python program to create a deque and append few elements to the left and right, then remove some elements from the left, right sides and reverse the deque."
   ]
  },
  {
   "cell_type": "code",
   "execution_count": 7,
   "metadata": {
    "ExecuteTime": {
     "end_time": "2020-09-26T02:12:30.199244Z",
     "start_time": "2020-09-26T02:12:30.193467Z"
    }
   },
   "outputs": [
    {
     "name": "stdout",
     "output_type": "stream",
     "text": [
      "deque(['Red', 'Green', 'White'])\n",
      "\n",
      "Adding to the left: \n",
      "deque(['Pink', 'Red', 'Green', 'White'])\n",
      "\n",
      "Adding to the right: \n",
      "deque(['Pink', 'Red', 'Green', 'White', 'Orange'])\n",
      "\n",
      "Removing from the right: \n",
      "deque(['Pink', 'Red', 'Green', 'White'])\n",
      "\n",
      "Removing from the left: \n",
      "deque(['Red', 'Green', 'White'])\n",
      "\n",
      "Reversing the deque: \n",
      "deque(['White', 'Green', 'Red'])\n"
     ]
    }
   ],
   "source": [
    "import collections\n",
    "# Create a deque\n",
    "deque_colors = collections.deque([\"Red\",\"Green\",\"White\"])\n",
    "print(deque_colors)\n",
    "# Append to the left\n",
    "print(\"\\nAdding to the left: \")\n",
    "deque_colors.appendleft(\"Pink\")\n",
    "print(deque_colors)\n",
    "# Append to the right\n",
    "print(\"\\nAdding to the right: \")\n",
    "deque_colors.append(\"Orange\")\n",
    "print(deque_colors)\n",
    "# Remove from the right\n",
    "print(\"\\nRemoving from the right: \")\n",
    "deque_colors.pop()\n",
    "print(deque_colors)\n",
    "# Remove from the left\n",
    "print(\"\\nRemoving from the left: \")\n",
    "deque_colors.popleft()\n",
    "print(deque_colors)\n",
    "# Reverse the dequeue\n",
    "print(\"\\nReversing the deque: \")\n",
    "deque_colors.reverse()\n",
    "print(deque_colors)\n"
   ]
  },
  {
   "cell_type": "markdown",
   "metadata": {},
   "source": [
    "## Write a Python program to create a deque from an existing iterable object."
   ]
  },
  {
   "cell_type": "code",
   "execution_count": 8,
   "metadata": {
    "ExecuteTime": {
     "end_time": "2020-09-26T02:12:47.071962Z",
     "start_time": "2020-09-26T02:12:47.066600Z"
    }
   },
   "outputs": [
    {
     "name": "stdout",
     "output_type": "stream",
     "text": [
      "Original tuple:\n",
      "(2, 4, 6)\n",
      "<class 'tuple'>\n",
      "\n",
      "Original deque:\n",
      "deque([2, 4, 6])\n",
      "New deque from an existing iterable object:\n",
      "deque([2, 2, 4, 6, 8, 10, 12])\n",
      "<class 'collections.deque'>\n"
     ]
    }
   ],
   "source": [
    "import collections\n",
    "even_nums = (2, 4, 6)\n",
    "print(\"Original tuple:\")\n",
    "print(even_nums)\n",
    "print(type(even_nums))\n",
    "even_nums_deque = collections.deque(even_nums)\n",
    "print(\"\\nOriginal deque:\")\n",
    "print(even_nums_deque)\n",
    "even_nums_deque.append(8)\n",
    "even_nums_deque.append(10)\n",
    "even_nums_deque.append(12)\n",
    "even_nums_deque.appendleft(2)\n",
    "print(\"New deque from an existing iterable object:\")\n",
    "print(even_nums_deque)\n",
    "print(type(even_nums_deque))"
   ]
  },
  {
   "cell_type": "markdown",
   "metadata": {},
   "source": [
    "## Write a Python program to add more number of elements to a deque object from an iterable object. "
   ]
  },
  {
   "cell_type": "code",
   "execution_count": 9,
   "metadata": {
    "ExecuteTime": {
     "end_time": "2020-09-26T02:13:11.972505Z",
     "start_time": "2020-09-26T02:13:11.966851Z"
    }
   },
   "outputs": [
    {
     "name": "stdout",
     "output_type": "stream",
     "text": [
      "Even numbers:\n",
      "deque([2, 4, 6, 8, 10])\n",
      "More even numbers:\n",
      "deque([2, 4, 6, 8, 10, 12, 14, 16, 18, 20])\n"
     ]
    }
   ],
   "source": [
    "import collections\n",
    "even_nums = (2, 4, 6, 8, 10)\n",
    "even_deque = collections.deque(even_nums)\n",
    "print(\"Even numbers:\")\n",
    "print(even_deque)\n",
    "more_even_nums = (12, 14, 16, 18, 20)\n",
    "even_deque.extend(more_even_nums)\n",
    "print(\"More even numbers:\")\n",
    "print(even_deque)"
   ]
  },
  {
   "cell_type": "markdown",
   "metadata": {},
   "source": [
    "## Write a Python program to remove all the elements of a given deque object."
   ]
  },
  {
   "cell_type": "code",
   "execution_count": 10,
   "metadata": {
    "ExecuteTime": {
     "end_time": "2020-09-26T02:13:25.909595Z",
     "start_time": "2020-09-26T02:13:25.905117Z"
    }
   },
   "outputs": [
    {
     "name": "stdout",
     "output_type": "stream",
     "text": [
      "Original Deque object with odd numbers:\n",
      "deque([1, 3, 5, 7, 9])\n",
      "Deque length: 5\n",
      "Deque object after removing all numbers-\n",
      "deque([])\n",
      "Deque length:0\n"
     ]
    }
   ],
   "source": [
    "import collections\n",
    "odd_nums = (1,3,5,7,9)\n",
    "odd_deque  = collections.deque(odd_nums)\n",
    "print(\"Original Deque object with odd numbers:\")\n",
    "print(odd_deque)\n",
    "print(\"Deque length: %d\"%(len(odd_deque)))\n",
    "odd_deque.clear()\n",
    "print(\"Deque object after removing all numbers-\")\n",
    "print(odd_deque)\n",
    "print(\"Deque length:%d\"%(len(odd_deque)))"
   ]
  },
  {
   "cell_type": "markdown",
   "metadata": {},
   "source": [
    "## Write a Python program to copy of a deque object and verify the shallow copying process. "
   ]
  },
  {
   "cell_type": "code",
   "execution_count": 11,
   "metadata": {
    "ExecuteTime": {
     "end_time": "2020-09-26T02:13:46.640505Z",
     "start_time": "2020-09-26T02:13:46.634242Z"
    }
   },
   "outputs": [
    {
     "name": "stdout",
     "output_type": "stream",
     "text": [
      "Content of dq1:\n",
      "deque([1, 3, 5, 7, 9])\n",
      "dq2 id:\n",
      "140609729127488\n",
      "\n",
      "Content of dq2:\n",
      "deque([1, 3, 5, 7, 9])\n",
      "dq2 id:\n",
      "140609729127600\n",
      "\n",
      "Checking the first element of dq1 and dq2 are shallow copies:\n",
      "4544140432\n",
      "4544140432\n"
     ]
    }
   ],
   "source": [
    "import collections\n",
    "tup1 = (1,3,5,7,9)\n",
    "dq1 = collections.deque(tup1)\n",
    "dq2 = dq1.copy()\n",
    "print(\"Content of dq1:\")\n",
    "print(dq1)\n",
    "print(\"dq2 id:\")\n",
    "print(id(dq1))\n",
    "print(\"\\nContent of dq2:\")\n",
    "print(dq2)\n",
    "print(\"dq2 id:\")\n",
    "print(id(dq2))\n",
    "print(\"\\nChecking the first element of dq1 and dq2 are shallow copies:\")\n",
    "print(id(dq1[0]))\n",
    "print(id(dq2[0]))"
   ]
  },
  {
   "cell_type": "markdown",
   "metadata": {},
   "source": [
    "## Write a Python program to count the number of times a specific element presents in a deque object. "
   ]
  },
  {
   "cell_type": "code",
   "execution_count": 12,
   "metadata": {
    "ExecuteTime": {
     "end_time": "2020-09-26T02:14:08.729541Z",
     "start_time": "2020-09-26T02:14:08.725286Z"
    }
   },
   "outputs": [
    {
     "name": "stdout",
     "output_type": "stream",
     "text": [
      "Number of 2 in the sequence\n",
      "5\n",
      "Number of 4 in the sequence\n",
      "4\n"
     ]
    }
   ],
   "source": [
    "import collections\n",
    "nums = (2,9,0,8,2,4,0,9,2,4,8,2,0,4,2,3,4,0)\n",
    "nums_dq = collections.deque(nums)\n",
    "print(\"Number of 2 in the sequence\")\n",
    "print(nums_dq.count(2))\n",
    "print(\"Number of 4 in the sequence\")\n",
    "print(nums_dq.count(4))"
   ]
  },
  {
   "cell_type": "markdown",
   "metadata": {},
   "source": [
    "## Write a Python program to rotate a Deque Object specified number (positive) of times. "
   ]
  },
  {
   "cell_type": "code",
   "execution_count": 13,
   "metadata": {
    "ExecuteTime": {
     "end_time": "2020-09-26T02:14:30.783362Z",
     "start_time": "2020-09-26T02:14:30.776791Z"
    }
   },
   "outputs": [
    {
     "name": "stdout",
     "output_type": "stream",
     "text": [
      "Deque before rotation:\n",
      "deque([2, 4, 6, 8, 10])\n",
      "\n",
      "Deque after 1 positive rotation:\n",
      "deque([10, 2, 4, 6, 8])\n",
      "\n",
      "Deque after 2 positive rotations:\n",
      "deque([6, 8, 10, 2, 4])\n"
     ]
    }
   ],
   "source": [
    "import collections\n",
    "# declare an empty deque object\n",
    "dq_object = collections.deque()\n",
    "# Add elements to the deque - left to right\n",
    "dq_object.append(2)\n",
    "dq_object.append(4)\n",
    "dq_object.append(6)\n",
    "dq_object.append(8)\n",
    "dq_object.append(10)\n",
    "print(\"Deque before rotation:\")\n",
    "print(dq_object)\n",
    "# Rotate once in positive direction\n",
    "dq_object.rotate()\n",
    "print(\"\\nDeque after 1 positive rotation:\")\n",
    "print(dq_object)\n",
    "# Rotate twice in positive direction\n",
    "dq_object.rotate(2)\n",
    "print(\"\\nDeque after 2 positive rotations:\")\n",
    "print(dq_object)"
   ]
  },
  {
   "cell_type": "markdown",
   "metadata": {},
   "source": [
    "## Write a Python program to rotate a Deque Object specified number (negative) of times. "
   ]
  },
  {
   "cell_type": "code",
   "execution_count": 14,
   "metadata": {
    "ExecuteTime": {
     "end_time": "2020-09-26T02:14:48.237877Z",
     "start_time": "2020-09-26T02:14:48.232641Z"
    }
   },
   "outputs": [
    {
     "name": "stdout",
     "output_type": "stream",
     "text": [
      "Deque before rotation:\n",
      "deque([2, 4, 6, 8, 10])\n",
      "\n",
      "Deque after 1 positive rotation:\n",
      "deque([10, 2, 4, 6, 8])\n",
      "\n",
      "Deque after 2 positive rotations:\n",
      "deque([6, 8, 10, 2, 4])\n"
     ]
    }
   ],
   "source": [
    "import collections\n",
    "# declare an empty deque object\n",
    "dq_object = collections.deque()\n",
    "# Add elements to the deque - left to right\n",
    "dq_object.append(2)\n",
    "dq_object.append(4)\n",
    "dq_object.append(6)\n",
    "dq_object.append(8)\n",
    "dq_object.append(10)\n",
    "print(\"Deque before rotation:\")\n",
    "print(dq_object)\n",
    "# Rotate once in positive direction\n",
    "dq_object.rotate()\n",
    "print(\"\\nDeque after 1 positive rotation:\")\n",
    "print(dq_object)\n",
    "# Rotate twice in positive direction\n",
    "dq_object.rotate(2)\n",
    "print(\"\\nDeque after 2 positive rotations:\")\n",
    "print(dq_object)"
   ]
  },
  {
   "cell_type": "markdown",
   "metadata": {},
   "source": [
    "## Write a Python program to find the most common element of a given list."
   ]
  },
  {
   "cell_type": "code",
   "execution_count": 15,
   "metadata": {
    "ExecuteTime": {
     "end_time": "2020-09-26T02:15:06.819509Z",
     "start_time": "2020-09-26T02:15:06.812423Z"
    }
   },
   "outputs": [
    {
     "name": "stdout",
     "output_type": "stream",
     "text": [
      "Original list:\n",
      "['PHP', 'PHP', 'Python', 'PHP', 'Python', 'JS', 'Python', 'Python', 'PHP', 'Python']\n",
      "\n",
      "Most common element of the said list:\n",
      "Python\n"
     ]
    }
   ],
   "source": [
    "from collections import Counter\n",
    "language = ['PHP', 'PHP', 'Python', 'PHP', 'Python', 'JS', 'Python', 'Python','PHP', 'Python']\n",
    "print(\"Original list:\")\n",
    "print(language)\n",
    "cnt = Counter(language)\n",
    "print(\"\\nMost common element of the said list:\")\n",
    "print(cnt.most_common(1)[0][0])"
   ]
  },
  {
   "cell_type": "markdown",
   "metadata": {},
   "source": [
    "## Write a Python program to perform Counter arithmetic and set operations for aggregating results. "
   ]
  },
  {
   "cell_type": "code",
   "execution_count": 16,
   "metadata": {
    "ExecuteTime": {
     "end_time": "2020-09-26T02:15:25.896832Z",
     "start_time": "2020-09-26T02:15:25.890906Z"
    }
   },
   "outputs": [
    {
     "name": "stdout",
     "output_type": "stream",
     "text": [
      "C1: Counter({1: 1, 2: 1, 3: 1, 4: 1, 5: 1})\n",
      "C2: Counter({4: 1, 5: 1, 6: 1, 7: 1, 8: 1})\n",
      "\n",
      "Combined counts:\n",
      "Counter({4: 2, 5: 2, 1: 1, 2: 1, 3: 1, 6: 1, 7: 1, 8: 1})\n",
      "\n",
      "Subtraction:\n",
      "Counter({1: 1, 2: 1, 3: 1})\n",
      "\n",
      "Intersection (taking positive minimums):\n",
      "Counter({4: 1, 5: 1})\n",
      "\n",
      "Union (taking maximums):\n",
      "Counter({1: 1, 2: 1, 3: 1, 4: 1, 5: 1, 6: 1, 7: 1, 8: 1})\n"
     ]
    }
   ],
   "source": [
    "import collections\n",
    "c1 = collections.Counter([1, 2, 3, 4, 5])\n",
    "c2 = collections.Counter([4, 5, 6, 7, 8])\n",
    "print('C1:', c1)\n",
    "print('C2:', c2)\n",
    "print('\\nCombined counts:')\n",
    "print(c1 + c2)\n",
    "print('\\nSubtraction:')\n",
    "print(c1 - c2)\n",
    "print('\\nIntersection (taking positive minimums):')\n",
    "print(c1 & c2)\n",
    "print('\\nUnion (taking maximums):')\n",
    "print(c1 | c2)"
   ]
  },
  {
   "cell_type": "code",
   "execution_count": null,
   "metadata": {},
   "outputs": [],
   "source": []
  }
 ],
 "metadata": {
  "kernelspec": {
   "display_name": "Python 3",
   "language": "python",
   "name": "python3"
  },
  "language_info": {
   "codemirror_mode": {
    "name": "ipython",
    "version": 3
   },
   "file_extension": ".py",
   "mimetype": "text/x-python",
   "name": "python",
   "nbconvert_exporter": "python",
   "pygments_lexer": "ipython3",
   "version": "3.7.4"
  },
  "toc": {
   "base_numbering": 1,
   "nav_menu": {},
   "number_sections": true,
   "sideBar": true,
   "skip_h1_title": false,
   "title_cell": "Table of Contents",
   "title_sidebar": "Contents",
   "toc_cell": false,
   "toc_position": {},
   "toc_section_display": true,
   "toc_window_display": false
  },
  "varInspector": {
   "cols": {
    "lenName": 16,
    "lenType": 16,
    "lenVar": 40
   },
   "kernels_config": {
    "python": {
     "delete_cmd_postfix": "",
     "delete_cmd_prefix": "del ",
     "library": "var_list.py",
     "varRefreshCmd": "print(var_dic_list())"
    },
    "r": {
     "delete_cmd_postfix": ") ",
     "delete_cmd_prefix": "rm(",
     "library": "var_list.r",
     "varRefreshCmd": "cat(var_dic_list()) "
    }
   },
   "types_to_exclude": [
    "module",
    "function",
    "builtin_function_or_method",
    "instance",
    "_Feature"
   ],
   "window_display": false
  }
 },
 "nbformat": 4,
 "nbformat_minor": 2
}
