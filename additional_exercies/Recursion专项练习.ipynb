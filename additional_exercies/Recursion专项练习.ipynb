{
 "cells": [
  {
   "cell_type": "markdown",
   "metadata": {},
   "source": [
    "### Write a Python program to calculate the sum of a list of numbers. Go to the editor"
   ]
  },
  {
   "cell_type": "code",
   "execution_count": 4,
   "metadata": {
    "ExecuteTime": {
     "end_time": "2020-10-05T01:04:12.037719Z",
     "start_time": "2020-10-05T01:04:12.033214Z"
    }
   },
   "outputs": [
    {
     "name": "stdout",
     "output_type": "stream",
     "text": [
      "24\n"
     ]
    }
   ],
   "source": [
    "def list_sum(num_List):\n",
    "    if len(num_List) == 1:\n",
    "        return num_List[0]\n",
    "    else:\n",
    "        return num_List[0] + list_sum(num_List[1:])\n",
    "        \n",
    "print(list_sum([2, 4, 5, 6, 7]))\n"
   ]
  },
  {
   "cell_type": "markdown",
   "metadata": {},
   "source": [
    "### Write a Python program to converting an Integer to a string in any base. Go to the editor"
   ]
  },
  {
   "cell_type": "code",
   "execution_count": 5,
   "metadata": {
    "ExecuteTime": {
     "end_time": "2020-10-05T01:04:31.642305Z",
     "start_time": "2020-10-05T01:04:31.637434Z"
    }
   },
   "outputs": [
    {
     "name": "stdout",
     "output_type": "stream",
     "text": [
      "B13\n"
     ]
    }
   ],
   "source": [
    "def to_string(n, base):\n",
    "    conver_tString = \"0123456789ABCDEF\"\n",
    "    if n < base:\n",
    "        return conver_tString[n]\n",
    "    else:\n",
    "        return to_string(n//base, base) + conver_tString[n % base]\n",
    "\n",
    "\n",
    "print(to_string(2835, 16))"
   ]
  },
  {
   "cell_type": "markdown",
   "metadata": {},
   "source": [
    "### Write a Python program of recursion list sum. Go to the editor\n",
    "```Python\n",
    "Test Data: [1, 2, [3,4], [5,6]]\n",
    "Expected Result: 21\n",
    "    ```"
   ]
  },
  {
   "cell_type": "code",
   "execution_count": 6,
   "metadata": {
    "ExecuteTime": {
     "end_time": "2020-10-05T01:04:51.533067Z",
     "start_time": "2020-10-05T01:04:51.528248Z"
    }
   },
   "outputs": [
    {
     "name": "stdout",
     "output_type": "stream",
     "text": [
      "21\n"
     ]
    }
   ],
   "source": [
    "def recursive_list_sum(data_list):\n",
    "    total = 0\n",
    "    for element in data_list:\n",
    "        if type(element) == type([]):\n",
    "            total = total + recursive_list_sum(element)\n",
    "        else:\n",
    "            total = total + element\n",
    "\n",
    "    return total\n",
    "\n",
    "\n",
    "print(recursive_list_sum([1, 2, [3, 4], [5, 6]]))"
   ]
  },
  {
   "cell_type": "markdown",
   "metadata": {},
   "source": [
    "###  Write a Python program to get the factorial of a non-negative integer. Go to the editor"
   ]
  },
  {
   "cell_type": "code",
   "execution_count": 7,
   "metadata": {
    "ExecuteTime": {
     "end_time": "2020-10-05T01:05:06.931874Z",
     "start_time": "2020-10-05T01:05:06.928023Z"
    }
   },
   "outputs": [
    {
     "name": "stdout",
     "output_type": "stream",
     "text": [
      "120\n"
     ]
    }
   ],
   "source": [
    "def factorial(n):\n",
    "    if n <= 1:\n",
    "        return 1\n",
    "    else:\n",
    "        return n * (factorial(n - 1))\n",
    "\n",
    "\n",
    "print(factorial(5))"
   ]
  },
  {
   "cell_type": "markdown",
   "metadata": {},
   "source": [
    "### Write a Python program to solve the Fibonacci sequence using recursion. Go to the editor"
   ]
  },
  {
   "cell_type": "code",
   "execution_count": 8,
   "metadata": {
    "ExecuteTime": {
     "end_time": "2020-10-05T01:05:29.907560Z",
     "start_time": "2020-10-05T01:05:29.891334Z"
    }
   },
   "outputs": [
    {
     "name": "stdout",
     "output_type": "stream",
     "text": [
      "13\n"
     ]
    }
   ],
   "source": [
    "def fibonacci(n):\n",
    "    if n == 1 or n == 2:\n",
    "        return 1\n",
    "    else:\n",
    "        return (fibonacci(n - 1) + (fibonacci(n - 2)))\n",
    "\n",
    "\n",
    "print(fibonacci(7))"
   ]
  },
  {
   "cell_type": "markdown",
   "metadata": {},
   "source": [
    "### Write a Python program to get the sum of a non-negative integer. Go to the editor\n",
    "```Python\n",
    "Test Data:\n",
    "sumDigits(345) -> 12\n",
    "sumDigits(45) -> 9\n",
    "```"
   ]
  },
  {
   "cell_type": "code",
   "execution_count": 9,
   "metadata": {
    "ExecuteTime": {
     "end_time": "2020-10-05T01:05:46.360916Z",
     "start_time": "2020-10-05T01:05:46.356528Z"
    }
   },
   "outputs": [
    {
     "name": "stdout",
     "output_type": "stream",
     "text": [
      "12\n",
      "9\n"
     ]
    }
   ],
   "source": [
    "def sumDigits(n):\n",
    "    if n == 0:\n",
    "        return 0\n",
    "    else:\n",
    "        return n % 10 + sumDigits(int(n / 10))\n",
    "\n",
    "\n",
    "print(sumDigits(345))\n",
    "print(sumDigits(45))"
   ]
  },
  {
   "cell_type": "markdown",
   "metadata": {},
   "source": [
    "### Write a Python program to calculate the sum of the positive integers of n+(n-2)+(n-4)... (until n-x =< 0). Go to the editor\n",
    "```Python\n",
    "Test Data:\n",
    "sum_series(6) -> 12\n",
    "sum_series(10) -> 30\n",
    "```"
   ]
  },
  {
   "cell_type": "code",
   "execution_count": 10,
   "metadata": {
    "ExecuteTime": {
     "end_time": "2020-10-05T01:06:02.967655Z",
     "start_time": "2020-10-05T01:06:02.962719Z"
    }
   },
   "outputs": [
    {
     "name": "stdout",
     "output_type": "stream",
     "text": [
      "12\n",
      "30\n"
     ]
    }
   ],
   "source": [
    "def sum_series(n):\n",
    "    if n < 1:\n",
    "        return 0\n",
    "    else:\n",
    "        return n + sum_series(n - 2)\n",
    "\n",
    "\n",
    "print(sum_series(6))\n",
    "print(sum_series(10))"
   ]
  },
  {
   "cell_type": "markdown",
   "metadata": {},
   "source": [
    "### Write a Python program to calculate the harmonic sum of n-1. Go to the editor\n",
    "\n",
    "Note: The harmonic sum is the sum of reciprocals of the positive integers.\n",
    "\n",
    "Example :\n",
    "\n",
    "$ 1 + \\frac{ 1 }{ 2 } + \\frac{ 1 }{ 3 } + \\frac{ 1 }{ 4 } + \\frac{ 1 }{ 5 } + ... $\n",
    "\n",
    "harmonic series\n"
   ]
  },
  {
   "cell_type": "code",
   "execution_count": 11,
   "metadata": {
    "ExecuteTime": {
     "end_time": "2020-10-05T01:06:22.009743Z",
     "start_time": "2020-10-05T01:06:22.004898Z"
    }
   },
   "outputs": [
    {
     "name": "stdout",
     "output_type": "stream",
     "text": [
      "2.5928571428571425\n",
      "2.083333333333333\n"
     ]
    }
   ],
   "source": [
    "def harmonic_sum(n):\n",
    "    if n < 2:\n",
    "        return 1\n",
    "    else:\n",
    "        return 1 / n + (harmonic_sum(n - 1))\n",
    "\n",
    "\n",
    "print(harmonic_sum(7))\n",
    "print(harmonic_sum(4))"
   ]
  },
  {
   "cell_type": "markdown",
   "metadata": {},
   "source": [
    "### Write a Python program to calculate the geometric sum of n-1. Go to the editor\n",
    "\n",
    "Note: In mathematics, a geometric series is a series with a constant ratio between successive terms.\n",
    "\n",
    "Example :\n",
    "\n",
    "$ \\sum_{i=1}^\\infty \\frac{1}{n} = 1 + \\frac{ 1 }{ 2 } + \\frac{ 1 }{ 3 } + \\frac{ 1 }{ 4 } + \\frac{ 1 }{ 5 } + ... $\n",
    "\n",
    "harmonic series\n"
   ]
  },
  {
   "cell_type": "code",
   "execution_count": 12,
   "metadata": {
    "ExecuteTime": {
     "end_time": "2020-10-05T01:06:48.189506Z",
     "start_time": "2020-10-05T01:06:48.184184Z"
    }
   },
   "outputs": [
    {
     "name": "stdout",
     "output_type": "stream",
     "text": [
      "1.9921875\n",
      "1.9375\n"
     ]
    }
   ],
   "source": [
    "def geometric_sum(n):\n",
    "    if n < 0:\n",
    "        return 0\n",
    "    else:\n",
    "        return 1 / (pow(2, n)) + geometric_sum(n - 1)\n",
    "\n",
    "\n",
    "print(geometric_sum(7))\n",
    "print(geometric_sum(4))"
   ]
  },
  {
   "cell_type": "markdown",
   "metadata": {},
   "source": [
    "### Write a Python program to calculate the value of 'a' to the power 'b'. Go to the editor\n",
    "```\n",
    "Test Data :\n",
    "(power(3,4) -> 81\n",
    "```"
   ]
  },
  {
   "cell_type": "code",
   "execution_count": 13,
   "metadata": {
    "ExecuteTime": {
     "end_time": "2020-10-05T01:07:05.941516Z",
     "start_time": "2020-10-05T01:07:05.937342Z"
    }
   },
   "outputs": [
    {
     "name": "stdout",
     "output_type": "stream",
     "text": [
      "81\n"
     ]
    }
   ],
   "source": [
    "def power(a, b):\n",
    "    if b == 0:\n",
    "        return 1\n",
    "    elif a == 0:\n",
    "        return 0\n",
    "    elif b == 1:\n",
    "        return a\n",
    "    else:\n",
    "        return a*power(a, b-1)\n",
    "\n",
    "\n",
    "print(power(3, 4))"
   ]
  },
  {
   "cell_type": "markdown",
   "metadata": {},
   "source": [
    "### Write a Python program to find  the greatest common divisor (gcd) of two integers. Go to the editor"
   ]
  },
  {
   "cell_type": "code",
   "execution_count": 14,
   "metadata": {
    "ExecuteTime": {
     "end_time": "2020-10-05T01:07:19.928486Z",
     "start_time": "2020-10-05T01:07:19.924146Z"
    }
   },
   "outputs": [
    {
     "name": "stdout",
     "output_type": "stream",
     "text": [
      "2\n"
     ]
    }
   ],
   "source": [
    "def Recurgcd(a, b):\n",
    "    low = min(a, b)\n",
    "    high = max(a, b)\n",
    "\n",
    "    if low == 0:\n",
    "        return high\n",
    "    elif low == 1:\n",
    "        return 1\n",
    "    else:\n",
    "        return Recurgcd(low, high % low)\n",
    "\n",
    "\n",
    "print(Recurgcd(12, 14))"
   ]
  },
  {
   "cell_type": "code",
   "execution_count": null,
   "metadata": {},
   "outputs": [],
   "source": []
  }
 ],
 "metadata": {
  "kernelspec": {
   "display_name": "Python 3",
   "language": "python",
   "name": "python3"
  },
  "language_info": {
   "codemirror_mode": {
    "name": "ipython",
    "version": 3
   },
   "file_extension": ".py",
   "mimetype": "text/x-python",
   "name": "python",
   "nbconvert_exporter": "python",
   "pygments_lexer": "ipython3",
   "version": "3.7.4"
  },
  "toc": {
   "base_numbering": 1,
   "nav_menu": {},
   "number_sections": true,
   "sideBar": true,
   "skip_h1_title": false,
   "title_cell": "Table of Contents",
   "title_sidebar": "Contents",
   "toc_cell": false,
   "toc_position": {},
   "toc_section_display": true,
   "toc_window_display": false
  },
  "varInspector": {
   "cols": {
    "lenName": 16,
    "lenType": 16,
    "lenVar": 40
   },
   "kernels_config": {
    "python": {
     "delete_cmd_postfix": "",
     "delete_cmd_prefix": "del ",
     "library": "var_list.py",
     "varRefreshCmd": "print(var_dic_list())"
    },
    "r": {
     "delete_cmd_postfix": ") ",
     "delete_cmd_prefix": "rm(",
     "library": "var_list.r",
     "varRefreshCmd": "cat(var_dic_list()) "
    }
   },
   "types_to_exclude": [
    "module",
    "function",
    "builtin_function_or_method",
    "instance",
    "_Feature"
   ],
   "window_display": false
  }
 },
 "nbformat": 4,
 "nbformat_minor": 2
}
