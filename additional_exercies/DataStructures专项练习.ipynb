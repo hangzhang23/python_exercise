{
 "cells": [
  {
   "cell_type": "markdown",
   "metadata": {},
   "source": [
    "### Write a Python program to create an Enum object and display a member name and value. Go to the editor\n",
    "```Python\n",
    "Sample data :\n",
    "Afghanistan = 93\n",
    "Albania = 355\n",
    "Algeria = 213\n",
    "Andorra = 376\n",
    "Angola = 244\n",
    "Antarctica = 672\n",
    "Expected Output :\n",
    "Member name: Albania\n",
    "Member value: 355\n",
    "```"
   ]
  },
  {
   "cell_type": "code",
   "execution_count": 1,
   "metadata": {
    "ExecuteTime": {
     "end_time": "2020-10-05T00:23:52.444682Z",
     "start_time": "2020-10-05T00:23:52.440357Z"
    }
   },
   "outputs": [
    {
     "name": "stdout",
     "output_type": "stream",
     "text": [
      "\n",
      "Member name: Albania\n",
      "Member value: 355\n"
     ]
    }
   ],
   "source": [
    "from enum import Enum\n",
    "class Country(Enum):\n",
    "    Afghanistan = 93\n",
    "    Albania = 355\n",
    "    Algeria = 213\n",
    "    Andorra = 376\n",
    "    Angola = 244\n",
    "    Antarctica = 672\n",
    "print('\\nMember name: {}'.format(Country.Albania.name))\n",
    "print('Member value: {}'.format(Country.Albania.value))\n"
   ]
  },
  {
   "cell_type": "markdown",
   "metadata": {},
   "source": [
    "### Write a Python program to iterate over an enum class and display individual member and their value. Go to the editor\n",
    "```\n",
    "Expected Output:\n",
    "Afghanistan = 93\n",
    "Albania = 355\n",
    "Algeria = 213\n",
    "Andorra = 376\n",
    "Angola = 244\n",
    "Antarctica = 672\n",
    "```"
   ]
  },
  {
   "cell_type": "code",
   "execution_count": 2,
   "metadata": {
    "ExecuteTime": {
     "end_time": "2020-10-05T00:33:48.724311Z",
     "start_time": "2020-10-05T00:33:48.719867Z"
    }
   },
   "outputs": [
    {
     "name": "stdout",
     "output_type": "stream",
     "text": [
      "Afghanistan     = 93\n",
      "Albania         = 355\n",
      "Algeria         = 213\n",
      "Andorra         = 376\n",
      "Angola          = 244\n",
      "Antarctica      = 672\n"
     ]
    }
   ],
   "source": [
    "from enum import Enum\n",
    "\n",
    "\n",
    "class Country(Enum):\n",
    "    Afghanistan = 93\n",
    "    Albania = 355\n",
    "    Algeria = 213\n",
    "    Andorra = 376\n",
    "    Angola = 244\n",
    "    Antarctica = 672\n",
    "\n",
    "\n",
    "for data in Country:\n",
    "    print('{:15} = {}'.format(data.name, data.value))"
   ]
  },
  {
   "cell_type": "markdown",
   "metadata": {},
   "source": [
    "### Write a Python program to display all the member name of an enum class ordered by their values. Go to the editor\n",
    "```\n",
    "Expected Output:\n",
    "Country Name ordered by Country Code:\n",
    "Afghanistan\n",
    "Algeria\n",
    "Angola\n",
    "Albania\n",
    "Andorra\n",
    "Antarctica\n",
    "```"
   ]
  },
  {
   "cell_type": "code",
   "execution_count": 3,
   "metadata": {
    "ExecuteTime": {
     "end_time": "2020-10-05T00:34:16.356313Z",
     "start_time": "2020-10-05T00:34:16.351494Z"
    }
   },
   "outputs": [
    {
     "name": "stdout",
     "output_type": "stream",
     "text": [
      "Country Name ordered by Country Code:\n",
      "  Afghanistan\n",
      "  Algeria\n",
      "  Angola\n",
      "  Albania\n",
      "  Andorra\n",
      "  Antarctica\n"
     ]
    }
   ],
   "source": [
    "import enum\n",
    "class Country(enum.IntEnum):\n",
    "    Afghanistan = 93\n",
    "    Albania = 355\n",
    "    Algeria = 213\n",
    "    Andorra = 376\n",
    "    Angola = 244\n",
    "    Antarctica = 672\n",
    "print('Country Name ordered by Country Code:')\n",
    "print('\\n'.join('  ' + c.name for c in sorted(Country)))\n"
   ]
  },
  {
   "cell_type": "markdown",
   "metadata": {},
   "source": [
    "### Write a Python program to get all values from an enum class. Go to the editor\n",
    "```\n",
    "Expected output:\n",
    "[93, 355, 213, 376, 244, 672]\n",
    "```"
   ]
  },
  {
   "cell_type": "code",
   "execution_count": 4,
   "metadata": {
    "ExecuteTime": {
     "end_time": "2020-10-05T00:34:37.482264Z",
     "start_time": "2020-10-05T00:34:37.478360Z"
    }
   },
   "outputs": [
    {
     "name": "stdout",
     "output_type": "stream",
     "text": [
      "[93, 355, 213, 376, 244, 672]\n"
     ]
    }
   ],
   "source": [
    "from enum import IntEnum\n",
    "class Country(IntEnum):\n",
    "    Afghanistan = 93\n",
    "    Albania = 355\n",
    "    Algeria = 213\n",
    "    Andorra = 376\n",
    "    Angola = 244\n",
    "    Antarctica = 672\n",
    "country_code_list = list(map(int, Country))\n",
    "print(country_code_list)\n"
   ]
  },
  {
   "cell_type": "markdown",
   "metadata": {},
   "source": [
    "### Write a Python program to count the most common words in a dictionary. Go to the editor\n",
    "```\n",
    "Expected Output:\n",
    "[('pink', 6), ('black', 5), ('white', 5), ('red', 4)]\n",
    "```"
   ]
  },
  {
   "cell_type": "code",
   "execution_count": 5,
   "metadata": {
    "ExecuteTime": {
     "end_time": "2020-10-05T00:34:52.419908Z",
     "start_time": "2020-10-05T00:34:52.415160Z"
    }
   },
   "outputs": [
    {
     "name": "stdout",
     "output_type": "stream",
     "text": [
      "[('pink', 6), ('black', 5), ('white', 5), ('red', 4)]\n"
     ]
    }
   ],
   "source": [
    "words = [\n",
    "   'red', 'green', 'black', 'pink', 'black', 'white', 'black', 'eyes',\n",
    "   'white', 'black', 'orange', 'pink', 'pink', 'red', 'red', 'white', 'orange',\n",
    "   'white', \"black\", 'pink', 'green', 'green', 'pink', 'green', 'pink',\n",
    "   'white', 'orange', \"orange\", 'red'\n",
    "]\n",
    "from collections import Counter\n",
    "word_counts = Counter(words)\n",
    "top_four = word_counts.most_common(4)\n",
    "print(top_four)\n"
   ]
  },
  {
   "cell_type": "markdown",
   "metadata": {},
   "source": [
    "### Write a Python program to find the class wise roll number from a tuple-of-tuples. Go to the editor\n",
    "```\n",
    "Expected Output:\n",
    "defaultdict(, {'VII': [1], 'V': [1, 2], 'VI': [1, 2, 3]})\n",
    "```"
   ]
  },
  {
   "cell_type": "code",
   "execution_count": 6,
   "metadata": {
    "ExecuteTime": {
     "end_time": "2020-10-05T00:35:07.045880Z",
     "start_time": "2020-10-05T00:35:07.041611Z"
    }
   },
   "outputs": [
    {
     "name": "stdout",
     "output_type": "stream",
     "text": [
      "defaultdict(<class 'list'>, {'V': [1, 2], 'VI': [1, 2, 3], 'VII': [1]})\n"
     ]
    }
   ],
   "source": [
    "from collections import defaultdict\n",
    "classes = (\n",
    "    ('V', 1),\n",
    "    ('VI', 1),\n",
    "    ('V', 2),\n",
    "    ('VI', 2),\n",
    "    ('VI', 3),\n",
    "    ('VII', 1),\n",
    ")\n",
    "\n",
    "class_rollno = defaultdict(list)\n",
    "\n",
    "for class_name, roll_id in classes:\n",
    "    class_rollno[class_name].append(roll_id)\n",
    "\n",
    "print(class_rollno)\n"
   ]
  },
  {
   "cell_type": "markdown",
   "metadata": {},
   "source": [
    "### Write a Python program to count the number of students of individual class. Go to the editor\n",
    "```\n",
    "Sample data:\n",
    "classes = (\n",
    "('V', 1),\n",
    "('VI', 1),\n",
    "('V', 2),\n",
    "('VI', 2),\n",
    "('VI', 3),\n",
    "('VII', 1),\n",
    ")\n",
    "Expected Output:\n",
    "Counter({'VI': 3, 'V': 2, 'VII': 1})\n",
    "```"
   ]
  },
  {
   "cell_type": "code",
   "execution_count": 7,
   "metadata": {
    "ExecuteTime": {
     "end_time": "2020-10-05T00:35:55.813708Z",
     "start_time": "2020-10-05T00:35:55.809569Z"
    }
   },
   "outputs": [
    {
     "name": "stdout",
     "output_type": "stream",
     "text": [
      "Counter({'VI': 3, 'V': 2, 'VII': 1})\n"
     ]
    }
   ],
   "source": [
    "from collections import Counter\n",
    "classes = (\n",
    "    ('V', 1),\n",
    "    ('VI', 1),\n",
    "    ('V', 2),\n",
    "    ('VI', 2),\n",
    "    ('VI', 3),\n",
    "    ('VII', 1),\n",
    ")\n",
    "students = Counter(class_name for class_name, no_students in classes)\n",
    "print(students)\n"
   ]
  },
  {
   "cell_type": "markdown",
   "metadata": {},
   "source": [
    "### Write a Python program to get the unique enumeration values. Go to the editor\n",
    "```\n",
    "Expected Output:\n",
    "Afghanistan = 93\n",
    "Albania = 355\n",
    "Algeria = 213\n",
    "Andorra = 376\n",
    "Angola = 244\n",
    "```"
   ]
  },
  {
   "cell_type": "code",
   "execution_count": 8,
   "metadata": {
    "ExecuteTime": {
     "end_time": "2020-10-05T00:36:12.275273Z",
     "start_time": "2020-10-05T00:36:12.270774Z"
    }
   },
   "outputs": [
    {
     "name": "stdout",
     "output_type": "stream",
     "text": [
      "Afghanistan     = 93\n",
      "Albania         = 355\n",
      "Algeria         = 213\n",
      "Andorra         = 376\n",
      "Angola          = 244\n"
     ]
    }
   ],
   "source": [
    "import enum\n",
    "class Countries(enum.Enum):\n",
    "    Afghanistan = 93\n",
    "    Albania = 355\n",
    "    Algeria = 213\n",
    "    Andorra = 376\n",
    "    Angola = 244\n",
    "    India = 355\n",
    "    USA = 213\n",
    "for result in Countries:\n",
    "    print('{:15} = {}'.format(result.name, result.value))\n"
   ]
  },
  {
   "cell_type": "markdown",
   "metadata": {},
   "source": [
    "### Write a Python program to create an instance of an OrderedDict using a given dictionary. Sort the dictionary during the creation and print the members of the dictionary in reverse order. Go to the editor\n",
    "```\n",
    "Expected Output:\n",
    "Angola 244\n",
    "Andorra 376\n",
    "Algeria 213\n",
    "Afghanistan 93\n",
    "Albania 355\n",
    "In reverse order:\n",
    "Albania 355\n",
    "Afghanistan 93\n",
    "Algeria 213\n",
    "Andorra 376\n",
    "Angola 244\n",
    "```"
   ]
  },
  {
   "cell_type": "code",
   "execution_count": 9,
   "metadata": {
    "ExecuteTime": {
     "end_time": "2020-10-05T00:36:26.933142Z",
     "start_time": "2020-10-05T00:36:26.927870Z"
    }
   },
   "outputs": [
    {
     "name": "stdout",
     "output_type": "stream",
     "text": [
      "Afghanistan 93\n",
      "Albania 355\n",
      "Algeria 213\n",
      "Andorra 376\n",
      "Angola 244\n",
      "\n",
      "In reverse order:\n",
      "Angola 244\n",
      "Andorra 376\n",
      "Algeria 213\n",
      "Albania 355\n",
      "Afghanistan 93\n"
     ]
    }
   ],
   "source": [
    "from collections import OrderedDict\n",
    "dict = {'Afghanistan': 93, 'Albania': 355, 'Algeria': 213, 'Andorra': 376, 'Angola': 244}\n",
    "new_dict = OrderedDict(dict.items())\n",
    "for key in new_dict:\n",
    "    print (key, new_dict[key])\n",
    "\n",
    "print(\"\\nIn reverse order:\")\n",
    "for key in reversed(new_dict):\n",
    "    print (key, new_dict[key])\n"
   ]
  },
  {
   "cell_type": "markdown",
   "metadata": {},
   "source": [
    "### Write a Python program to group a sequence of key-value pairs into a dictionary of lists. Go to the editor\n",
    "```\n",
    "Expected output:\n",
    "[('v', [1, 3]), ('vi', [2, 4]), ('vii', [1])]\n",
    "```"
   ]
  },
  {
   "cell_type": "code",
   "execution_count": 10,
   "metadata": {
    "ExecuteTime": {
     "end_time": "2020-10-05T00:36:57.762140Z",
     "start_time": "2020-10-05T00:36:57.756740Z"
    }
   },
   "outputs": [
    {
     "name": "stdout",
     "output_type": "stream",
     "text": [
      "[('v', [1, 3]), ('vi', [2, 4]), ('vii', [1])]\n"
     ]
    }
   ],
   "source": [
    "from collections import defaultdict\n",
    "class_roll = [('v', 1), ('vi', 2), ('v', 3), ('vi', 4), ('vii', 1)]\n",
    "d = defaultdict(list)\n",
    "for k, v in class_roll:\n",
    "    d[k].append(v)\n",
    "print(sorted(d.items()))\n"
   ]
  },
  {
   "cell_type": "markdown",
   "metadata": {},
   "source": [
    "### Write a Python program to compare two unordered lists (not sets). Go to the editor\n",
    "```\n",
    "Expected Output: False\n",
    "```"
   ]
  },
  {
   "cell_type": "code",
   "execution_count": 11,
   "metadata": {
    "ExecuteTime": {
     "end_time": "2020-10-05T00:37:08.614780Z",
     "start_time": "2020-10-05T00:37:08.610462Z"
    }
   },
   "outputs": [
    {
     "name": "stdout",
     "output_type": "stream",
     "text": [
      "False\n"
     ]
    }
   ],
   "source": [
    "from collections import Counter\n",
    "def compare_lists(x, y):\n",
    "    return Counter(x) == Counter(y)\n",
    "n1 = [20, 10, 30, 10, 20, 30]\n",
    "n2 = [30, 20, 10, 30, 20, 50]\n",
    "print(compare_lists(n1, n2))\n"
   ]
  },
  {
   "cell_type": "markdown",
   "metadata": {},
   "source": [
    "### Write a Python program to create an array contains six integers. Also print all the members of the array. Go to the editor\n",
    "```\n",
    "Expected Output:\n",
    "10\n",
    "20\n",
    "30\n",
    "40\n",
    "50\n",
    "```"
   ]
  },
  {
   "cell_type": "code",
   "execution_count": 12,
   "metadata": {
    "ExecuteTime": {
     "end_time": "2020-10-05T00:37:21.357272Z",
     "start_time": "2020-10-05T00:37:21.353259Z"
    }
   },
   "outputs": [
    {
     "name": "stdout",
     "output_type": "stream",
     "text": [
      "10\n",
      "20\n",
      "30\n",
      "40\n",
      "50\n"
     ]
    }
   ],
   "source": [
    "from array import array\n",
    "my_array = array('i', [10, 20, 30, 40, 50])\n",
    "for i in my_array:\n",
    "    print(i)\n"
   ]
  },
  {
   "cell_type": "markdown",
   "metadata": {},
   "source": [
    "### Write a Python program to get the array size of types unsigned integer and float. Go to the editor\n",
    "```\n",
    "Expected Output:\n",
    "4\n",
    "4\n",
    "```"
   ]
  },
  {
   "cell_type": "code",
   "execution_count": 13,
   "metadata": {
    "ExecuteTime": {
     "end_time": "2020-10-05T00:37:33.624003Z",
     "start_time": "2020-10-05T00:37:33.619990Z"
    }
   },
   "outputs": [
    {
     "name": "stdout",
     "output_type": "stream",
     "text": [
      "4\n",
      "4\n"
     ]
    }
   ],
   "source": [
    "from array import array\n",
    "a = array(\"I\", (12,25))\n",
    "print(a.itemsize)\n",
    "a = array(\"f\", (12.236,36.36))\n",
    "print(a.itemsize)\n"
   ]
  },
  {
   "cell_type": "markdown",
   "metadata": {},
   "source": [
    "### Write a Python program to get an array buffer information. Go to the editor\n",
    "```\n",
    "Expected Output:\n",
    "Array buffer start address in memory and number of elements.\n",
    "(_, 2)\n",
    "```"
   ]
  },
  {
   "cell_type": "code",
   "execution_count": 14,
   "metadata": {
    "ExecuteTime": {
     "end_time": "2020-10-05T00:37:44.791485Z",
     "start_time": "2020-10-05T00:37:44.787464Z"
    }
   },
   "outputs": [
    {
     "name": "stdout",
     "output_type": "stream",
     "text": [
      "Array buffer start address in memory and number of elements.\n",
      "(140237026593056, 2)\n"
     ]
    }
   ],
   "source": [
    "from array import array\n",
    "a = array(\"I\", (12,25))\n",
    "print(\"Array buffer start address in memory and number of elements.\")\n",
    "print(a.buffer_info())\n"
   ]
  },
  {
   "cell_type": "markdown",
   "metadata": {},
   "source": [
    "### Write a Python program to get the length of an array. Go to the editor\n",
    "```\n",
    "Expected Output:\n",
    "Length of the array is:\n",
    "5\n",
    "```"
   ]
  },
  {
   "cell_type": "code",
   "execution_count": 15,
   "metadata": {
    "ExecuteTime": {
     "end_time": "2020-10-05T00:38:34.893556Z",
     "start_time": "2020-10-05T00:38:34.889449Z"
    }
   },
   "outputs": [
    {
     "name": "stdout",
     "output_type": "stream",
     "text": [
      "Length of the array is:\n",
      "5\n"
     ]
    }
   ],
   "source": [
    "from array import array\n",
    "num_array = array('i', [10,20,30,40,50])\n",
    "print(\"Length of the array is:\")\n",
    "print(len(num_array))\n"
   ]
  },
  {
   "cell_type": "markdown",
   "metadata": {},
   "source": [
    "### Write a Python program to convert an array to an ordinary list with the same items. Go to the editor\n",
    "```\n",
    "Expected Output:\n",
    "Original array:\n",
    "array('b', [1, 2, 3, 4])\n",
    "Array to list:\n",
    "[1, 2, 3, 4]\n",
    "```"
   ]
  },
  {
   "cell_type": "code",
   "execution_count": 16,
   "metadata": {
    "ExecuteTime": {
     "end_time": "2020-10-05T00:38:50.509168Z",
     "start_time": "2020-10-05T00:38:50.504874Z"
    }
   },
   "outputs": [
    {
     "name": "stdout",
     "output_type": "stream",
     "text": [
      "Original array: \n",
      "array('b', [1, 2, 3, 4])\n",
      "Array to list: \n",
      "[1, 2, 3, 4]\n"
     ]
    }
   ],
   "source": [
    "from array import array\n",
    "arra1 = array('b', [1,2,3,4])\n",
    "print(\"Original array: \")\n",
    "print(arra1)\n",
    "print(\"Array to list: \")\n",
    "print(arra1.tolist())\n"
   ]
  },
  {
   "cell_type": "markdown",
   "metadata": {},
   "source": [
    "### Write a Python program to convert an array to an array of machine values and return the bytes representation. Go to the editor\n",
    "```\n",
    "Expected Output:\n",
    "Original array:\n",
    "A1: array('i', [1, 2, 3, 4, 5, 6])\n",
    "Array of bytes: b'010000000200000003000000040000000500000006000000'\n",
    "```"
   ]
  },
  {
   "cell_type": "code",
   "execution_count": 17,
   "metadata": {
    "ExecuteTime": {
     "end_time": "2020-10-05T00:39:03.475300Z",
     "start_time": "2020-10-05T00:39:03.471129Z"
    }
   },
   "outputs": [
    {
     "name": "stdout",
     "output_type": "stream",
     "text": [
      "Original array:\n",
      "A1: array('i', [1, 2, 3, 4, 5, 6])\n",
      "Array of bytes: b'010000000200000003000000040000000500000006000000'\n"
     ]
    }
   ],
   "source": [
    "import array\n",
    "import binascii\n",
    "a = array.array('i', [1,2,3,4,5,6])\n",
    "print(\"Original array:\")\n",
    "print('A1:', a)\n",
    "bytes_array = a.tobytes()\n",
    "print('Array of bytes:', binascii.hexlify(bytes_array))\n"
   ]
  },
  {
   "cell_type": "markdown",
   "metadata": {},
   "source": [
    "### Write a Python program to read a string and interpreting the string as an array of machine values. Go to the editor\n",
    "```\n",
    "Expected Output:\n",
    "array1: array('i', [7, 8, 9, 10])\n",
    "Bytes: b'0700000008000000090000000a000000'\n",
    "array2: array('i', [7, 8, 9, 10])\n",
    "```"
   ]
  },
  {
   "cell_type": "code",
   "execution_count": 18,
   "metadata": {
    "ExecuteTime": {
     "end_time": "2020-10-05T00:39:16.466469Z",
     "start_time": "2020-10-05T00:39:16.462166Z"
    }
   },
   "outputs": [
    {
     "name": "stdout",
     "output_type": "stream",
     "text": [
      "array1: array('i', [7, 8, 9, 10])\n",
      "Bytes: b'0700000008000000090000000a000000'\n",
      "array2: array('i', [7, 8, 9, 10])\n"
     ]
    }
   ],
   "source": [
    "from array import array\n",
    "import binascii\n",
    "array1 = array('i', [7, 8, 9, 10])\n",
    "print('array1:', array1)\n",
    "as_bytes = array1.tobytes()\n",
    "print('Bytes:', binascii.hexlify(as_bytes))\n",
    "array2 = array('i')\n",
    "array2.frombytes(as_bytes)\n",
    "print('array2:', array2)\n"
   ]
  },
  {
   "cell_type": "markdown",
   "metadata": {},
   "source": [
    "### Write a Python program to push three items into the heap and print the items from the heap. Go to the editor\n",
    "```\n",
    "Expected Output:\n",
    "('V', 1)\n",
    "('V', 2)\n",
    "('V', 3)\n",
    "```"
   ]
  },
  {
   "cell_type": "code",
   "execution_count": 19,
   "metadata": {
    "ExecuteTime": {
     "end_time": "2020-10-05T00:39:31.244375Z",
     "start_time": "2020-10-05T00:39:31.239868Z"
    }
   },
   "outputs": [
    {
     "name": "stdout",
     "output_type": "stream",
     "text": [
      "('V', 1)\n",
      "('V', 2)\n",
      "('V', 3)\n"
     ]
    }
   ],
   "source": [
    "import heapq\n",
    "heap = []\n",
    "heapq.heappush(heap, ('V', 1))\n",
    "heapq.heappush(heap, ('V', 2))\n",
    "heapq.heappush(heap, ('V', 3))\n",
    "for a in heap:\n",
    "    print(a)"
   ]
  },
  {
   "cell_type": "markdown",
   "metadata": {},
   "source": [
    "### Write a Python program to push three items into a heap and return the smallest item from the heap. Also Pop and return the smallest item from the heap. Go to the editor\n",
    "```\n",
    "Expected Output:\n",
    "Items in the heap:\n",
    "('V', 1)\n",
    "('V', 3)\n",
    "('V', 2)\n",
    "----------------------\n",
    "The smallest item in the heap:\n",
    "('V', 1)\n",
    "----------------------\n",
    "Pop the smallest item in the heap:\n",
    "('V', 2)\n",
    "('V', 3)\n",
    "```"
   ]
  },
  {
   "cell_type": "code",
   "execution_count": 20,
   "metadata": {
    "ExecuteTime": {
     "end_time": "2020-10-05T00:39:58.295579Z",
     "start_time": "2020-10-05T00:39:58.290059Z"
    }
   },
   "outputs": [
    {
     "name": "stdout",
     "output_type": "stream",
     "text": [
      "Items in the heap:\n",
      "('V', 1)\n",
      "('V', 3)\n",
      "('V', 2)\n",
      "----------------------\n",
      "The smallest item in the heap:\n",
      "('V', 1)\n",
      "----------------------\n",
      "Pop the smallest item in the heap:\n",
      "('V', 2)\n",
      "('V', 3)\n"
     ]
    }
   ],
   "source": [
    "import heapq\n",
    "heap = []\n",
    "heapq.heappush(heap, ('V', 3))\n",
    "heapq.heappush(heap, ('V', 2))\n",
    "heapq.heappush(heap, ('V', 1))\n",
    "print(\"Items in the heap:\")\n",
    "for a in heap:\n",
    "    print(a)\n",
    "print(\"----------------------\")\n",
    "print(\"The smallest item in the heap:\")\n",
    "print(heap[0])\n",
    "print(\"----------------------\")\n",
    "print(\"Pop the smallest item in the heap:\")\n",
    "heapq.heappop(heap)\n",
    "for a in heap:\n",
    "    print(a)"
   ]
  },
  {
   "cell_type": "markdown",
   "metadata": {},
   "source": [
    "### Write a Python program to push an item on the heap, then pop and return the smallest item from the heap. Go to the editor\n",
    "```\n",
    "Expected Output:\n",
    "Items in the heap:\n",
    "('V', 1)\n",
    "('V', 3)\n",
    "('V', 2)\n",
    "----------------------\n",
    "Using heappushpop push item on the heap and return the smallest item.\n",
    "('V', 2)\n",
    "('V', 3)\n",
    "('V', 6)\n",
    "```"
   ]
  },
  {
   "cell_type": "code",
   "execution_count": 21,
   "metadata": {
    "ExecuteTime": {
     "end_time": "2020-10-05T00:40:18.483374Z",
     "start_time": "2020-10-05T00:40:18.478104Z"
    }
   },
   "outputs": [
    {
     "name": "stdout",
     "output_type": "stream",
     "text": [
      "Items in the heap:\n",
      "('V', 1)\n",
      "('V', 3)\n",
      "('V', 2)\n",
      "----------------------\n",
      "Using heappushpop push item on the heap and return the smallest item.\n",
      "('V', 2)\n",
      "('V', 3)\n",
      "('V', 6)\n"
     ]
    }
   ],
   "source": [
    "import heapq\n",
    "heap = []\n",
    "heapq.heappush(heap, ('V', 3))\n",
    "heapq.heappush(heap, ('V', 2))\n",
    "heapq.heappush(heap, ('V', 1))\n",
    "print(\"Items in the heap:\")\n",
    "for a in heap:\n",
    "    print(a)\n",
    "print(\"----------------------\")\n",
    "print(\"Using heappushpop push item on the heap and return the smallest item.\")\n",
    "heapq.heappushpop(heap, ('V', 6))\n",
    "for a in heap:\n",
    "    print(a)"
   ]
  },
  {
   "cell_type": "markdown",
   "metadata": {},
   "source": [
    "### Write a Python program to create a heapsort, pushing all values onto a heap and then popping off the smallest values one at a time. Go to the editor\n",
    "```\n",
    "Expected Output:\n",
    "[10, 20, 20, 40, 50, 50, 60, 70, 80, 90, 100]\n",
    "```"
   ]
  },
  {
   "cell_type": "code",
   "execution_count": 22,
   "metadata": {
    "ExecuteTime": {
     "end_time": "2020-10-05T00:40:34.457091Z",
     "start_time": "2020-10-05T00:40:34.452554Z"
    }
   },
   "outputs": [
    {
     "name": "stdout",
     "output_type": "stream",
     "text": [
      "[10, 20, 20, 40, 50, 50, 60, 70, 80, 90, 100]\n"
     ]
    }
   ],
   "source": [
    "import heapq\n",
    "def heapsort(h):\n",
    "    heap = []\n",
    "    for value in h:\n",
    "        heapq.heappush(heap, value)\n",
    "    return [heapq.heappop(heap) for i in range(len(heap))]\n",
    "\n",
    "print(heapsort([10, 20, 50, 70, 90, 20, 50, 40, 60, 80, 100]))\n"
   ]
  },
  {
   "cell_type": "markdown",
   "metadata": {},
   "source": [
    "### Write a Python program to get the two largest and three smallest items from a dataset. Go to the editor\n",
    "```\n",
    "Expected Output:\n",
    "[100, 90]\n",
    "[10, 20, 20]\n",
    "```"
   ]
  },
  {
   "cell_type": "code",
   "execution_count": 23,
   "metadata": {
    "ExecuteTime": {
     "end_time": "2020-10-05T00:40:52.735458Z",
     "start_time": "2020-10-05T00:40:52.730156Z"
    }
   },
   "outputs": [
    {
     "name": "stdout",
     "output_type": "stream",
     "text": [
      "[100, 90]\n",
      "[10, 20, 20]\n"
     ]
    }
   ],
   "source": [
    "import heapq\n",
    "h = [10, 20, 50, 70, 90, 20, 50, 40, 60, 80, 100]\n",
    "print(heapq.nlargest(2,h))\n",
    "print(heapq.nsmallest(3,h))\n"
   ]
  },
  {
   "cell_type": "markdown",
   "metadata": {},
   "source": [
    "### Write a Python program to locate the left insertion point for a specified value in sorted order. Go to the editor\n",
    "```\n",
    "Expected Output:\n",
    "4\n",
    "2\n",
    "```"
   ]
  },
  {
   "cell_type": "code",
   "execution_count": 24,
   "metadata": {
    "ExecuteTime": {
     "end_time": "2020-10-05T00:41:07.520135Z",
     "start_time": "2020-10-05T00:41:07.515616Z"
    }
   },
   "outputs": [
    {
     "name": "stdout",
     "output_type": "stream",
     "text": [
      "4\n",
      "2\n"
     ]
    }
   ],
   "source": [
    "import bisect\n",
    "def index(a, x):\n",
    "    i = bisect.bisect_left(a, x)\n",
    "    return i\n",
    "    \n",
    "a = [1,2,4,5]\n",
    "print(index(a, 6))\n",
    "print(index(a, 3))\n"
   ]
  },
  {
   "cell_type": "markdown",
   "metadata": {},
   "source": [
    "### Write a Python program to locate the right insertion point for a specified value in sorted order. Go to the editor\n",
    "```\n",
    "Expected Output:\n",
    "3\n",
    "2\n",
    "```"
   ]
  },
  {
   "cell_type": "code",
   "execution_count": 25,
   "metadata": {
    "ExecuteTime": {
     "end_time": "2020-10-05T00:41:41.856305Z",
     "start_time": "2020-10-05T00:41:41.852167Z"
    }
   },
   "outputs": [
    {
     "name": "stdout",
     "output_type": "stream",
     "text": [
      "3\n",
      "2\n"
     ]
    }
   ],
   "source": [
    "import bisect\n",
    "def index(a, x):\n",
    "    i = bisect.bisect_right(a, x)\n",
    "    return i\n",
    "    \n",
    "a = [1,2,4,7]\n",
    "print(index(a, 6))\n",
    "print(index(a, 3))\n"
   ]
  },
  {
   "cell_type": "markdown",
   "metadata": {},
   "source": [
    "### Write a Python program to insert items into a list in sorted order. Go to the editor\n",
    "```\n",
    "Expected Output:\n",
    "Original List:\n",
    "[25, 45, 36, 47, 69, 48, 68, 78, 14, 36]\n",
    "Sorted List:\n",
    "[14, 25, 36, 36, 45, 47, 48, 68, 69, 78]\n",
    "```"
   ]
  },
  {
   "cell_type": "code",
   "execution_count": 26,
   "metadata": {
    "ExecuteTime": {
     "end_time": "2020-10-05T00:41:56.755809Z",
     "start_time": "2020-10-05T00:41:56.739012Z"
    }
   },
   "outputs": [
    {
     "name": "stdout",
     "output_type": "stream",
     "text": [
      "Original List:\n",
      "[25, 45, 36, 47, 69, 48, 68, 78, 14, 36]\n",
      "Sorted List:\n",
      "[14, 25, 36, 36, 45, 47, 48, 68, 69, 78]\n"
     ]
    }
   ],
   "source": [
    "import bisect\n",
    "# Sample list\n",
    "my_list = [25, 45, 36, 47, 69, 48, 68, 78, 14, 36]\n",
    "\n",
    "print(\"Original List:\")\n",
    "print(my_list)\n",
    "sorted_list = []\n",
    "for i in my_list:\n",
    "    position = bisect.bisect(sorted_list, i)\n",
    "    bisect.insort(sorted_list, i)\n",
    "print(\"Sorted List:\")\n",
    "print(sorted_list)\n"
   ]
  },
  {
   "cell_type": "markdown",
   "metadata": {},
   "source": [
    "### a Python program to create a queue and display all the members and size of the queue. Go to the editor\n",
    "```\n",
    "Expected Output:\n",
    "Members of the queue:\n",
    "0 1 2 3\n",
    "Size of the queue:\n",
    "4\n",
    "```"
   ]
  },
  {
   "cell_type": "code",
   "execution_count": 27,
   "metadata": {
    "ExecuteTime": {
     "end_time": "2020-10-05T00:42:09.759362Z",
     "start_time": "2020-10-05T00:42:09.754523Z"
    }
   },
   "outputs": [
    {
     "name": "stdout",
     "output_type": "stream",
     "text": [
      "Members of the queue:\n",
      "0 1 2 3 \n",
      "Size of the queue:\n",
      "4\n"
     ]
    }
   ],
   "source": [
    "import queue\n",
    "q = queue.Queue()\n",
    "for x in range(4):\n",
    "    q.put(x)\n",
    "print(\"Members of the queue:\")\n",
    "y=z=q.qsize()\n",
    "\n",
    "for n in list(q.queue):\n",
    "    print(n, end=\" \")\n",
    "print(\"\\nSize of the queue:\")\n",
    "print(q.qsize())\n"
   ]
  },
  {
   "cell_type": "markdown",
   "metadata": {},
   "source": [
    "### Write a Python program to find whether a queue is empty or not. Go to the editor\n",
    "```\n",
    "Expected Output:\n",
    "True\n",
    "False\n",
    "```"
   ]
  },
  {
   "cell_type": "code",
   "execution_count": 28,
   "metadata": {
    "ExecuteTime": {
     "end_time": "2020-10-05T00:42:23.741660Z",
     "start_time": "2020-10-05T00:42:23.737590Z"
    }
   },
   "outputs": [
    {
     "name": "stdout",
     "output_type": "stream",
     "text": [
      "True\n",
      "False\n"
     ]
    }
   ],
   "source": [
    "import queue\n",
    "p = queue.Queue()\n",
    "q = queue.Queue()\n",
    "for x in range(4):\n",
    "    q.put(x)\n",
    "print(p.empty())\n",
    "print(q.empty())\n"
   ]
  },
  {
   "cell_type": "markdown",
   "metadata": {},
   "source": [
    "### Write a Python program to create a FIFO queue. Go to the editor\n",
    "```\n",
    "Expected Output:\n",
    "0 1 2 3\n",
    "```"
   ]
  },
  {
   "cell_type": "code",
   "execution_count": 29,
   "metadata": {
    "ExecuteTime": {
     "end_time": "2020-10-05T00:42:37.457263Z",
     "start_time": "2020-10-05T00:42:37.453356Z"
    }
   },
   "outputs": [
    {
     "name": "stdout",
     "output_type": "stream",
     "text": [
      "0 1 2 3 \n",
      "\n"
     ]
    }
   ],
   "source": [
    "import queue\n",
    "q = queue.Queue()\n",
    "#insert items at the end of the queue \n",
    "for x in range(4):\n",
    "    q.put(str(x))\n",
    "#remove items from the head of the queue \n",
    "while not q.empty():\n",
    "    print(q.get(), end=\" \")\n",
    "print(\"\\n\")\n"
   ]
  },
  {
   "cell_type": "markdown",
   "metadata": {},
   "source": [
    "### Write a Python program to create a LIFO queue. Go to the editor\n",
    "```\n",
    "Expected Output:\n",
    "3 2 1 0\n",
    "```"
   ]
  },
  {
   "cell_type": "code",
   "execution_count": 30,
   "metadata": {
    "ExecuteTime": {
     "end_time": "2020-10-05T00:42:49.558408Z",
     "start_time": "2020-10-05T00:42:49.554142Z"
    }
   },
   "outputs": [
    {
     "name": "stdout",
     "output_type": "stream",
     "text": [
      "3 2 1 0 \n"
     ]
    }
   ],
   "source": [
    "import queue\n",
    "q = queue.LifoQueue()\n",
    "#insert items at the head of the queue \n",
    "for x in range(4):\n",
    "    q.put(str(x))\n",
    "#remove items from the head of the queue \n",
    "while not q.empty():\n",
    "    print(q.get(), end=\" \")\n",
    "print()\n"
   ]
  },
  {
   "cell_type": "code",
   "execution_count": null,
   "metadata": {},
   "outputs": [],
   "source": []
  }
 ],
 "metadata": {
  "kernelspec": {
   "display_name": "Python 3",
   "language": "python",
   "name": "python3"
  },
  "language_info": {
   "codemirror_mode": {
    "name": "ipython",
    "version": 3
   },
   "file_extension": ".py",
   "mimetype": "text/x-python",
   "name": "python",
   "nbconvert_exporter": "python",
   "pygments_lexer": "ipython3",
   "version": "3.7.4"
  },
  "toc": {
   "base_numbering": 1,
   "nav_menu": {},
   "number_sections": true,
   "sideBar": true,
   "skip_h1_title": false,
   "title_cell": "Table of Contents",
   "title_sidebar": "Contents",
   "toc_cell": false,
   "toc_position": {},
   "toc_section_display": true,
   "toc_window_display": false
  },
  "varInspector": {
   "cols": {
    "lenName": 16,
    "lenType": 16,
    "lenVar": 40
   },
   "kernels_config": {
    "python": {
     "delete_cmd_postfix": "",
     "delete_cmd_prefix": "del ",
     "library": "var_list.py",
     "varRefreshCmd": "print(var_dic_list())"
    },
    "r": {
     "delete_cmd_postfix": ") ",
     "delete_cmd_prefix": "rm(",
     "library": "var_list.r",
     "varRefreshCmd": "cat(var_dic_list()) "
    }
   },
   "types_to_exclude": [
    "module",
    "function",
    "builtin_function_or_method",
    "instance",
    "_Feature"
   ],
   "window_display": false
  }
 },
 "nbformat": 4,
 "nbformat_minor": 2
}
