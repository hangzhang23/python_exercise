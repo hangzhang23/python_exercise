{
 "cells": [
  {
   "cell_type": "markdown",
   "metadata": {},
   "source": [
    "---\n",
    "## Python: Linked List - Exercises, Practice, Solution\n",
    "---"
   ]
  },
  {
   "cell_type": "markdown",
   "metadata": {},
   "source": [
    "### Write a Python program to create a singly linked list, append some items and iterate through the list. Go to the editor"
   ]
  },
  {
   "cell_type": "code",
   "execution_count": 1,
   "metadata": {
    "ExecuteTime": {
     "end_time": "2020-10-20T02:39:54.683260Z",
     "start_time": "2020-10-20T02:39:54.674476Z"
    }
   },
   "outputs": [
    {
     "name": "stdout",
     "output_type": "stream",
     "text": [
      "PHP\n",
      "Python\n",
      "C#\n",
      "C++\n",
      "Java\n"
     ]
    }
   ],
   "source": [
    "class Node:\n",
    "    # Singly linked node\n",
    "    def __init__(self, data=None):\n",
    "        self.data = data\n",
    "        self.next = None\n",
    "\n",
    "\n",
    "class singly_linked_list:\n",
    "    def __init__(self):\n",
    "        # Createe an empty list\n",
    "        self.tail = None\n",
    "        self.head = None\n",
    "        self.count = 0\n",
    "\n",
    "    def iterate_item(self):\n",
    "        # Iterate the list.\n",
    "        current_item = self.tail\n",
    "        while current_item:\n",
    "            val = current_item.data\n",
    "            current_item = current_item.next\n",
    "            yield val\n",
    "\n",
    "    def append_item(self, data):\n",
    "        # Append items on the list\n",
    "        node = Node(data)\n",
    "        if self.head:\n",
    "            self.head.next = node\n",
    "            self.head = node\n",
    "        else:\n",
    "            self.tail = node\n",
    "            self.head = node\n",
    "        self.count += 1\n",
    "\n",
    "\n",
    "items = singly_linked_list()\n",
    "items.append_item('PHP')\n",
    "items.append_item('Python')\n",
    "items.append_item('C#')\n",
    "items.append_item('C++')\n",
    "items.append_item('Java')\n",
    "\n",
    "for val in items.iterate_item():\n",
    "    print(val)"
   ]
  },
  {
   "cell_type": "markdown",
   "metadata": {},
   "source": [
    "### Write a Python program to find the size of a singly linked list. Go to the editor"
   ]
  },
  {
   "cell_type": "code",
   "execution_count": 2,
   "metadata": {
    "ExecuteTime": {
     "end_time": "2020-10-20T02:40:10.689586Z",
     "start_time": "2020-10-20T02:40:10.680489Z"
    }
   },
   "outputs": [
    {
     "name": "stdout",
     "output_type": "stream",
     "text": [
      "Original list:\n",
      "PHP\n",
      "Python\n",
      "C#\n",
      "C++\n",
      "Java\n",
      "\n",
      "Size of the list: 5\n"
     ]
    }
   ],
   "source": [
    "class Node:\n",
    "    # Singly linked node\n",
    "    def __init__(self, data=None):\n",
    "        self.data = data\n",
    "        self.next = None\n",
    "\n",
    "\n",
    "class singly_linked_list:\n",
    "    def __init__(self):\n",
    "        # Createe an empty list\n",
    "        self.tail = None\n",
    "        self.head = None\n",
    "        self.count = 0\n",
    "\n",
    "    def append_item(self, data):\n",
    "        # Append items on the list\n",
    "        node = Node(data)\n",
    "        if self.head:\n",
    "            self.head.next = node\n",
    "            self.head = node\n",
    "        else:\n",
    "            self.tail = node\n",
    "            self.head = node\n",
    "        self.count += 1\n",
    "\n",
    "    def iterate_item(self):\n",
    "        # Iterate the list.\n",
    "        current_item = self.tail\n",
    "        while current_item:\n",
    "            val = current_item.data\n",
    "            current_item = current_item.next\n",
    "            yield val\n",
    "\n",
    "\n",
    "items = singly_linked_list()\n",
    "items.append_item('PHP')\n",
    "items.append_item('Python')\n",
    "items.append_item('C#')\n",
    "items.append_item('C++')\n",
    "items.append_item('Java')\n",
    "\n",
    "print(\"Original list:\")\n",
    "for val in items.iterate_item():\n",
    "    print(val)\n",
    "\n",
    "print(\"\\nSize of the list:\", items.count)"
   ]
  },
  {
   "cell_type": "markdown",
   "metadata": {},
   "source": [
    "### Write a Python program to search a specific item in a singly linked list and return true if the item is found otherwise return false. Go to the editor\n"
   ]
  },
  {
   "cell_type": "code",
   "execution_count": 3,
   "metadata": {
    "ExecuteTime": {
     "end_time": "2020-10-20T02:40:27.973522Z",
     "start_time": "2020-10-20T02:40:27.962131Z"
    }
   },
   "outputs": [
    {
     "name": "stdout",
     "output_type": "stream",
     "text": [
      "False\n",
      "True\n"
     ]
    }
   ],
   "source": [
    "class Node:\n",
    "    # Singly linked node\n",
    "    def __init__(self, data=None):\n",
    "        self.data = data\n",
    "        self.next = None\n",
    "\n",
    "\n",
    "class singly_linked_list:\n",
    "    def __init__(self):\n",
    "        # Createe an empty list\n",
    "        self.tail = None\n",
    "        self.head = None\n",
    "        self.count = 0\n",
    "\n",
    "    def append_item(self, data):\n",
    "        # Append items on the list\n",
    "        node = Node(data)\n",
    "        if self.head:\n",
    "            self.head.next = node\n",
    "            self.head = node\n",
    "        else:\n",
    "            self.tail = node\n",
    "            self.head = node\n",
    "        self.count += 1\n",
    "\n",
    "    def iterate_item(self):\n",
    "        # Iterate the list.\n",
    "        current_item = self.tail\n",
    "        while current_item:\n",
    "            val = current_item.data\n",
    "            current_item = current_item.next\n",
    "            yield val\n",
    "\n",
    "    def search_item(self, val):\n",
    "        # Search the list\n",
    "        for node in self.iterate_item():\n",
    "            if val == node:\n",
    "                return True\n",
    "        return False\n",
    "\n",
    "\n",
    "items = singly_linked_list()\n",
    "items.append_item('PHP')\n",
    "items.append_item('Python')\n",
    "items.append_item('C#')\n",
    "items.append_item('C++')\n",
    "items.append_item('Java')\n",
    "\n",
    "if items.search_item('SQL'):\n",
    "    print(\"True\")\n",
    "else:\n",
    "    print(\"False\")\n",
    "\n",
    "if items.search_item('C++'):\n",
    "    print(\"True\")\n",
    "else:\n",
    "    print(\"False\")"
   ]
  },
  {
   "cell_type": "markdown",
   "metadata": {},
   "source": [
    "### Write a Python program to access a specific item in a singly linked list using index value. Go to the editor\n"
   ]
  },
  {
   "cell_type": "code",
   "execution_count": 4,
   "metadata": {
    "ExecuteTime": {
     "end_time": "2020-10-20T02:40:43.521867Z",
     "start_time": "2020-10-20T02:40:43.512804Z"
    }
   },
   "outputs": [
    {
     "name": "stdout",
     "output_type": "stream",
     "text": [
      "Search using index:\n",
      "PHP\n",
      "Python\n",
      "Java\n",
      "Index out of range\n",
      "Index out of range\n"
     ]
    }
   ],
   "source": [
    "class Node:\n",
    "    # Singly linked node\n",
    "    def __init__(self, data=None):\n",
    "        self.data = data\n",
    "        self.next = None\n",
    "\n",
    "\n",
    "class singly_linked_list:\n",
    "    def __init__(self):\n",
    "        # Createe an empty list\n",
    "        self.tail = None\n",
    "        self.head = None\n",
    "        self.count = 0\n",
    "\n",
    "    def append_item(self, data):\n",
    "        # Append items on the list\n",
    "        node = Node(data)\n",
    "        if self.head:\n",
    "            self.head.next = node\n",
    "            self.head = node\n",
    "        else:\n",
    "            self.tail = node\n",
    "            self.head = node\n",
    "        self.count += 1\n",
    "\n",
    "    def __getitem__(self, index):\n",
    "        if index > self.count - 1:\n",
    "            return \"Index out of range\"\n",
    "        current_val = self.tail\n",
    "        for n in range(index):\n",
    "            current_val = current_val.next\n",
    "        return current_val.data\n",
    "\n",
    "\n",
    "items = singly_linked_list()\n",
    "items.append_item('PHP')\n",
    "items.append_item('Python')\n",
    "items.append_item('C#')\n",
    "items.append_item('C++')\n",
    "items.append_item('Java')\n",
    "\n",
    "print(\"Search using index:\")\n",
    "print(items[0])\n",
    "print(items[1])\n",
    "print(items[4])\n",
    "print(items[5])\n",
    "print(items[10])"
   ]
  },
  {
   "cell_type": "markdown",
   "metadata": {},
   "source": [
    "### Write a Python program to set a new value of an item in a singly linked list using index value. Go to the editor\n"
   ]
  },
  {
   "cell_type": "code",
   "execution_count": 5,
   "metadata": {
    "ExecuteTime": {
     "end_time": "2020-10-20T02:40:56.038372Z",
     "start_time": "2020-10-20T02:40:56.028247Z"
    }
   },
   "outputs": [
    {
     "name": "stdout",
     "output_type": "stream",
     "text": [
      "Modify items by index:\n",
      "New value:  SQL\n",
      "New value:  Perl\n"
     ]
    }
   ],
   "source": [
    "class Node:\n",
    "    # Singly linked node\n",
    "    def __init__(self, data=None):\n",
    "        self.data = data\n",
    "        self.next = None\n",
    "\n",
    "\n",
    "class singly_linked_list:\n",
    "    def __init__(self):\n",
    "        # Createe an empty list\n",
    "        self.tail = None\n",
    "        self.head = None\n",
    "        self.count = 0\n",
    "\n",
    "    def append_item(self, data):\n",
    "        # Append items on the list\n",
    "        node = Node(data)\n",
    "        if self.head:\n",
    "            self.head.next = node\n",
    "            self.head = node\n",
    "        else:\n",
    "            self.tail = node\n",
    "            self.head = node\n",
    "        self.count += 1\n",
    "\n",
    "    def __getitem__(self, index):\n",
    "        if index > self.count - 1:\n",
    "            return \"Index out of range\"\n",
    "        current_val = self.tail\n",
    "        for n in range(index):\n",
    "            current_val = current_val.next\n",
    "        return current_val.data\n",
    "\n",
    "    def __setitem__(self, index, value):\n",
    "        if index > self.count - 1:\n",
    "            raise Exception(\"Index out of range.\")\n",
    "        current = self.tail\n",
    "        for n in range(index):\n",
    "            current = current.next\n",
    "        current.data = value\n",
    "\n",
    "\n",
    "items = singly_linked_list()\n",
    "items.append_item('PHP')\n",
    "items.append_item('Python')\n",
    "items.append_item('C#')\n",
    "items.append_item('C++')\n",
    "items.append_item('Java')\n",
    "\n",
    "print(\"Modify items by index:\")\n",
    "items[1] = \"SQL\"\n",
    "print(\"New value: \", items[1])\n",
    "items[4] = \"Perl\"\n",
    "print(\"New value: \", items[4])"
   ]
  },
  {
   "cell_type": "markdown",
   "metadata": {},
   "source": [
    "### Write a Python program to delete the first item from a singly linked list. Go to the editor\n"
   ]
  },
  {
   "cell_type": "code",
   "execution_count": 6,
   "metadata": {
    "ExecuteTime": {
     "end_time": "2020-10-20T02:41:13.610561Z",
     "start_time": "2020-10-20T02:41:13.598886Z"
    }
   },
   "outputs": [
    {
     "name": "stdout",
     "output_type": "stream",
     "text": [
      "Original list:\n",
      "PHP\n",
      "Python\n",
      "C#\n",
      "C++\n",
      "Java\n",
      "\n",
      "After removing the first item from the list:\n",
      "Python\n",
      "C#\n",
      "C++\n",
      "Java\n"
     ]
    }
   ],
   "source": [
    "class Node:\n",
    "    # Singly linked node\n",
    "    def __init__(self, data=None):\n",
    "        self.data = data\n",
    "        self.next = None\n",
    "\n",
    "\n",
    "class singly_linked_list:\n",
    "    def __init__(self):\n",
    "        # Createe an empty list\n",
    "        self.tail = None\n",
    "        self.head = None\n",
    "        self.count = 0\n",
    "\n",
    "    def append_item(self, data):\n",
    "        # Append items on the list\n",
    "        node = Node(data)\n",
    "        if self.head:\n",
    "            self.head.next = node\n",
    "            self.head = node\n",
    "        else:\n",
    "            self.tail = node\n",
    "            self.head = node\n",
    "        self.count += 1\n",
    "\n",
    "    def delete_item(self, data):\n",
    "        # Delete an item from the list\n",
    "        current = self.tail\n",
    "        prev = self.tail\n",
    "        while current:\n",
    "            if current.data == data:\n",
    "                if current == self.tail:\n",
    "                    self.tail = current.next\n",
    "                else:\n",
    "                    prev.next = current.next\n",
    "                self.count -= 1\n",
    "                return\n",
    "            prev = current\n",
    "            current = current.next\n",
    "\n",
    "    def iterate_item(self):\n",
    "        # Iterate the list.\n",
    "        current_item = self.tail\n",
    "        while current_item:\n",
    "            val = current_item.data\n",
    "            current_item = current_item.next\n",
    "            yield val\n",
    "\n",
    "\n",
    "items = singly_linked_list()\n",
    "items.append_item('PHP')\n",
    "items.append_item('Python')\n",
    "items.append_item('C#')\n",
    "items.append_item('C++')\n",
    "items.append_item('Java')\n",
    "\n",
    "print(\"Original list:\")\n",
    "for val in items.iterate_item():\n",
    "    print(val)\n",
    "\n",
    "print(\"\\nAfter removing the first item from the list:\")\n",
    "items.delete_item('PHP')\n",
    "for val in items.iterate_item():\n",
    "    print(val)"
   ]
  },
  {
   "cell_type": "markdown",
   "metadata": {},
   "source": [
    "### Write a Python program to delete the last item from a singly linked list. Go to the editor\n"
   ]
  },
  {
   "cell_type": "code",
   "execution_count": 7,
   "metadata": {
    "ExecuteTime": {
     "end_time": "2020-10-20T02:41:29.766373Z",
     "start_time": "2020-10-20T02:41:29.756195Z"
    }
   },
   "outputs": [
    {
     "name": "stdout",
     "output_type": "stream",
     "text": [
      "Original list:\n",
      "PHP\n",
      "Python\n",
      "C#\n",
      "C++\n",
      "Java\n",
      "\n",
      "After removing the last item from the list:\n",
      "PHP\n",
      "Python\n",
      "C#\n",
      "C++\n"
     ]
    }
   ],
   "source": [
    "class Node:\n",
    "    # Singly linked node\n",
    "    def __init__(self, data=None):\n",
    "        self.data = data\n",
    "        self.next = None\n",
    "\n",
    "\n",
    "class singly_linked_list:\n",
    "    def __init__(self):\n",
    "        # Createe an empty list\n",
    "        self.tail = None\n",
    "        self.head = None\n",
    "        self.count = 0\n",
    "\n",
    "    def append_item(self, data):\n",
    "        # Append items on the list\n",
    "        node = Node(data)\n",
    "        if self.head:\n",
    "            self.head.next = node\n",
    "            self.head = node\n",
    "        else:\n",
    "            self.tail = node\n",
    "            self.head = node\n",
    "        self.count += 1\n",
    "\n",
    "    def delete_item(self, data):\n",
    "        # Delete an item from the list\n",
    "        current = self.tail\n",
    "        prev = self.tail\n",
    "        while current:\n",
    "            if current.data == data:\n",
    "                if current == self.tail:\n",
    "                    self.tail = current.next\n",
    "                else:\n",
    "                    prev.next = current.next\n",
    "                self.count -= 1\n",
    "                return\n",
    "            prev = current\n",
    "            current = current.next\n",
    "\n",
    "    def iterate_item(self):\n",
    "        # Iterate the list.\n",
    "        current_item = self.tail\n",
    "        while current_item:\n",
    "            val = current_item.data\n",
    "            current_item = current_item.next\n",
    "            yield val\n",
    "\n",
    "\n",
    "items = singly_linked_list()\n",
    "items.append_item('PHP')\n",
    "items.append_item('Python')\n",
    "items.append_item('C#')\n",
    "items.append_item('C++')\n",
    "items.append_item('Java')\n",
    "\n",
    "print(\"Original list:\")\n",
    "for val in items.iterate_item():\n",
    "    print(val)\n",
    "\n",
    "print(\"\\nAfter removing the last item from the list:\")\n",
    "items.delete_item('Java')\n",
    "for val in items.iterate_item():\n",
    "    print(val)"
   ]
  },
  {
   "cell_type": "markdown",
   "metadata": {},
   "source": [
    "### Write a Python program to create a doubly linked list, append some items and iterate through the list (print forward). Go to the editor\n"
   ]
  },
  {
   "cell_type": "code",
   "execution_count": 8,
   "metadata": {
    "ExecuteTime": {
     "end_time": "2020-10-20T02:41:43.468368Z",
     "start_time": "2020-10-20T02:41:43.458306Z"
    }
   },
   "outputs": [
    {
     "name": "stdout",
     "output_type": "stream",
     "text": [
      "Items in the Doubly linked list: \n",
      "PHP\n",
      "Python\n",
      "C#\n",
      "C++\n",
      "Java\n"
     ]
    }
   ],
   "source": [
    "class Node(object):\n",
    "    # Doubly linked node\n",
    "    def __init__(self, data=None, next=None, prev=None):\n",
    "        self.data = data\n",
    "        self.next = next\n",
    "        self.prev = prev\n",
    "\n",
    "\n",
    "class doubly_linked_list(object):\n",
    "    def __init__(self):\n",
    "        self.head = None\n",
    "        self.tail = None\n",
    "        self.count = 0\n",
    "\n",
    "    def append_item(self, data):\n",
    "        # Append an item\n",
    "        new_item = Node(data, None, None)\n",
    "        if self.head is None:\n",
    "            self.head = new_item\n",
    "            self.tail = self.head\n",
    "        else:\n",
    "            new_item.prev = self.tail\n",
    "            self.tail.next = new_item\n",
    "            self.tail = new_item\n",
    "\n",
    "        self.count += 1\n",
    "\n",
    "    def print_foward(self):\n",
    "        for node in self.iter():\n",
    "            print(node)\n",
    "\n",
    "    def iter(self):\n",
    "        # Iterate the list\n",
    "        current = self.head\n",
    "        while current:\n",
    "            item_val = current.data\n",
    "            current = current.next\n",
    "            yield item_val\n",
    "\n",
    "\n",
    "items = doubly_linked_list()\n",
    "items.append_item('PHP')\n",
    "items.append_item('Python')\n",
    "items.append_item('C#')\n",
    "items.append_item('C++')\n",
    "items.append_item('Java')\n",
    "\n",
    "print(\"Items in the Doubly linked list: \")\n",
    "items.print_foward()"
   ]
  },
  {
   "cell_type": "markdown",
   "metadata": {},
   "source": [
    "### Write a Python program to create a doubly linked list and print nodes from current position to first node. Go to the editor\n"
   ]
  },
  {
   "cell_type": "code",
   "execution_count": 9,
   "metadata": {
    "ExecuteTime": {
     "end_time": "2020-10-20T02:42:00.440882Z",
     "start_time": "2020-10-20T02:42:00.430543Z"
    }
   },
   "outputs": [
    {
     "name": "stdout",
     "output_type": "stream",
     "text": [
      "Print Items in the Doubly linked backwards:\n",
      "Java\n",
      "C++\n",
      "C#\n",
      "Python\n",
      "PHP\n"
     ]
    }
   ],
   "source": [
    "class Node(object):\n",
    "    # Doubly linked node\n",
    "    def __init__(self, data=None, next=None, prev=None):\n",
    "        self.data = data\n",
    "        self.next = next\n",
    "        self.prev = prev\n",
    "\n",
    "\n",
    "class doubly_linked_list(object):\n",
    "    def __init__(self):\n",
    "        self.head = None\n",
    "        self.tail = None\n",
    "        self.count = 0\n",
    "\n",
    "    def append_item(self, data):\n",
    "        # Append an item\n",
    "        new_item = Node(data, None, None)\n",
    "        if self.head is None:\n",
    "            self.head = new_item\n",
    "            self.tail = self.head\n",
    "        else:\n",
    "            new_item.prev = self.tail\n",
    "            self.tail.next = new_item\n",
    "            self.tail = new_item\n",
    "\n",
    "        self.count += 1\n",
    "\n",
    "    def print_foward(self):\n",
    "        for node in self.iter():\n",
    "            print(node)\n",
    "\n",
    "    def print_backward(self):\n",
    "        current = self.tail\n",
    "        while current:\n",
    "            print(current.data)\n",
    "            current = current.prev\n",
    "\n",
    "    def iter(self):\n",
    "        # Iterate the list\n",
    "        current = self.head\n",
    "        while current:\n",
    "            item_val = current.data\n",
    "            current = current.next\n",
    "            yield item_val\n",
    "\n",
    "\n",
    "items = doubly_linked_list()\n",
    "items.append_item('PHP')\n",
    "items.append_item('Python')\n",
    "items.append_item('C#')\n",
    "items.append_item('C++')\n",
    "items.append_item('Java')\n",
    "\n",
    "print(\"Print Items in the Doubly linked backwards:\")\n",
    "items.print_backward()"
   ]
  },
  {
   "cell_type": "markdown",
   "metadata": {},
   "source": [
    "### Write a Python program to count the number of items of a given doubly linked list. Go to the editor\n"
   ]
  },
  {
   "cell_type": "code",
   "execution_count": 10,
   "metadata": {
    "ExecuteTime": {
     "end_time": "2020-10-20T02:42:12.820158Z",
     "start_time": "2020-10-20T02:42:12.811501Z"
    }
   },
   "outputs": [
    {
     "name": "stdout",
     "output_type": "stream",
     "text": [
      "Number of items of the  Doubly linked list: 6\n"
     ]
    }
   ],
   "source": [
    "class Node(object):\n",
    "    # Singly linked node\n",
    "    def __init__(self, data=None, next=None, prev=None):\n",
    "        self.data = data\n",
    "        self.next = next\n",
    "        self.prev = prev\n",
    "\n",
    "\n",
    "class doubly_linked_list(object):\n",
    "    def __init__(self):\n",
    "        self.head = None\n",
    "        self.tail = None\n",
    "        self.count = 0\n",
    "\n",
    "    def append_item(self, data):\n",
    "        # Append an item\n",
    "        new_item = Node(data, None, None)\n",
    "        if self.head is None:\n",
    "            self.head = new_item\n",
    "            self.tail = self.head\n",
    "        else:\n",
    "            new_item.prev = self.tail\n",
    "            self.tail.next = new_item\n",
    "            self.tail = new_item\n",
    "\n",
    "        self.count += 1\n",
    "\n",
    "\n",
    "items = doubly_linked_list()\n",
    "items.append_item('PHP')\n",
    "items.append_item('Python')\n",
    "items.append_item('C#')\n",
    "items.append_item('C++')\n",
    "items.append_item('Java')\n",
    "items.append_item('SQL')\n",
    "\n",
    "print(\"Number of items of the  Doubly linked list:\", items.count)"
   ]
  },
  {
   "cell_type": "markdown",
   "metadata": {},
   "source": [
    "### Write a Python program to print a given doubly linked list in reverse order. Go to the editor\n"
   ]
  },
  {
   "cell_type": "code",
   "execution_count": 11,
   "metadata": {
    "ExecuteTime": {
     "end_time": "2020-10-20T02:42:27.359711Z",
     "start_time": "2020-10-20T02:42:27.347828Z"
    }
   },
   "outputs": [
    {
     "name": "stdout",
     "output_type": "stream",
     "text": [
      "Reverse list \n",
      "SQL\n",
      "Java\n",
      "C++\n",
      "C#\n",
      "Python\n",
      "PHP\n"
     ]
    }
   ],
   "source": [
    "class Node(object):\n",
    "    # Singly linked node\n",
    "    def __init__(self, data=None, next=None, prev=None):\n",
    "        self.data = data\n",
    "        self.next = next\n",
    "        self.prev = prev\n",
    "\n",
    "\n",
    "class doubly_linked_list(object):\n",
    "    def __init__(self):\n",
    "        self.head = None\n",
    "        self.tail = None\n",
    "        self.count = 0\n",
    "\n",
    "    def append_item(self, data):\n",
    "        # Append an item\n",
    "        new_item = Node(data, None, None)\n",
    "        if self.head is None:\n",
    "            self.head = new_item\n",
    "            self.tail = self.head\n",
    "        else:\n",
    "            new_item.prev = self.tail\n",
    "            self.tail.next = new_item\n",
    "            self.tail = new_item\n",
    "        self.count += 1\n",
    "\n",
    "    def iter(self):\n",
    "        # Iterate the list\n",
    "        current = self.head\n",
    "        while current:\n",
    "            item_val = current.data\n",
    "            current = current.next\n",
    "            yield item_val\n",
    "\n",
    "    def print_foward(self):\n",
    "        for node in self.iter():\n",
    "            print(node)\n",
    "\n",
    "    def reverse(self):\n",
    "        \"\"\" Reverse linked list. \"\"\"\n",
    "        current = self.head\n",
    "        while current:\n",
    "            temp = current.next\n",
    "            current.next = current.prev\n",
    "            current.prev = temp\n",
    "            current = current.prev\n",
    "        temp = self.head\n",
    "        self.head = self.tail\n",
    "        self.tail = temp\n",
    "\n",
    "\n",
    "items = doubly_linked_list()\n",
    "items.append_item('PHP')\n",
    "items.append_item('Python')\n",
    "items.append_item('C#')\n",
    "items.append_item('C++')\n",
    "items.append_item('Java')\n",
    "items.append_item('SQL')\n",
    "\n",
    "print(\"Reverse list \")\n",
    "items.reverse()\n",
    "items.print_foward()"
   ]
  },
  {
   "cell_type": "markdown",
   "metadata": {},
   "source": [
    "### Write a Python program to insert an item in front of a given doubly linked list. Go to the editor\n"
   ]
  },
  {
   "cell_type": "code",
   "execution_count": 12,
   "metadata": {
    "ExecuteTime": {
     "end_time": "2020-10-20T02:42:45.203692Z",
     "start_time": "2020-10-20T02:42:45.191157Z"
    }
   },
   "outputs": [
    {
     "name": "stdout",
     "output_type": "stream",
     "text": [
      "Original list:\n",
      "PHP\n",
      "Python\n",
      "C#\n",
      "C++\n",
      "Java\n",
      "SQL\n",
      "\n",
      "Append item in front of the list:\n",
      "Perl\n",
      "PHP\n",
      "Python\n",
      "C#\n",
      "C++\n",
      "Java\n",
      "SQL\n"
     ]
    }
   ],
   "source": [
    "class Node(object):\n",
    "    # Singly linked node\n",
    "    def __init__(self, data=None, next=None, prev=None):\n",
    "        self.data = data\n",
    "        self.next = next\n",
    "        self.prev = prev\n",
    "\n",
    "\n",
    "class doubly_linked_list(object):\n",
    "    def __init__(self):\n",
    "        self.head = None\n",
    "        self.tail = None\n",
    "        self.count = 0\n",
    "\n",
    "    def append_item(self, data):\n",
    "        # Append an item\n",
    "        new_item = Node(data, None, None)\n",
    "        if self.head is None:\n",
    "            self.head = new_item\n",
    "            self.tail = self.head\n",
    "        else:\n",
    "            new_item.prev = self.tail\n",
    "            self.tail.next = new_item\n",
    "            self.tail = new_item\n",
    "        self.count += 1\n",
    "\n",
    "    def iter(self):\n",
    "        # Iterate the list\n",
    "        current = self.head\n",
    "        while current:\n",
    "            item_val = current.data\n",
    "            current = current.next\n",
    "            yield item_val\n",
    "\n",
    "    def print_foward(self):\n",
    "        for node in self.iter():\n",
    "            print(node)\n",
    "\n",
    "    def insert_start(self, data):\n",
    "        if self.head is not None:\n",
    "            new_node = Node(data, None, None)\n",
    "            new_node.next = self.head\n",
    "            self.head.prev = new_node\n",
    "            self.head = new_node\n",
    "            self.count += 1\n",
    "\n",
    "\n",
    "items = doubly_linked_list()\n",
    "items.append_item('PHP')\n",
    "items.append_item('Python')\n",
    "items.append_item('C#')\n",
    "items.append_item('C++')\n",
    "items.append_item('Java')\n",
    "items.append_item('SQL')\n",
    "\n",
    "print(\"Original list:\")\n",
    "items.print_foward()\n",
    "print(\"\\nAppend item in front of the list:\")\n",
    "items.insert_start(\"Perl\")\n",
    "items.print_foward()"
   ]
  },
  {
   "cell_type": "markdown",
   "metadata": {},
   "source": [
    "###  Write a Python program to search a specific item in a given doubly linked list and return true if the item is found otherwise return false. Go to the editor\n"
   ]
  },
  {
   "cell_type": "code",
   "execution_count": 13,
   "metadata": {
    "ExecuteTime": {
     "end_time": "2020-10-20T02:43:05.604889Z",
     "start_time": "2020-10-20T02:43:05.586753Z"
    }
   },
   "outputs": [
    {
     "name": "stdout",
     "output_type": "stream",
     "text": [
      "Original list:\n",
      "PHP\n",
      "Python\n",
      "C#\n",
      "C++\n",
      "Java\n",
      "SQL\n",
      "\n",
      "\n",
      "True\n",
      "False\n"
     ]
    }
   ],
   "source": [
    "class Node(object):\n",
    "    # Singly linked node\n",
    "    def __init__(self, data=None, next=None, prev=None):\n",
    "        self.data = data\n",
    "        self.next = next\n",
    "        self.prev = prev\n",
    "\n",
    "\n",
    "class doubly_linked_list(object):\n",
    "    def __init__(self):\n",
    "        self.head = None\n",
    "        self.tail = None\n",
    "        self.count = 0\n",
    "\n",
    "    def append_item(self, data):\n",
    "        # Append an item\n",
    "        new_item = Node(data, None, None)\n",
    "        if self.head is None:\n",
    "            self.head = new_item\n",
    "            self.tail = self.head\n",
    "        else:\n",
    "            new_item.prev = self.tail\n",
    "            self.tail.next = new_item\n",
    "            self.tail = new_item\n",
    "        self.count += 1\n",
    "\n",
    "    def iter(self):\n",
    "        # Iterate the list\n",
    "        current = self.head\n",
    "        while current:\n",
    "            item_val = current.data\n",
    "            current = current.next\n",
    "            yield item_val\n",
    "\n",
    "    def print_foward(self):\n",
    "        for node in self.iter():\n",
    "            print(node)\n",
    "\n",
    "    def search_item(self, val):\n",
    "        for node in self.iter():\n",
    "            if val == node:\n",
    "                return True\n",
    "        return False\n",
    "\n",
    "\n",
    "items = doubly_linked_list()\n",
    "items.append_item('PHP')\n",
    "items.append_item('Python')\n",
    "items.append_item('C#')\n",
    "items.append_item('C++')\n",
    "items.append_item('Java')\n",
    "items.append_item('SQL')\n",
    "\n",
    "print(\"Original list:\")\n",
    "items.print_foward()\n",
    "print(\"\\n\")\n",
    "if items.search_item('SQL'):\n",
    "    print(\"True\")\n",
    "else:\n",
    "    print(\"False\")\n",
    "\n",
    "if items.search_item('C+'):\n",
    "    print(\"True\")\n",
    "else:\n",
    "    print(\"False\")"
   ]
  },
  {
   "cell_type": "markdown",
   "metadata": {},
   "source": [
    "### Write a Python program to delete a specific item from a given doubly linked list. Go to the editor\n"
   ]
  },
  {
   "cell_type": "code",
   "execution_count": 14,
   "metadata": {
    "ExecuteTime": {
     "end_time": "2020-10-20T02:43:19.286639Z",
     "start_time": "2020-10-20T02:43:19.271743Z"
    }
   },
   "outputs": [
    {
     "name": "stdout",
     "output_type": "stream",
     "text": [
      "Original list:\n",
      "PHP\n",
      "Python\n",
      "C#\n",
      "C++\n",
      "Java\n",
      "SQL\n",
      "\n",
      "List after deleting two items:\n",
      "PHP\n",
      "C#\n",
      "C++\n",
      "SQL\n"
     ]
    }
   ],
   "source": [
    "class Node(object):\n",
    "    # Singly linked node\n",
    "    def __init__(self, value=None, next=None, prev=None):\n",
    "        self.value = value\n",
    "        self.next = next\n",
    "        self.prev = prev\n",
    "\n",
    "\n",
    "class doubly_linked_list(object):\n",
    "    def __init__(self):\n",
    "        self.head = None\n",
    "        self.tail = None\n",
    "        self.count = 0\n",
    "\n",
    "    def append_item(self, value):\n",
    "        # Append an item\n",
    "        new_item = Node(value, None, None)\n",
    "        if self.head is None:\n",
    "            self.head = new_item\n",
    "            self.tail = self.head\n",
    "        else:\n",
    "            new_item.prev = self.tail\n",
    "            self.tail.next = new_item\n",
    "            self.tail = new_item\n",
    "        self.count += 1\n",
    "\n",
    "    def iter(self):\n",
    "        # Iterate the list\n",
    "        current = self.head\n",
    "        while current:\n",
    "            item_val = current.value\n",
    "            current = current.next\n",
    "            yield item_val\n",
    "\n",
    "    def print_foward(self):\n",
    "        for node in self.iter():\n",
    "            print(node)\n",
    "\n",
    "    def search_item(self, val):\n",
    "        for node in self.iter():\n",
    "            if val == node:\n",
    "                return True\n",
    "        return False\n",
    "\n",
    "    def delete(self, value):\n",
    "        # Delete a specific item\n",
    "        current = self.head\n",
    "        node_deleted = False\n",
    "        if current is None:\n",
    "            node_deleted = False\n",
    "\n",
    "        elif current.value == value:\n",
    "            self.head = current.next\n",
    "            self.head.prev = None\n",
    "            node_deleted = True\n",
    "\n",
    "        elif self.tail.value == value:\n",
    "            self.tail = self.tail.prev\n",
    "            self.tail.next = None\n",
    "            node_deleted = True\n",
    "\n",
    "        else:\n",
    "            while current:\n",
    "                if current.value == value:\n",
    "                    current.prev.next = current.next\n",
    "                    current.next.prev = current.prev\n",
    "                    node_deleted = True\n",
    "                current = current.next\n",
    "\n",
    "        if node_deleted:\n",
    "            self.count -= 1\n",
    "\n",
    "\n",
    "items = doubly_linked_list()\n",
    "items.append_item('PHP')\n",
    "items.append_item('Python')\n",
    "items.append_item('C#')\n",
    "items.append_item('C++')\n",
    "items.append_item('Java')\n",
    "items.append_item('SQL')\n",
    "\n",
    "print(\"Original list:\")\n",
    "items.print_foward()\n",
    "\n",
    "items.delete(\"Java\")\n",
    "items.delete(\"Python\")\n",
    "print(\"\\nList after deleting two items:\")\n",
    "items.print_foward()"
   ]
  }
 ],
 "metadata": {
  "kernelspec": {
   "display_name": "Python 3",
   "language": "python",
   "name": "python3"
  },
  "language_info": {
   "codemirror_mode": {
    "name": "ipython",
    "version": 3
   },
   "file_extension": ".py",
   "mimetype": "text/x-python",
   "name": "python",
   "nbconvert_exporter": "python",
   "pygments_lexer": "ipython3",
   "version": "3.7.4"
  },
  "toc": {
   "base_numbering": 1,
   "nav_menu": {},
   "number_sections": true,
   "sideBar": true,
   "skip_h1_title": false,
   "title_cell": "Table of Contents",
   "title_sidebar": "Contents",
   "toc_cell": false,
   "toc_position": {},
   "toc_section_display": true,
   "toc_window_display": false
  },
  "varInspector": {
   "cols": {
    "lenName": 16,
    "lenType": 16,
    "lenVar": 40
   },
   "kernels_config": {
    "python": {
     "delete_cmd_postfix": "",
     "delete_cmd_prefix": "del ",
     "library": "var_list.py",
     "varRefreshCmd": "print(var_dic_list())"
    },
    "r": {
     "delete_cmd_postfix": ") ",
     "delete_cmd_prefix": "rm(",
     "library": "var_list.r",
     "varRefreshCmd": "cat(var_dic_list()) "
    }
   },
   "types_to_exclude": [
    "module",
    "function",
    "builtin_function_or_method",
    "instance",
    "_Feature"
   ],
   "window_display": false
  }
 },
 "nbformat": 4,
 "nbformat_minor": 2
}
