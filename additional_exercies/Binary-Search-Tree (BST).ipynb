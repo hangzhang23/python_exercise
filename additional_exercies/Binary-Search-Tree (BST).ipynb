{
 "cells": [
  {
   "cell_type": "markdown",
   "metadata": {},
   "source": [
    "---\n",
    "## Python: Binary Search Tree (BST)- Exercises, Practice, Solution\n",
    "---"
   ]
  },
  {
   "cell_type": "markdown",
   "metadata": {},
   "source": [
    "### Write a Python program to create a Balanced Binary Search Tree (BST) using an array (given) elements where array elements are sorted in ascending order. Go to the editor\n"
   ]
  },
  {
   "cell_type": "markdown",
   "metadata": {},
   "source": [
    "**Pictorial Presentation:**\n",
    "<img src='https://images-cdn.shimo.im/dT2aQMIRaJRfbeEx.png' style=\"width: 50%\">"
   ]
  },
  {
   "cell_type": "code",
   "execution_count": 1,
   "metadata": {
    "ExecuteTime": {
     "end_time": "2020-10-20T02:46:48.582584Z",
     "start_time": "2020-10-20T02:46:48.576626Z"
    }
   },
   "outputs": [
    {
     "name": "stdout",
     "output_type": "stream",
     "text": [
      "4\n",
      "2\n",
      "1\n",
      "3\n",
      "6\n",
      "5\n",
      "7\n"
     ]
    }
   ],
   "source": [
    "class TreeNode(object):\n",
    "    def __init__(self, x):\n",
    "        self.val = x\n",
    "        self.left = None\n",
    "        self.right = None\n",
    "\n",
    "\n",
    "def sorted_array_to_bst(nums):\n",
    "\n",
    "    if not nums:\n",
    "        return None\n",
    "    mid_val = len(nums)//2\n",
    "    node = TreeNode(nums[mid_val])\n",
    "    node.left = sorted_array_to_bst(nums[:mid_val])\n",
    "    node.right = sorted_array_to_bst(nums[mid_val+1:])\n",
    "    return node\n",
    "\n",
    "\n",
    "def preOrder(node):\n",
    "    if not node:\n",
    "        return\n",
    "    print(node.val)\n",
    "    preOrder(node.left)\n",
    "    preOrder(node.right)\n",
    "\n",
    "\n",
    "result = sorted_array_to_bst([1, 2, 3, 4, 5, 6, 7])\n",
    "preOrder(result)"
   ]
  },
  {
   "cell_type": "markdown",
   "metadata": {},
   "source": [
    "### Write a Python program to find the closest value of a given target value in a given non-empty Binary Search Tree (BST) of unique values. Go to the editor\n"
   ]
  },
  {
   "cell_type": "code",
   "execution_count": 2,
   "metadata": {
    "ExecuteTime": {
     "end_time": "2020-10-20T02:50:13.034795Z",
     "start_time": "2020-10-20T02:50:13.026351Z"
    }
   },
   "outputs": [
    {
     "name": "stdout",
     "output_type": "stream",
     "text": [
      "22\n"
     ]
    }
   ],
   "source": [
    "class TreeNode(object):\n",
    "    def __init__(self, x):\n",
    "        self.val = x\n",
    "        self.left = None\n",
    "        self.right = None\n",
    "\n",
    "\n",
    "def closest_value(root, target):\n",
    "    a = root.val\n",
    "    kid = root.left if target < a else root.right\n",
    "    if not kid:\n",
    "        return a\n",
    "    b = closest_value(kid, target)\n",
    "    return min((a, b), key=lambda x: abs(target-x))\n",
    "\n",
    "\n",
    "root = TreeNode(8)\n",
    "root.left = TreeNode(5)\n",
    "root.right = TreeNode(14)\n",
    "root.left.left = TreeNode(4)\n",
    "root.left.right = TreeNode(6)\n",
    "root.left.right.left = TreeNode(8)\n",
    "root.left.right.right = TreeNode(7)\n",
    "root.right.right = TreeNode(24)\n",
    "root.right.right.left = TreeNode(22)\n",
    "\n",
    "result = closest_value(root, 19)\n",
    "print(result)"
   ]
  },
  {
   "cell_type": "markdown",
   "metadata": {},
   "source": [
    "### Write a Python program to check whether a given a binary tree is a valid binary search tree (BST) or not. Go to the editor\n",
    "```\n",
    "Let a binary search tree (BST) is defined as follows:\n",
    "The left subtree of a node contains only nodes with keys less than the node's key.\n",
    "The right subtree of a node contains only nodes with keys greater than the node's key.\n",
    "Both the left and right subtrees must also be binary search trees.\n",
    "Example 1:\n",
    "    2\n",
    "   / \\\n",
    "  1   3\n",
    "Binary tree [2,1,3], return true.\n",
    "Example 2:\n",
    "    1\n",
    "   / \\\n",
    "  2   3\n",
    "Binary tree [1,2,3], return false.\n",
    "```\n"
   ]
  },
  {
   "cell_type": "code",
   "execution_count": 3,
   "metadata": {
    "ExecuteTime": {
     "end_time": "2020-10-20T02:50:32.947272Z",
     "start_time": "2020-10-20T02:50:32.938409Z"
    }
   },
   "outputs": [
    {
     "name": "stdout",
     "output_type": "stream",
     "text": [
      "True\n",
      "False\n"
     ]
    }
   ],
   "source": [
    "class TreeNode(object):\n",
    "    def __init__(self, x):\n",
    "        self.val = x\n",
    "        self.left = None\n",
    "        self.right = None\n",
    "\n",
    "\n",
    "def is_BST(root):\n",
    "    stack = []\n",
    "    prev = None\n",
    "\n",
    "    while root or stack:\n",
    "        while root:\n",
    "            stack.append(root)\n",
    "            root = root.left\n",
    "        root = stack.pop()\n",
    "        if prev and root.val <= prev.val:\n",
    "            return False\n",
    "        prev = root\n",
    "        root = root.right\n",
    "    return True\n",
    "\n",
    "\n",
    "root = TreeNode(2)\n",
    "root.left = TreeNode(1)\n",
    "root.right = TreeNode(3)\n",
    "\n",
    "result = is_BST(root)\n",
    "print(result)\n",
    "\n",
    "root = TreeNode(1)\n",
    "root.left = TreeNode(2)\n",
    "root.right = TreeNode(3)\n",
    "\n",
    "result = is_BST(root)\n",
    "print(result)"
   ]
  },
  {
   "cell_type": "markdown",
   "metadata": {},
   "source": [
    "### Write a Python program to delete a node with the given key in a given Binary search tree (BST). Go to the editor\n",
    "`Note: Search for a node to remove. If the node is found, delete the node.`\n"
   ]
  },
  {
   "cell_type": "code",
   "execution_count": 4,
   "metadata": {
    "ExecuteTime": {
     "end_time": "2020-10-20T02:50:48.022716Z",
     "start_time": "2020-10-20T02:50:48.010907Z"
    }
   },
   "outputs": [
    {
     "name": "stdout",
     "output_type": "stream",
     "text": [
      "Original node:\n",
      "5\n",
      "3\n",
      "2\n",
      "4\n",
      "7\n",
      "6\n",
      "None\n",
      "After deleting specified node:\n",
      "5\n",
      "3\n",
      "2\n",
      "7\n",
      "6\n",
      "None\n"
     ]
    }
   ],
   "source": [
    "# Definition: Binary tree node.\n",
    "class TreeNode(object):\n",
    "    def __init__(self, x):\n",
    "        self.val = x\n",
    "        self.left = None\n",
    "        self.right = None\n",
    "\n",
    "\n",
    "def delete_Node(root, key):\n",
    "  # if root doesn't exist, just return it\n",
    "    if not root:\n",
    "        return root\n",
    "    # Find the node in the left subtree\tif key value is less than root value\n",
    "    if root.val > key:\n",
    "        root.left = delete_Node(root.left, key)\n",
    "    # Find the node in right subtree if key value is greater than root value,\n",
    "    elif root.val < key:\n",
    "        root.right = delete_Node(root.right, key)\n",
    "    # Delete the node if root.value == key\n",
    "    else:\n",
    "        # If there is no right children delete the node and new root would be root.left\n",
    "        if not root.right:\n",
    "            return root.left\n",
    "    # If there is no left children delete the node and new root would be root.right\n",
    "        if not root.left:\n",
    "            return root.right\n",
    "  # If both left and right children exist in the node replace its value with\n",
    "  # the minmimum value in the right subtree. Now delete that minimum node\n",
    "  # in the right subtree\n",
    "        temp_val = root.right\n",
    "        mini_val = temp_val.val\n",
    "        while temp_val.left:\n",
    "            temp_val = temp_val.left\n",
    "            mini_val = temp_val.val\n",
    "  # Delete the minimum node in right subtree\n",
    "        root.right = deleteNode(root.right, root.val)\n",
    "    return root\n",
    "\n",
    "\n",
    "def preOrder(node):\n",
    "    if not node:\n",
    "        return\n",
    "    print(node.val)\n",
    "    preOrder(node.left)\n",
    "    preOrder(node.right)\n",
    "\n",
    "\n",
    "root = TreeNode(5)\n",
    "root.left = TreeNode(3)\n",
    "root.right = TreeNode(6)\n",
    "root.left.left = TreeNode(2)\n",
    "root.left.right = TreeNode(4)\n",
    "root.left.right.left = TreeNode(7)\n",
    "print(\"Original node:\")\n",
    "print(preOrder(root))\n",
    "result = delete_Node(root, 4)\n",
    "print(\"After deleting specified node:\")\n",
    "print(preOrder(result))"
   ]
  },
  {
   "cell_type": "markdown",
   "metadata": {},
   "source": [
    "### Write a Python program to convert a given array elements to a height balanced Binary Search Tree (BST). Go to the editor\n",
    "`Note: The selection sort improves on the bubble sort by making only one exchange for every pass through the list.`"
   ]
  },
  {
   "cell_type": "code",
   "execution_count": 5,
   "metadata": {
    "ExecuteTime": {
     "end_time": "2020-10-20T02:51:02.950899Z",
     "start_time": "2020-10-20T02:51:02.943280Z"
    }
   },
   "outputs": [
    {
     "name": "stdout",
     "output_type": "stream",
     "text": [
      "Original array:\n",
      "[1, 2, 3, 4, 5, 6, 7]\n",
      "\n",
      "Array to a height balanced BST:\n",
      "4\n",
      "2\n",
      "1\n",
      "3\n",
      "6\n",
      "5\n",
      "7\n",
      "None\n"
     ]
    }
   ],
   "source": [
    "class TreeNode(object):\n",
    "    def __init__(self, x):\n",
    "        self.val = x\n",
    "        self.left = None\n",
    "        self.right = None\n",
    "\n",
    "\n",
    "def array_to_bst(array_nums):\n",
    "    if not array_nums:\n",
    "        return None\n",
    "    mid_num = len(array_nums)//2\n",
    "    node = TreeNode(array_nums[mid_num])\n",
    "    node.left = array_to_bst(array_nums[:mid_num])\n",
    "    node.right = array_to_bst(array_nums[mid_num+1:])\n",
    "    return node\n",
    "\n",
    "\n",
    "def preOrder(node):\n",
    "    if not node:\n",
    "        return\n",
    "    print(node.val)\n",
    "    preOrder(node.left)\n",
    "    preOrder(node.right)\n",
    "\n",
    "\n",
    "array_nums = [1, 2, 3, 4, 5, 6, 7]\n",
    "\n",
    "print(\"Original array:\")\n",
    "print(array_nums)\n",
    "result = array_to_bst(array_nums)\n",
    "print(\"\\nArray to a height balanced BST:\")\n",
    "print(preOrder(result))"
   ]
  },
  {
   "cell_type": "markdown",
   "metadata": {},
   "source": [
    "### Write a Python program to find the kth smallest element in a given a binary search tree. Go to the editor\n"
   ]
  },
  {
   "cell_type": "code",
   "execution_count": 6,
   "metadata": {
    "ExecuteTime": {
     "end_time": "2020-10-20T02:51:37.918648Z",
     "start_time": "2020-10-20T02:51:37.910445Z"
    }
   },
   "outputs": [
    {
     "name": "stdout",
     "output_type": "stream",
     "text": [
      "5\n",
      "8\n"
     ]
    }
   ],
   "source": [
    "class TreeNode(object):\n",
    "    def __init__(self, x):\n",
    "        self.val = x\n",
    "        self.left = None\n",
    "        self.right = None\n",
    "\n",
    "\n",
    "def kth_smallest(root, k):\n",
    "    stack = []\n",
    "    while root or stack:\n",
    "        while root:\n",
    "            stack.append(root)\n",
    "            root = root.left\n",
    "        root = stack.pop()\n",
    "        k -= 1\n",
    "        if k == 0:\n",
    "            break\n",
    "        root = root.right\n",
    "    return root.val\n",
    "\n",
    "\n",
    "root = TreeNode(8)\n",
    "root.left = TreeNode(5)\n",
    "root.right = TreeNode(14)\n",
    "root.left.left = TreeNode(4)\n",
    "root.left.right = TreeNode(6)\n",
    "root.left.right.left = TreeNode(8)\n",
    "root.left.right.right = TreeNode(7)\n",
    "root.right.right = TreeNode(24)\n",
    "root.right.right.left = TreeNode(22)\n",
    "\n",
    "print(kth_smallest(root, 2))\n",
    "print(kth_smallest(root, 3))"
   ]
  }
 ],
 "metadata": {
  "kernelspec": {
   "display_name": "Python 3",
   "language": "python",
   "name": "python3"
  },
  "language_info": {
   "codemirror_mode": {
    "name": "ipython",
    "version": 3
   },
   "file_extension": ".py",
   "mimetype": "text/x-python",
   "name": "python",
   "nbconvert_exporter": "python",
   "pygments_lexer": "ipython3",
   "version": "3.7.4"
  },
  "toc": {
   "base_numbering": 1,
   "nav_menu": {},
   "number_sections": true,
   "sideBar": true,
   "skip_h1_title": false,
   "title_cell": "Table of Contents",
   "title_sidebar": "Contents",
   "toc_cell": false,
   "toc_position": {},
   "toc_section_display": true,
   "toc_window_display": false
  },
  "varInspector": {
   "cols": {
    "lenName": 16,
    "lenType": 16,
    "lenVar": 40
   },
   "kernels_config": {
    "python": {
     "delete_cmd_postfix": "",
     "delete_cmd_prefix": "del ",
     "library": "var_list.py",
     "varRefreshCmd": "print(var_dic_list())"
    },
    "r": {
     "delete_cmd_postfix": ") ",
     "delete_cmd_prefix": "rm(",
     "library": "var_list.r",
     "varRefreshCmd": "cat(var_dic_list()) "
    }
   },
   "types_to_exclude": [
    "module",
    "function",
    "builtin_function_or_method",
    "instance",
    "_Feature"
   ],
   "window_display": false
  }
 },
 "nbformat": 4,
 "nbformat_minor": 2
}
